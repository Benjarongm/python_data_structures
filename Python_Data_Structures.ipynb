{
  "nbformat": 4,
  "nbformat_minor": 0,
  "metadata": {
    "colab": {
      "provenance": [],
      "toc_visible": true
    },
    "kernelspec": {
      "name": "python3",
      "display_name": "Python 3"
    },
    "language_info": {
      "name": "python"
    }
  },
  "cells": [
    {
      "cell_type": "code",
      "execution_count": null,
      "metadata": {
        "colab": {
          "base_uri": "https://localhost:8080/"
        },
        "id": "eUsenTNOLpb7",
        "outputId": "5e9fad12-39d5-4132-f9ca-44a7fe3c3a91"
      },
      "outputs": [
        {
          "output_type": "stream",
          "name": "stdout",
          "text": [
            "hello\n"
          ]
        }
      ],
      "source": [
        "print('hello')"
      ]
    },
    {
      "cell_type": "markdown",
      "source": [],
      "metadata": {
        "id": "oFGAD1jNns-Q"
      }
    },
    {
      "cell_type": "code",
      "source": [
        "print(\"Hello\")"
      ],
      "metadata": {
        "colab": {
          "base_uri": "https://localhost:8080/"
        },
        "id": "9bG-QiuQMDib",
        "outputId": "a3fb4e33-5135-4dc0-c2c1-0c7f3f420c6b"
      },
      "execution_count": null,
      "outputs": [
        {
          "output_type": "stream",
          "name": "stdout",
          "text": [
            "Hello\n"
          ]
        }
      ]
    },
    {
      "cell_type": "code",
      "source": [
        "print('Hello word')"
      ],
      "metadata": {
        "colab": {
          "base_uri": "https://localhost:8080/"
        },
        "id": "w9FCvi7bMRCG",
        "outputId": "48e6ce7b-6750-4bc4-d513-98a55e5952f8"
      },
      "execution_count": null,
      "outputs": [
        {
          "output_type": "stream",
          "name": "stdout",
          "text": [
            "Hello word\n"
          ]
        }
      ]
    },
    {
      "cell_type": "code",
      "source": [
        "print(\"Hello World\")"
      ],
      "metadata": {
        "colab": {
          "base_uri": "https://localhost:8080/"
        },
        "id": "ZaIDarC-MR5c",
        "outputId": "d9ac78c1-135f-4ec5-99d4-c13ec3861b34"
      },
      "execution_count": null,
      "outputs": [
        {
          "output_type": "stream",
          "name": "stdout",
          "text": [
            "Hello World\n"
          ]
        }
      ]
    },
    {
      "cell_type": "code",
      "source": [
        "print('Hello_python')"
      ],
      "metadata": {
        "colab": {
          "base_uri": "https://localhost:8080/"
        },
        "id": "lVkKJpWPMR81",
        "outputId": "f969c04c-67c2-4824-84c1-dbc838f638c4"
      },
      "execution_count": null,
      "outputs": [
        {
          "output_type": "stream",
          "name": "stdout",
          "text": [
            "Hello_python\n"
          ]
        }
      ]
    },
    {
      "cell_type": "code",
      "source": [
        "print(\"Hello_python\")"
      ],
      "metadata": {
        "colab": {
          "base_uri": "https://localhost:8080/"
        },
        "id": "QUGqVD01MSAw",
        "outputId": "0400e527-a571-425e-9688-fd8080236320"
      },
      "execution_count": null,
      "outputs": [
        {
          "output_type": "stream",
          "name": "stdout",
          "text": [
            "Hello_python\n"
          ]
        }
      ]
    },
    {
      "cell_type": "code",
      "source": [
        "print(\"Merry X'mas\")"
      ],
      "metadata": {
        "colab": {
          "base_uri": "https://localhost:8080/"
        },
        "id": "dyh3Ozj6MSEc",
        "outputId": "8ec81a0e-4ce0-497f-eb94-c1d02e8d3cde"
      },
      "execution_count": null,
      "outputs": [
        {
          "output_type": "stream",
          "name": "stdout",
          "text": [
            "Merry X'mas\n"
          ]
        }
      ]
    },
    {
      "cell_type": "code",
      "source": [
        "print('Merry X\\'mas')"
      ],
      "metadata": {
        "colab": {
          "base_uri": "https://localhost:8080/"
        },
        "id": "nijDhDs2MSHl",
        "outputId": "fde6f7af-28da-4d0d-cd5a-f2ffc8337e06"
      },
      "execution_count": null,
      "outputs": [
        {
          "output_type": "stream",
          "name": "stdout",
          "text": [
            "Merry X'mas\n"
          ]
        }
      ]
    },
    {
      "cell_type": "code",
      "source": [
        "print('I want to ask you \"Why don\\'t you drive to work ?\"')"
      ],
      "metadata": {
        "colab": {
          "base_uri": "https://localhost:8080/"
        },
        "id": "RHd3kvI0MSKk",
        "outputId": "2a842c9b-a592-47f9-f6f1-e31acd9ab232"
      },
      "execution_count": null,
      "outputs": [
        {
          "output_type": "stream",
          "name": "stdout",
          "text": [
            "I want to ask you \"Why don't you drive to work ?\"\n"
          ]
        }
      ]
    },
    {
      "cell_type": "code",
      "source": [
        "print(\"I want to ask you \\\"Why don't you drive to work ?\\\"\")"
      ],
      "metadata": {
        "colab": {
          "base_uri": "https://localhost:8080/"
        },
        "id": "MGt9ytoiNdXl",
        "outputId": "68a2d52f-2e6b-4af8-ccda-21f5073f7919"
      },
      "execution_count": null,
      "outputs": [
        {
          "output_type": "stream",
          "name": "stdout",
          "text": [
            "I want to ask you \"Why don't you drive to work ?\"\n"
          ]
        }
      ]
    },
    {
      "cell_type": "code",
      "source": [
        "print('\"I don\\'t have a car\\\"')"
      ],
      "metadata": {
        "colab": {
          "base_uri": "https://localhost:8080/"
        },
        "id": "j032rBrtNdcB",
        "outputId": "a1110e84-38de-4722-da08-b78a3f484b1b"
      },
      "execution_count": null,
      "outputs": [
        {
          "output_type": "stream",
          "name": "stdout",
          "text": [
            "\"I don't have a car\"\n"
          ]
        }
      ]
    },
    {
      "cell_type": "code",
      "source": [
        "print(\"\\\"I don 't have a car\\\"\")"
      ],
      "metadata": {
        "colab": {
          "base_uri": "https://localhost:8080/"
        },
        "id": "EYDOzOf_OeAO",
        "outputId": "dcc1a9e2-4be2-4848-a20e-49cabe30a0ef"
      },
      "execution_count": null,
      "outputs": [
        {
          "output_type": "stream",
          "name": "stdout",
          "text": [
            "\"I don 't have a car\"\n"
          ]
        }
      ]
    },
    {
      "cell_type": "code",
      "source": [
        "print(\"You got a new job !? That's so exciting !\")"
      ],
      "metadata": {
        "id": "ElYh3vCEOeDm",
        "colab": {
          "base_uri": "https://localhost:8080/"
        },
        "outputId": "6a09f959-d4cc-4dce-ae7c-e9523d1bbd29"
      },
      "execution_count": null,
      "outputs": [
        {
          "output_type": "stream",
          "name": "stdout",
          "text": [
            "You got a new job !? That's so exciting !\n"
          ]
        }
      ]
    },
    {
      "cell_type": "code",
      "source": [
        "print('You got a new job !? That\\'s so exciting')"
      ],
      "metadata": {
        "id": "H2MwvY3pOeJs",
        "colab": {
          "base_uri": "https://localhost:8080/"
        },
        "outputId": "7d58990f-eb5f-4898-8002-c589fc3d0c15"
      },
      "execution_count": null,
      "outputs": [
        {
          "output_type": "stream",
          "name": "stdout",
          "text": [
            "You got a new job !? That's so exciting\n"
          ]
        }
      ]
    },
    {
      "cell_type": "code",
      "source": [
        "print('สวัสดีวันจันทร์')"
      ],
      "metadata": {
        "colab": {
          "base_uri": "https://localhost:8080/"
        },
        "id": "RPjfQumTP5r-",
        "outputId": "b4015c6b-1cfb-45b9-8d79-7cea9ed8ea37"
      },
      "execution_count": null,
      "outputs": [
        {
          "output_type": "stream",
          "name": "stdout",
          "text": [
            "สวัสดีวันนจันทร์\n"
          ]
        }
      ]
    },
    {
      "cell_type": "code",
      "source": [
        "print(\"สวัสดีวันจันทร์\")"
      ],
      "metadata": {
        "colab": {
          "base_uri": "https://localhost:8080/"
        },
        "id": "Siyn-_1RP5vF",
        "outputId": "c9e2f75c-8836-40ca-8249-ab4ab135441e"
      },
      "execution_count": null,
      "outputs": [
        {
          "output_type": "stream",
          "name": "stdout",
          "text": [
            "สวัสดีวันจันทร์\n"
          ]
        }
      ]
    },
    {
      "cell_type": "code",
      "source": [
        "print('ความแตกต่างระหว่างคนเก่งกับคนไม่เก่ง คือ \"การใช้เวลาว่างให้เป็นประโยชน์\"')"
      ],
      "metadata": {
        "colab": {
          "base_uri": "https://localhost:8080/"
        },
        "id": "iDGUxzdrP5yW",
        "outputId": "dabf4616-c66a-4e9b-f3b0-c77abd17743c"
      },
      "execution_count": null,
      "outputs": [
        {
          "output_type": "stream",
          "name": "stdout",
          "text": [
            "ความแตกต่างระหว่างคนเก่งกับคนไม่เก่ง คือ \"การใช้เวลาว่างให้เป็นประโยชน์\"\n"
          ]
        }
      ]
    },
    {
      "cell_type": "code",
      "source": [
        "print(\"ความแตกต่างกับคนเก่งกับคนไม่เก่ง คือ การใช้เวลาว่างให้เป็นประโยชน์\")"
      ],
      "metadata": {
        "colab": {
          "base_uri": "https://localhost:8080/"
        },
        "id": "Z8MDBdXAP51l",
        "outputId": "ed3c915d-9ca6-4697-cf9b-b1a05814fe9e"
      },
      "execution_count": null,
      "outputs": [
        {
          "output_type": "stream",
          "name": "stdout",
          "text": [
            "ความแตกต่างกับคนเก่งกับคนไม่เก่ง คือ การใช้เวลาว่างให้เป็นประโยชน์\n"
          ]
        }
      ]
    },
    {
      "cell_type": "code",
      "source": [
        "print('/\\\\/\\\\/\\\\')"
      ],
      "metadata": {
        "colab": {
          "base_uri": "https://localhost:8080/"
        },
        "id": "akZ7wQYDP54n",
        "outputId": "72ad9435-47c0-482f-d623-48cf8e70dac2"
      },
      "execution_count": null,
      "outputs": [
        {
          "output_type": "stream",
          "name": "stdout",
          "text": [
            "/\\/\\/\\\n"
          ]
        }
      ]
    },
    {
      "cell_type": "code",
      "source": [
        "print(\"/\\\\/\\\\/\\\\\")"
      ],
      "metadata": {
        "colab": {
          "base_uri": "https://localhost:8080/"
        },
        "id": "3a6MxC6GP58O",
        "outputId": "f01ef65c-44a8-4753-e761-a4c7d42a40f4"
      },
      "execution_count": null,
      "outputs": [
        {
          "output_type": "stream",
          "name": "stdout",
          "text": [
            "/\\/\\/\\\n"
          ]
        }
      ]
    },
    {
      "cell_type": "code",
      "source": [
        "print('''a\n",
        "an\n",
        "ant''')"
      ],
      "metadata": {
        "colab": {
          "base_uri": "https://localhost:8080/"
        },
        "id": "l9djq8kxP6Al",
        "outputId": "bafdf461-21c0-4e28-da99-c996eeb0cdeb"
      },
      "execution_count": null,
      "outputs": [
        {
          "output_type": "stream",
          "name": "stdout",
          "text": [
            "a\n",
            "an\n",
            "ant\n"
          ]
        }
      ]
    },
    {
      "cell_type": "code",
      "source": [
        "print(\"\"\"a\n",
        "an\n",
        "ant\"\"\")"
      ],
      "metadata": {
        "colab": {
          "base_uri": "https://localhost:8080/"
        },
        "id": "xYM9w5SCTHlj",
        "outputId": "aa60f89b-9fe3-4f69-9ef2-68d5d01e90fc"
      },
      "execution_count": null,
      "outputs": [
        {
          "output_type": "stream",
          "name": "stdout",
          "text": [
            "a\n",
            "an\n",
            "ant\n"
          ]
        }
      ]
    },
    {
      "cell_type": "code",
      "source": [
        "print('''\\t*\n",
        "*\\t*\\t*\n",
        "\\t*''')"
      ],
      "metadata": {
        "colab": {
          "base_uri": "https://localhost:8080/"
        },
        "id": "c3g9YYI6THpB",
        "outputId": "6461b3db-29b1-47aa-c7f7-ce78d59f91a4"
      },
      "execution_count": null,
      "outputs": [
        {
          "output_type": "stream",
          "name": "stdout",
          "text": [
            "\t*\n",
            "*\t*\t*\n",
            "\t*\n"
          ]
        }
      ]
    },
    {
      "cell_type": "code",
      "source": [
        "print(\"\"\"\\t*\n",
        "*\\t*\\t*\n",
        "\\t*\"\"\")"
      ],
      "metadata": {
        "colab": {
          "base_uri": "https://localhost:8080/"
        },
        "id": "v8SrUli7THsj",
        "outputId": "1c248230-ce41-4043-8b8b-c956320bd862"
      },
      "execution_count": null,
      "outputs": [
        {
          "output_type": "stream",
          "name": "stdout",
          "text": [
            "\t*\n",
            "*\t*\t*\n",
            "\t*\n"
          ]
        }
      ]
    },
    {
      "cell_type": "code",
      "source": [
        "print('''*\\t+\\t*\n",
        "+\\t*\\t+\n",
        "*\\t+\\t*''')"
      ],
      "metadata": {
        "colab": {
          "base_uri": "https://localhost:8080/"
        },
        "id": "YDNZYWDiTHwB",
        "outputId": "43a496d4-c1f9-4977-fdc0-254e45c51061"
      },
      "execution_count": null,
      "outputs": [
        {
          "output_type": "stream",
          "name": "stdout",
          "text": [
            "*\t+\t*\n",
            "+\t*\t+\n",
            "*\t+\t*\n"
          ]
        }
      ]
    },
    {
      "cell_type": "code",
      "source": [
        "print(\"\"\"*\\t+\\t*\n",
        "+\\t*\\t+\n",
        "*\\t+\\t*\"\"\")"
      ],
      "metadata": {
        "colab": {
          "base_uri": "https://localhost:8080/"
        },
        "id": "HuXHyjDZTHzi",
        "outputId": "b98c2240-4823-4732-c46f-9af6fb7b0871"
      },
      "execution_count": null,
      "outputs": [
        {
          "output_type": "stream",
          "name": "stdout",
          "text": [
            "*\t+\t*\n",
            "+\t*\t+\n",
            "*\t+\t*\n"
          ]
        }
      ]
    },
    {
      "cell_type": "code",
      "source": [
        "print(\"\"\"Just because something\n",
        "thinks differently from you,\n",
        "does that mean it's not thinking ?\"\"\")"
      ],
      "metadata": {
        "colab": {
          "base_uri": "https://localhost:8080/"
        },
        "id": "r_8SJkx1TH25",
        "outputId": "61070fbc-3f9e-42cb-c395-359e69aac659"
      },
      "execution_count": null,
      "outputs": [
        {
          "output_type": "stream",
          "name": "stdout",
          "text": [
            "Just because something\n",
            "thinks differently from you,\n",
            "does that mean it's not thinking ?\n"
          ]
        }
      ]
    },
    {
      "cell_type": "code",
      "source": [
        "print('''Just becauhse somthing\n",
        "thinks differently from you,\n",
        "does that mean it's not thinking ?''')"
      ],
      "metadata": {
        "colab": {
          "base_uri": "https://localhost:8080/"
        },
        "id": "LkMlgyUxTH6M",
        "outputId": "91d0886c-9f4f-4fa7-d11e-4e73d65f17c4"
      },
      "execution_count": null,
      "outputs": [
        {
          "output_type": "stream",
          "name": "stdout",
          "text": [
            "Just becauhse somthing\n",
            "thinks differently from you,\n",
            "does that mean it's not thinking ?\n"
          ]
        }
      ]
    },
    {
      "cell_type": "code",
      "source": [
        "print('''\\\\\\t\\t/\n",
        "\\tx\n",
        "/\\t\\t\\\\''')"
      ],
      "metadata": {
        "colab": {
          "base_uri": "https://localhost:8080/"
        },
        "id": "IVB2mtwLVF-f",
        "outputId": "bb203b35-b12a-4516-b268-d68092f6a9e0"
      },
      "execution_count": null,
      "outputs": [
        {
          "output_type": "stream",
          "name": "stdout",
          "text": [
            "\\\t\t/\n",
            "\tx\n",
            "/\t\t\\\n"
          ]
        }
      ]
    },
    {
      "cell_type": "code",
      "source": [
        "print(\"\"\"\\\\\\t\\t/\n",
        "\\tx\n",
        "/\\t\\t\\\\\"\"\")"
      ],
      "metadata": {
        "colab": {
          "base_uri": "https://localhost:8080/"
        },
        "id": "2RubowaTVGB-",
        "outputId": "c7c8aca3-925d-4356-81da-ffc6bfe1a001"
      },
      "execution_count": null,
      "outputs": [
        {
          "output_type": "stream",
          "name": "stdout",
          "text": [
            "\\\t\t/\n",
            "\tx\n",
            "/\t\t\\\n"
          ]
        }
      ]
    },
    {
      "cell_type": "markdown",
      "source": [
        "# Print Numeric"
      ],
      "metadata": {
        "id": "7g-A9lcXWLlY"
      }
    },
    {
      "cell_type": "code",
      "source": [
        "print(25)"
      ],
      "metadata": {
        "colab": {
          "base_uri": "https://localhost:8080/"
        },
        "id": "Tmok3NyEVGI3",
        "outputId": "d37c4d24-3cc2-45b3-950f-9f9333699c19"
      },
      "execution_count": null,
      "outputs": [
        {
          "output_type": "stream",
          "name": "stdout",
          "text": [
            "25\n"
          ]
        }
      ]
    },
    {
      "cell_type": "code",
      "source": [
        "print('%d' %25)"
      ],
      "metadata": {
        "colab": {
          "base_uri": "https://localhost:8080/"
        },
        "id": "WL_JRxEzVGMQ",
        "outputId": "63d0c5de-567c-4488-b59d-938d753cde8b"
      },
      "execution_count": null,
      "outputs": [
        {
          "output_type": "stream",
          "name": "stdout",
          "text": [
            "25\n"
          ]
        }
      ]
    },
    {
      "cell_type": "code",
      "source": [
        "print('%f' %100)"
      ],
      "metadata": {
        "colab": {
          "base_uri": "https://localhost:8080/"
        },
        "id": "IXRBObA1VGPY",
        "outputId": "73e8a614-94db-42d7-e693-5e40e64c1f2c"
      },
      "execution_count": null,
      "outputs": [
        {
          "output_type": "stream",
          "name": "stdout",
          "text": [
            "100.000000\n"
          ]
        }
      ]
    },
    {
      "cell_type": "code",
      "source": [
        "print('%.6f' %100)"
      ],
      "metadata": {
        "colab": {
          "base_uri": "https://localhost:8080/"
        },
        "id": "NFJera1rVGSi",
        "outputId": "65305fc9-209d-4d74-8b74-3c47aec0c12d"
      },
      "execution_count": null,
      "outputs": [
        {
          "output_type": "stream",
          "name": "stdout",
          "text": [
            "100.000000\n"
          ]
        }
      ]
    },
    {
      "cell_type": "code",
      "source": [
        "from math import pi\n",
        "print('%.15f' %pi)"
      ],
      "metadata": {
        "colab": {
          "base_uri": "https://localhost:8080/"
        },
        "id": "7RjoJqR9WmJv",
        "outputId": "c0ac2ab0-a724-4d5d-9d9f-fa2a55478a7f"
      },
      "execution_count": null,
      "outputs": [
        {
          "output_type": "stream",
          "name": "stdout",
          "text": [
            "3.141592653589793\n"
          ]
        }
      ]
    },
    {
      "cell_type": "code",
      "source": [
        "import math\n",
        "print('%.15f' %math.pi)"
      ],
      "metadata": {
        "colab": {
          "base_uri": "https://localhost:8080/"
        },
        "id": "O8j3dfs_WmN3",
        "outputId": "0a842ef2-1ceb-4fa1-e5fe-dfb1b1952299"
      },
      "execution_count": null,
      "outputs": [
        {
          "output_type": "stream",
          "name": "stdout",
          "text": [
            "3.141592653589793\n"
          ]
        }
      ]
    },
    {
      "cell_type": "code",
      "source": [
        "a = 2\n",
        "print(a)"
      ],
      "metadata": {
        "colab": {
          "base_uri": "https://localhost:8080/"
        },
        "id": "I5HNMBwHWmSU",
        "outputId": "5b2bd5b5-6226-4c0a-c370-961a631251d4"
      },
      "execution_count": null,
      "outputs": [
        {
          "output_type": "stream",
          "name": "stdout",
          "text": [
            "2\n"
          ]
        }
      ]
    },
    {
      "cell_type": "code",
      "source": [
        "a = 12.5\n",
        "print('%.1f' %a)"
      ],
      "metadata": {
        "colab": {
          "base_uri": "https://localhost:8080/"
        },
        "id": "LUR4oWfPTH9a",
        "outputId": "38e1625f-d041-455b-c160-42ea1c745210"
      },
      "execution_count": null,
      "outputs": [
        {
          "output_type": "stream",
          "name": "stdout",
          "text": [
            "12.5\n"
          ]
        }
      ]
    },
    {
      "cell_type": "markdown",
      "source": [
        "# Print String+Numeric"
      ],
      "metadata": {
        "id": "EjXGkSlyXxOQ"
      }
    },
    {
      "cell_type": "code",
      "source": [
        "a = 2\n",
        "b = 3\n",
        "print(a,'x',b,'=',a*b)"
      ],
      "metadata": {
        "colab": {
          "base_uri": "https://localhost:8080/"
        },
        "id": "7jElDr4hXvd5",
        "outputId": "369ea5aa-a6ff-46e8-b5f1-59908ceef503"
      },
      "execution_count": null,
      "outputs": [
        {
          "output_type": "stream",
          "name": "stdout",
          "text": [
            "2 x 3 = 6\n"
          ]
        }
      ]
    },
    {
      "cell_type": "code",
      "source": [
        "a = 2\n",
        "b = 3\n",
        "print('%d x %d = %d' %(a,b, a*b))\n"
      ],
      "metadata": {
        "colab": {
          "base_uri": "https://localhost:8080/"
        },
        "id": "tzdxYmTdXvhi",
        "outputId": "09e7d804-b5b1-449c-9100-af06e52c8beb"
      },
      "execution_count": null,
      "outputs": [
        {
          "output_type": "stream",
          "name": "stdout",
          "text": [
            "2 x 3 = 6\n"
          ]
        }
      ]
    },
    {
      "cell_type": "code",
      "source": [
        "a = 2\n",
        "b = 3\n",
        "c = 5\n",
        "print('%d*(%d + %d) = %d*%d + %d*%d' %(a,b,c,a,b,a,c))"
      ],
      "metadata": {
        "colab": {
          "base_uri": "https://localhost:8080/"
        },
        "id": "_NHpsFxaXvlJ",
        "outputId": "1a085442-89a7-4ade-be2f-f270d6e0d817"
      },
      "execution_count": null,
      "outputs": [
        {
          "output_type": "stream",
          "name": "stdout",
          "text": [
            "2*(3 + 5) = 2*3 + 2*5\n"
          ]
        }
      ]
    },
    {
      "cell_type": "code",
      "source": [
        "a = 2\n",
        "b = 3\n",
        "c = 5\n",
        "print(\"%d*(%d+%d) = %d*%d + %d*%d\" %(a,b,c,a,b,a,c))"
      ],
      "metadata": {
        "colab": {
          "base_uri": "https://localhost:8080/"
        },
        "id": "nECTSQ1DXvon",
        "outputId": "4d7376e2-d626-43bb-8906-009428c0ecf4"
      },
      "execution_count": null,
      "outputs": [
        {
          "output_type": "stream",
          "name": "stdout",
          "text": [
            "2*(3+5) = 2*3 + 2*5\n"
          ]
        }
      ]
    },
    {
      "cell_type": "code",
      "source": [
        "a = 2.4\n",
        "b = 2.5\n",
        "print('%.1f + %.1f = %.4f' %(a,b, a+b))"
      ],
      "metadata": {
        "colab": {
          "base_uri": "https://localhost:8080/"
        },
        "id": "WrgFrvL0Zqla",
        "outputId": "93147ec4-9d9b-46ae-da19-edfd78e5deee"
      },
      "execution_count": null,
      "outputs": [
        {
          "output_type": "stream",
          "name": "stdout",
          "text": [
            "2.4 + 2.5 = 4.9000\n"
          ]
        }
      ]
    },
    {
      "cell_type": "code",
      "source": [
        "a = 2.4\n",
        "b = 2.5\n",
        "print(\"%.1f + %.1f = %.4f\" %(a,b,a+b))"
      ],
      "metadata": {
        "colab": {
          "base_uri": "https://localhost:8080/"
        },
        "id": "iaskLEwZZqot",
        "outputId": "3cabdc44-d5ef-4c98-e528-38e0ca4d3c3a"
      },
      "execution_count": null,
      "outputs": [
        {
          "output_type": "stream",
          "name": "stdout",
          "text": [
            "2.4 + 2.5 = 4.9000\n"
          ]
        }
      ]
    },
    {
      "cell_type": "code",
      "source": [
        "a = 5\n",
        "b = 2\n",
        "print('%.1f - %.2f = %.4f' %(a,b,a-b))"
      ],
      "metadata": {
        "colab": {
          "base_uri": "https://localhost:8080/"
        },
        "id": "BQTMxPo3Zqry",
        "outputId": "54038e01-7d65-4a4a-84a7-57bf930bd9bc"
      },
      "execution_count": null,
      "outputs": [
        {
          "output_type": "stream",
          "name": "stdout",
          "text": [
            "5.0 - 2.00 = 3.0000\n"
          ]
        }
      ]
    },
    {
      "cell_type": "code",
      "source": [
        "a = 5\n",
        "b = 2\n",
        "print('%.1f - %.2f = %.4f' %(a,b,a-b))"
      ],
      "metadata": {
        "id": "tNPphT_MZqu7",
        "colab": {
          "base_uri": "https://localhost:8080/"
        },
        "outputId": "4757b47f-7c36-4e0d-fe20-e2117c3d5e92"
      },
      "execution_count": null,
      "outputs": [
        {
          "output_type": "stream",
          "name": "stdout",
          "text": [
            "5.0 - 2.00 = 3.0000\n"
          ]
        }
      ]
    },
    {
      "cell_type": "code",
      "source": [
        "a = 5\n",
        "b = 2\n",
        "print(\"%.1f - %.2f = %.4f\" %(a,b, a-b))"
      ],
      "metadata": {
        "id": "GBRrqQPZZqxz",
        "colab": {
          "base_uri": "https://localhost:8080/"
        },
        "outputId": "4e0322ca-e12d-43b9-a9e9-2d03b4f67091"
      },
      "execution_count": null,
      "outputs": [
        {
          "output_type": "stream",
          "name": "stdout",
          "text": [
            "5.0 - 2.00 = 3.0000\n"
          ]
        }
      ]
    },
    {
      "cell_type": "code",
      "source": [
        "birthday = 25\n",
        "print('ฉันเกิดวันที่', birthday, 'ธันวาคม')"
      ],
      "metadata": {
        "colab": {
          "base_uri": "https://localhost:8080/"
        },
        "id": "0-Hv3AOhFoKG",
        "outputId": "9f938818-aab2-4011-8854-d9d9ea0ce05f"
      },
      "execution_count": null,
      "outputs": [
        {
          "output_type": "stream",
          "name": "stdout",
          "text": [
            "ฉันเกิดวันที่ 25 ธันวาคม\n"
          ]
        }
      ]
    },
    {
      "cell_type": "code",
      "source": [
        "birthday = 25\n",
        "print(\"ฉันเกิดวันที่\",birthday, \"ธันวาคม\")"
      ],
      "metadata": {
        "colab": {
          "base_uri": "https://localhost:8080/"
        },
        "id": "-Y24mEf3FoNd",
        "outputId": "aaace606-d8bb-4b7d-a18d-6f1cdb4c03a4"
      },
      "execution_count": null,
      "outputs": [
        {
          "output_type": "stream",
          "name": "stdout",
          "text": [
            "ฉันเกิดวันที่ 25 ธันวาคม\n"
          ]
        }
      ]
    },
    {
      "cell_type": "code",
      "source": [
        "a = 5\n",
        "b = 100\n",
        "print('%d เท่าของ %d มีค่าเท่ากับ %d' %(a, b, a*b))"
      ],
      "metadata": {
        "colab": {
          "base_uri": "https://localhost:8080/"
        },
        "id": "i45OuT-rFoR-",
        "outputId": "5a844914-5916-4c84-b607-9d6b3b2c203c"
      },
      "execution_count": null,
      "outputs": [
        {
          "output_type": "stream",
          "name": "stdout",
          "text": [
            "5 เท่าของ 100 มีค่าเท่ากับ 500\n"
          ]
        }
      ]
    },
    {
      "cell_type": "code",
      "source": [
        "a = 3.5\n",
        "print('เขามีเงินเยอะกว่าฉัน %.2f บาท' %a)"
      ],
      "metadata": {
        "colab": {
          "base_uri": "https://localhost:8080/"
        },
        "id": "Etr2IrRwFocG",
        "outputId": "c4c44425-29db-484b-afb5-4a50c3f140d2"
      },
      "execution_count": null,
      "outputs": [
        {
          "output_type": "stream",
          "name": "stdout",
          "text": [
            "เขามีเงินเยอะกว่าฉัน 3.50 บาท\n"
          ]
        }
      ]
    },
    {
      "cell_type": "code",
      "source": [
        "a = 3.5\n",
        "print(\"เขามีเงินเยอะกว่าฉัน %.2f บาท\" %a)"
      ],
      "metadata": {
        "id": "87SOFryuZq1S",
        "colab": {
          "base_uri": "https://localhost:8080/"
        },
        "outputId": "d3f6c47e-3eef-413f-fe2a-05e575f04fc5"
      },
      "execution_count": null,
      "outputs": [
        {
          "output_type": "stream",
          "name": "stdout",
          "text": [
            "เขามีเงินเยอะกว่าฉัน 3.50 บาท\n"
          ]
        }
      ]
    },
    {
      "cell_type": "code",
      "source": [
        "a = 5\n",
        "print('ฉันมีกำไร',a,'%')"
      ],
      "metadata": {
        "colab": {
          "base_uri": "https://localhost:8080/"
        },
        "id": "ofU8r5ceIaqf",
        "outputId": "bbb93cf2-310f-451a-f6b2-d5b1b3191f03"
      },
      "execution_count": null,
      "outputs": [
        {
          "output_type": "stream",
          "name": "stdout",
          "text": [
            "ฉันมีกำไร 5 %\n"
          ]
        }
      ]
    },
    {
      "cell_type": "code",
      "source": [
        "a = 5\n",
        "print('ฉันได้กำไร %d %%' %a)"
      ],
      "metadata": {
        "colab": {
          "base_uri": "https://localhost:8080/"
        },
        "id": "QlS8LUsXIauP",
        "outputId": "f7901967-208f-4d1a-df6a-3a16bb18dc2c"
      },
      "execution_count": null,
      "outputs": [
        {
          "output_type": "stream",
          "name": "stdout",
          "text": [
            "ฉันได้กำไร 5 %\n"
          ]
        }
      ]
    },
    {
      "cell_type": "code",
      "source": [
        "a = 2\n",
        "b = 3.5\n",
        "print('เมื่อวานฉันขาดทุน %d %% วันนี้ฉันได้กำไร %.2f %%' %(a,b))"
      ],
      "metadata": {
        "colab": {
          "base_uri": "https://localhost:8080/"
        },
        "id": "5F3h7FNZIax7",
        "outputId": "fcc68a30-9660-4a08-d11e-b836e171a7d3"
      },
      "execution_count": null,
      "outputs": [
        {
          "output_type": "stream",
          "name": "stdout",
          "text": [
            "เมื่อวานฉันขาดทุน 2 % วันนี้ฉันได้กำไร 3.50 %\n"
          ]
        }
      ]
    },
    {
      "cell_type": "code",
      "source": [
        "a = 2\n",
        "b = 3.5\n",
        "print(\"เมื่อวานฉันขาดทุน %d %% วันนี้ฉันได้กำไร %.2f %%\" %(a,b))"
      ],
      "metadata": {
        "colab": {
          "base_uri": "https://localhost:8080/"
        },
        "id": "DeSy9CB0Ia1e",
        "outputId": "4a0fa448-dce0-4085-e940-b031d25e5e08"
      },
      "execution_count": null,
      "outputs": [
        {
          "output_type": "stream",
          "name": "stdout",
          "text": [
            "เมื่อวานฉันขาดทุน 2 % วันนี้ฉันได้กำไร 3.50 %\n"
          ]
        }
      ]
    },
    {
      "cell_type": "markdown",
      "source": [
        "เขียนโปรแกรมสร้างตัวแปรชื่อ numeric1 และกำหนดค่าให้เท่ากับ 5 หลังจากนั้นให้ทำารพิมพ์ค่าและชนิดข้อมูลของ numeric1 ออกมา"
      ],
      "metadata": {
        "id": "hvvRt-xyiqLS"
      }
    },
    {
      "cell_type": "code",
      "source": [
        "numeric1 = 5\n",
        "print (numeric1)\n",
        "print(type(numeric1))"
      ],
      "metadata": {
        "colab": {
          "base_uri": "https://localhost:8080/"
        },
        "id": "D3Sl4JEoIa4m",
        "outputId": "2826d0d5-2f46-4dae-f6bf-ebd3ad99107b"
      },
      "execution_count": null,
      "outputs": [
        {
          "output_type": "stream",
          "name": "stdout",
          "text": [
            "5\n",
            "<class 'int'>\n"
          ]
        }
      ]
    },
    {
      "cell_type": "markdown",
      "source": [
        "เขียนโปรแกรมสร้างตัวแปรชื่อ numeric2 และกำหนดค่าให้เท่ากับ -3 หลังจากนั้นให้ทำารพิมพ์ค่าและชนิดข้อมูลของ numeric2 ออกมา"
      ],
      "metadata": {
        "id": "wY6O6NeJjPM7"
      }
    },
    {
      "cell_type": "code",
      "source": [
        "numeric2 = -3\n",
        "print (numeric2)\n",
        "print(type(numeric2))"
      ],
      "metadata": {
        "colab": {
          "base_uri": "https://localhost:8080/"
        },
        "id": "9t8VfbYGZcZO",
        "outputId": "6bf02263-61d9-4f8a-bd3f-cad830456fb3"
      },
      "execution_count": null,
      "outputs": [
        {
          "output_type": "stream",
          "name": "stdout",
          "text": [
            "-3\n",
            "<class 'int'>\n"
          ]
        }
      ]
    },
    {
      "cell_type": "markdown",
      "source": [],
      "metadata": {
        "id": "tp0cOkJ6jJpe"
      }
    },
    {
      "cell_type": "code",
      "source": [
        "numeric3 = 0\n",
        "print(numeric3)\n",
        "print(type(numeric3))"
      ],
      "metadata": {
        "colab": {
          "base_uri": "https://localhost:8080/"
        },
        "id": "OD-EeYZRZcc7",
        "outputId": "44d7aab6-2427-4e60-c037-74abe627a026"
      },
      "execution_count": null,
      "outputs": [
        {
          "output_type": "stream",
          "name": "stdout",
          "text": [
            "0\n",
            "<class 'int'>\n"
          ]
        }
      ]
    },
    {
      "cell_type": "code",
      "source": [
        "numeric4 = int(input('Please insert integer:'))\n",
        "print(numeric4)\n",
        "print(type(numeric4))"
      ],
      "metadata": {
        "colab": {
          "base_uri": "https://localhost:8080/"
        },
        "id": "Vs3fIiKEZcgT",
        "outputId": "243299bc-d266-4c60-ca32-3224268fd69d"
      },
      "execution_count": null,
      "outputs": [
        {
          "output_type": "stream",
          "name": "stdout",
          "text": [
            "Please insert integer:5\n",
            "5\n",
            "<class 'int'>\n"
          ]
        }
      ]
    },
    {
      "cell_type": "markdown",
      "source": [
        "เขียนโปรแกรมสร้างตัวแปรชื่อ Numeric1 และกำหนดค่าให้เท่ากับ 5 หลังจากนั้นให้พิมพ์ค่า และชนิดของ Numeric1 ออกมา"
      ],
      "metadata": {
        "id": "aF3cNO5An-EV"
      }
    },
    {
      "cell_type": "code",
      "source": [
        "numeric1 = 5.0\n",
        "print(numeric1)\n",
        "print(type(numeric1))"
      ],
      "metadata": {
        "colab": {
          "base_uri": "https://localhost:8080/"
        },
        "id": "xWOFg-j2Zcj3",
        "outputId": "293f4873-f7bb-48d4-9960-c0809aba9a94"
      },
      "execution_count": null,
      "outputs": [
        {
          "output_type": "stream",
          "name": "stdout",
          "text": [
            "5.0\n",
            "<class 'float'>\n"
          ]
        }
      ]
    },
    {
      "cell_type": "markdown",
      "source": [
        "เขียนโปรแกรมสร้างตัวแปรชื่อ Numeric2 และกำหนดค่าให้เท่ากับ -3.1 หลังจากนั้นให้พิมพ์ค่า และชนิดของ Numeric2 ออกมา"
      ],
      "metadata": {
        "id": "61641ARJnoc4"
      }
    },
    {
      "cell_type": "code",
      "source": [
        "numeric2 = -3.1\n",
        "print(numeric2)\n",
        "print(type(numeric2))"
      ],
      "metadata": {
        "colab": {
          "base_uri": "https://localhost:8080/"
        },
        "id": "ZNbnuhKNZcnP",
        "outputId": "2eb03b10-f045-40eb-e405-a6d83829add0"
      },
      "execution_count": null,
      "outputs": [
        {
          "output_type": "stream",
          "name": "stdout",
          "text": [
            "-3.1\n",
            "<class 'float'>\n"
          ]
        }
      ]
    },
    {
      "cell_type": "markdown",
      "source": [
        "เขียนโปรแกรมสร้างตัวแปรชื่อ Numeric3 และกำหนดค่าให้เท่ากับ 0.0 หลังจากนั้นให้พิมพ์ค่า และชนิดของ Numeric3 ออกมา"
      ],
      "metadata": {
        "id": "BV_5rFbvo3Ye"
      }
    },
    {
      "cell_type": "code",
      "source": [
        "numeric3 = 0.0\n",
        "print(numeric3)\n",
        "print(type(numeric3))"
      ],
      "metadata": {
        "colab": {
          "base_uri": "https://localhost:8080/"
        },
        "id": "3sH5XgC3ZcqI",
        "outputId": "184cc6ae-5c7e-44d9-e481-e63f8b0e356c"
      },
      "execution_count": null,
      "outputs": [
        {
          "output_type": "stream",
          "name": "stdout",
          "text": [
            "0.0\n",
            "<class 'float'>\n"
          ]
        }
      ]
    },
    {
      "cell_type": "markdown",
      "source": [
        "เขียนโปรแกรมรับอินพุต 1 ตัวที่เป้นจำนวจริง หลังจากนั้นให้ทำการพิมพ์ค่าและชนิดข้อมูลของจำนวนที่รับออกมา:\n",
        "\n"
      ],
      "metadata": {
        "id": "Ptjo6kxdpH4W"
      }
    },
    {
      "cell_type": "code",
      "source": [
        "numeric1 = int(input('please input:'))\n",
        "print(numeric1)\n",
        "print(type(numeric1))"
      ],
      "metadata": {
        "colab": {
          "base_uri": "https://localhost:8080/"
        },
        "id": "smHwydmhZctw",
        "outputId": "496e2364-4014-4164-e909-1d9e0f224b93"
      },
      "execution_count": null,
      "outputs": [
        {
          "output_type": "stream",
          "name": "stdout",
          "text": [
            "please input:5\n",
            "5\n",
            "<class 'int'>\n"
          ]
        }
      ]
    },
    {
      "cell_type": "code",
      "source": [
        "เขียนโปรแกรมรับอินพุต 2 ตัวที่เป็นจำนวนต็ม(int1,int2) ให้คำนวณผลบวก,ผลลบ,ผลคูณ และผลหารของจำนวนที่รับมา หลังจากนั้นให้พิมพ์ค่าและชนิดข้อมูลของทุกผลลัพธ์ออกมา"
      ],
      "metadata": {
        "id": "GMD1Wm3-pDiN"
      },
      "execution_count": null,
      "outputs": []
    },
    {
      "cell_type": "code",
      "source": [
        "numeric1 = int(input('int1:'))\n",
        "numeric2 = int(input('int2:'))\n",
        "print('numeric1 =',numeric1,(type(numeric1)))\n",
        "print('numeric2 =',numeric2,(type(numeric2)))\n",
        "print('คำนวณผลบวก =',(numeric1+numeric2),(type(numeric1+numeric2)))\n",
        "print('ผลลบ =',(numeric1-numeric2),(type(numeric1-numeric2)))\n",
        "print('ผลคูณ =',(numeric1*numeric2),(type(numeric1*numeric2)))\n",
        "print('ผลคูณ =',(numeric1/numeric2),(type(numeric1/numeric2)))"
      ],
      "metadata": {
        "colab": {
          "base_uri": "https://localhost:8080/"
        },
        "id": "X1-XFODRpDlo",
        "outputId": "bd9a5409-e1ab-4c19-85c4-8f6161c10253"
      },
      "execution_count": null,
      "outputs": [
        {
          "output_type": "stream",
          "name": "stdout",
          "text": [
            "int1:100\n",
            "int2:2\n",
            "numeric1 = 100 <class 'int'>\n",
            "numeric2 = 2 <class 'int'>\n",
            "คำนวณผลบวก = 102 <class 'int'>\n",
            "ผลลบ = 98 <class 'int'>\n",
            "ผลคูณ = 200 <class 'int'>\n",
            "ผลคูณ = 50.0 <class 'float'>\n"
          ]
        }
      ]
    },
    {
      "cell_type": "markdown",
      "source": [
        "เขียนโปรแกรมรับอินพุต 2 ตัวที่เป็นจำนวนต็ม(float1,float2) ให้คำนวณผลบวก,ผลลบ,ผลคูณ และผลหารของจำนวนที่รับมา หลังจากนั้นให้พิมพ์ค่าและชนิดข้อมูลของทุกผลลัพธ์ออกมา"
      ],
      "metadata": {
        "id": "TdkJAxwQukcz"
      }
    },
    {
      "cell_type": "code",
      "source": [
        "numeric1 = float(input('float1:'))\n",
        "numeric2 = float(input('float2:'))\n",
        "print('numeric1 =',numeric1,(type(numeric1)))\n",
        "print('numeric2 =',numeric2,(type(numeric2)))\n",
        "print('คำนวณผลบวก =',(numeric1+numeric2),(type(numeric1+numeric2)))\n",
        "print('ผลลบ =',(numeric1-numeric2),(type(numeric1-numeric2)))\n",
        "print('ผลคูณ =',(numeric1*numeric2),(type(numeric1*numeric2)))\n",
        "print('ผลคูณ =',(numeric1/numeric2),(type(numeric1/numeric2)))"
      ],
      "metadata": {
        "colab": {
          "base_uri": "https://localhost:8080/"
        },
        "id": "xycRhgXspDon",
        "outputId": "89ea456c-4628-432a-8871-7343ed7857d8"
      },
      "execution_count": null,
      "outputs": [
        {
          "output_type": "stream",
          "name": "stdout",
          "text": [
            "float1:1\n",
            "float2:1\n",
            "numeric1 = 1.0 <class 'float'>\n",
            "numeric2 = 1.0 <class 'float'>\n",
            "คำนวณผลบวก = 2.0 <class 'float'>\n",
            "ผลลบ = 0.0 <class 'float'>\n",
            "ผลคูณ = 1.0 <class 'float'>\n",
            "ผลคูณ = 1.0 <class 'float'>\n"
          ]
        }
      ]
    },
    {
      "cell_type": "markdown",
      "source": [
        "เขียนโปรแกรมรับอินพุต 2 ตัวที่เป็นจำนวนต็ม(float1,int1) ให้คำนวณผลบวก,ผลลบ,ผลคูณ และผลหารของจำนวนที่รับมา หลังจากนั้นให้พิมพ์ค่าและชนิดข้อมูลของทุกผลลัพธ์ออกมา"
      ],
      "metadata": {
        "id": "xZ8jnkiEvPGz"
      }
    },
    {
      "cell_type": "code",
      "source": [
        "numeric1 = float(input('float1:'))\n",
        "numeric2 = int(input('int1:'))\n",
        "print('numeric1 =',numeric1,(type(numeric1)))\n",
        "print('numeric2 =',numeric2,(type(numeric2)))\n",
        "print('คำนวณผลบวก =',(numeric1+numeric2),(type(numeric1+numeric2)))\n",
        "print('ผลลบ =',(numeric1-numeric2),(type(numeric1-numeric2)))\n",
        "print('ผลคูณ =',(numeric1*numeric2),(type(numeric1*numeric2)))\n",
        "print('ผลคูณ =',(numeric1/numeric2),(type(numeric1/numeric2)))"
      ],
      "metadata": {
        "colab": {
          "base_uri": "https://localhost:8080/"
        },
        "id": "2wPaxSmfpDrd",
        "outputId": "fc390395-995c-418d-c2b4-b4ba61201ab3"
      },
      "execution_count": null,
      "outputs": [
        {
          "output_type": "stream",
          "name": "stdout",
          "text": [
            "float1:100\n",
            "int1:2\n",
            "numeric1 = 100.0 <class 'float'>\n",
            "numeric2 = 2 <class 'int'>\n",
            "คำนวณผลบวก = 102.0 <class 'float'>\n",
            "ผลลบ = 98.0 <class 'float'>\n",
            "ผลคูณ = 200.0 <class 'float'>\n",
            "ผลคูณ = 50.0 <class 'float'>\n"
          ]
        }
      ]
    },
    {
      "cell_type": "markdown",
      "source": [
        "เขียนโปรแกรมสร้่างตัวแปรชื่อ Logic1 และกำหนดค่าให้เท่ากับ true หลังจากนั้นให้ทำการพิมพืค่าและชนิดข้อมูลของ Logic1 ออกมา"
      ],
      "metadata": {
        "id": "NFavBFN7vk_L"
      }
    },
    {
      "cell_type": "code",
      "source": [
        "logic1 = True\n",
        "print(logic1)\n",
        "print(type(logic1))"
      ],
      "metadata": {
        "colab": {
          "base_uri": "https://localhost:8080/"
        },
        "id": "b36hmV78pDuP",
        "outputId": "3817248e-9094-4b7f-cb0f-46cef2b3fe79"
      },
      "execution_count": null,
      "outputs": [
        {
          "output_type": "stream",
          "name": "stdout",
          "text": [
            "True\n",
            "<class 'bool'>\n"
          ]
        }
      ]
    },
    {
      "cell_type": "markdown",
      "source": [
        "เขียนโปรแกรมสร้างตัวแปรชื่อ logic2 และกำหนดค่าให้เท่ากับ false หลังจากนั้นให้พิมพ์ค่าและชนิดข้อมุลของ logic2 ออกมา"
      ],
      "metadata": {
        "id": "1w6iJZLs__zS"
      }
    },
    {
      "cell_type": "code",
      "source": [
        "logic2 = False\n",
        "print(logic2)\n",
        "print(type(logic2))"
      ],
      "metadata": {
        "colab": {
          "base_uri": "https://localhost:8080/"
        },
        "id": "gyp4R2AwpDxL",
        "outputId": "3434f2de-81da-4e29-9d6e-a3dcbba7fea7"
      },
      "execution_count": null,
      "outputs": [
        {
          "output_type": "stream",
          "name": "stdout",
          "text": [
            "False\n",
            "<class 'bool'>\n"
          ]
        }
      ]
    },
    {
      "cell_type": "code",
      "source": [
        "logic1 = True\n",
        "logic2 = False\n",
        "print(logic1 and logic2)"
      ],
      "metadata": {
        "colab": {
          "base_uri": "https://localhost:8080/"
        },
        "id": "-jVorBe_Ay80",
        "outputId": "1b35f040-a1e3-47c3-d6a5-d7ca2016aa49"
      },
      "execution_count": null,
      "outputs": [
        {
          "output_type": "stream",
          "name": "stdout",
          "text": [
            "False\n"
          ]
        }
      ]
    },
    {
      "cell_type": "code",
      "source": [
        "logic1 = True\n",
        "logic2 = False\n",
        "print(logic1 or logic2)"
      ],
      "metadata": {
        "colab": {
          "base_uri": "https://localhost:8080/"
        },
        "id": "XRe8rmO6BJT8",
        "outputId": "90a639ed-8335-43be-bae7-2e2eac2b9c8d"
      },
      "execution_count": null,
      "outputs": [
        {
          "output_type": "stream",
          "name": "stdout",
          "text": [
            "True\n"
          ]
        }
      ]
    },
    {
      "cell_type": "code",
      "source": [
        "complex1 = 1+2j\n",
        "print(complex1,type(complex1))"
      ],
      "metadata": {
        "colab": {
          "base_uri": "https://localhost:8080/"
        },
        "id": "TpnpIoSLBRaU",
        "outputId": "c7d49f98-ebe7-4cc2-9031-489ddf83d979"
      },
      "execution_count": null,
      "outputs": [
        {
          "output_type": "stream",
          "name": "stdout",
          "text": [
            "(1+2j) <class 'complex'>\n"
          ]
        }
      ]
    },
    {
      "cell_type": "code",
      "source": [
        "complex1 = 1+2j\n",
        "print(complex1.real)"
      ],
      "metadata": {
        "colab": {
          "base_uri": "https://localhost:8080/"
        },
        "id": "w_Dmg9TDE-im",
        "outputId": "1998b26e-b900-41ed-fa78-8cfe215f3654"
      },
      "execution_count": null,
      "outputs": [
        {
          "output_type": "stream",
          "name": "stdout",
          "text": [
            "1.0\n"
          ]
        }
      ]
    },
    {
      "cell_type": "code",
      "source": [
        "complex1 = 1+2j\n",
        "print(complex1.imag)"
      ],
      "metadata": {
        "colab": {
          "base_uri": "https://localhost:8080/"
        },
        "id": "BbFRta_6E-wF",
        "outputId": "a70876ed-8e8b-48bb-de2c-1340e392432e"
      },
      "execution_count": null,
      "outputs": [
        {
          "output_type": "stream",
          "name": "stdout",
          "text": [
            "2.0\n"
          ]
        }
      ]
    },
    {
      "cell_type": "markdown",
      "source": [
        "## `06-07-2022` 50 ข้อ"
      ],
      "metadata": {
        "id": "0APknk8cnSkL"
      }
    },
    {
      "cell_type": "markdown",
      "source": [
        "# String"
      ],
      "metadata": {
        "id": "kocUllojQqOg"
      }
    },
    {
      "cell_type": "markdown",
      "source": [
        "19.เขียนโปรแกรมสร้างตัวแปรชื่อ String1 และกำหนดค่าให้เท่ากับ 'Python' หลังจากนั้นให้ทำการพิมพ์ค่าและชนิดข้อมูลของ string1 ออกมา"
      ],
      "metadata": {
        "id": "mRCeFwoYRiTH"
      }
    },
    {
      "cell_type": "code",
      "source": [
        "string1 = 'Python'\n",
        "print(string1,(type(string1)))"
      ],
      "metadata": {
        "id": "pRM8dxR5E-4k",
        "colab": {
          "base_uri": "https://localhost:8080/"
        },
        "outputId": "6d5c76bf-f6be-401f-e8ed-5f59bdfc6414"
      },
      "execution_count": null,
      "outputs": [
        {
          "output_type": "stream",
          "name": "stdout",
          "text": [
            "Python <class 'str'>\n"
          ]
        }
      ]
    },
    {
      "cell_type": "markdown",
      "source": [
        "20.เขียนโปรแกรมสร้างตัวแปรชื่อ string1 และกำหนดค่าให้เท่ากับ 'Python' หลังจากนั้นให้ทำการพิมพ์อักขระที่ index เป็น 0 ออกมา"
      ],
      "metadata": {
        "id": "GGkYkGepSGWG"
      }
    },
    {
      "cell_type": "code",
      "source": [
        "string1 = 'Python'\n",
        "print(string1[0])"
      ],
      "metadata": {
        "id": "tSXnjS8VE-71",
        "colab": {
          "base_uri": "https://localhost:8080/"
        },
        "outputId": "0555669b-27ad-4caa-fa00-e6efa7b20278"
      },
      "execution_count": null,
      "outputs": [
        {
          "output_type": "stream",
          "name": "stdout",
          "text": [
            "P\n"
          ]
        }
      ]
    },
    {
      "cell_type": "markdown",
      "source": [
        "21.เขียนโปรแกรมสร้างตัวแปรชื่อ string1 และกำหนดค่าให้เท่ากับ 'Python' หลังจากนั้นให้ทำการพิมพ์อักขระที่ index เป็น 1 ออกมา"
      ],
      "metadata": {
        "id": "wv-3v_gJTpnY"
      }
    },
    {
      "cell_type": "code",
      "source": [
        "string1 = 'Python'\n",
        "print(string1[1])"
      ],
      "metadata": {
        "id": "MFjtK0pKE-_y",
        "colab": {
          "base_uri": "https://localhost:8080/"
        },
        "outputId": "cf708b9e-2dd7-4932-bfb0-0fb089ab5642"
      },
      "execution_count": null,
      "outputs": [
        {
          "output_type": "stream",
          "name": "stdout",
          "text": [
            "y\n"
          ]
        }
      ]
    },
    {
      "cell_type": "markdown",
      "source": [
        "22.เขียนโปรแกรมสร้างตัวแปรชื่อ string1 และกำหนดค่าให้เท่ากับ 'Python' หลังจากนั้นให้ทำการพิมพ์อักขระที่ index เป็น -1 ออกมา"
      ],
      "metadata": {
        "id": "KlGJ93buAth8"
      }
    },
    {
      "cell_type": "code",
      "source": [
        "string1 = 'Python'\n",
        "print(string1[-1])"
      ],
      "metadata": {
        "id": "m4RlDBycIa-v",
        "colab": {
          "base_uri": "https://localhost:8080/"
        },
        "outputId": "a560c400-0435-4ac3-9e30-5579ef66cc33"
      },
      "execution_count": null,
      "outputs": [
        {
          "output_type": "stream",
          "name": "stdout",
          "text": [
            "n\n"
          ]
        }
      ]
    },
    {
      "cell_type": "markdown",
      "source": [
        "23.เขียนโปรแกรมสร้างตัวแปรชื่อ string1 และกำหนดค่าให้เท่ากับ 'Python' หลังจากนั้นให้ทำการพิมพ์อักขระที่ index เป็น -2 ออกมา"
      ],
      "metadata": {
        "id": "UPM98DwaUXV5"
      }
    },
    {
      "cell_type": "code",
      "source": [
        "string1 = 'Python'\n",
        "print(string1[-2])"
      ],
      "metadata": {
        "colab": {
          "base_uri": "https://localhost:8080/"
        },
        "id": "9jT3gIYwUYYQ",
        "outputId": "841a2fdc-c03e-4f61-d5a4-6bf9c88a658f"
      },
      "execution_count": null,
      "outputs": [
        {
          "output_type": "stream",
          "name": "stdout",
          "text": [
            "o\n"
          ]
        }
      ]
    },
    {
      "cell_type": "markdown",
      "source": [
        "24.เขียนโปรแกรมสร้างตัวแปรชื่อ string1 และกำหนดค่าให้เท่ากับ 'Python' หลังจากนั้นให้ทำการพิมพ์อักขระ 't' ออกมา โดยอ้างอิงตำแหน่งจาก string1"
      ],
      "metadata": {
        "id": "G9vGRMRrUXZq"
      }
    },
    {
      "cell_type": "code",
      "source": [
        "string1 = 'Python'\n",
        "print(string1[2])"
      ],
      "metadata": {
        "colab": {
          "base_uri": "https://localhost:8080/"
        },
        "id": "XJj8zdL2UZKJ",
        "outputId": "8ada7bd9-5001-43e8-dc52-8786b8e79960"
      },
      "execution_count": null,
      "outputs": [
        {
          "output_type": "stream",
          "name": "stdout",
          "text": [
            "t\n"
          ]
        }
      ]
    },
    {
      "cell_type": "markdown",
      "source": [
        "25.เขียนโปรแกรมสร้างตัวแปรชื่อ string1 และกำหนดค่าให้เท่ากับ 'Python' หลังจากนั้นให้ทำการพิมพ์อักขระ 'h' ออกมา โดยอ้างอิงตำแหน่งจาก string1"
      ],
      "metadata": {
        "id": "bABEsuNQUXdQ"
      }
    },
    {
      "cell_type": "code",
      "source": [
        "string1 = 'Python'\n",
        "print(string1[3])"
      ],
      "metadata": {
        "colab": {
          "base_uri": "https://localhost:8080/"
        },
        "id": "LPtITKfRUZwA",
        "outputId": "b98e5c56-db26-469e-98cf-6b0cfaf32939"
      },
      "execution_count": null,
      "outputs": [
        {
          "output_type": "stream",
          "name": "stdout",
          "text": [
            "h\n"
          ]
        }
      ]
    },
    {
      "cell_type": "markdown",
      "source": [
        "26.เขียนโปรแกรมสร้างตัวแปรชื่อ string1 และกำหนดค่าให้เท่ากับ 'Python' หลังจากนั้นให้ทำการพิมพ์สายอักขระตั้งแต่ index ที่ 1 จนถึง index ที่ 4 ออกมา"
      ],
      "metadata": {
        "id": "uYfz4GMsQt8O"
      }
    },
    {
      "cell_type": "code",
      "source": [
        "string1 = 'Python'\n",
        "print(string1[1:4])"
      ],
      "metadata": {
        "colab": {
          "base_uri": "https://localhost:8080/"
        },
        "id": "lO_rRYhoVnRi",
        "outputId": "a45dd78a-19a9-43ce-dadc-c75fc83cb963"
      },
      "execution_count": null,
      "outputs": [
        {
          "output_type": "stream",
          "name": "stdout",
          "text": [
            "yth\n"
          ]
        }
      ]
    },
    {
      "cell_type": "markdown",
      "source": [
        "27.เขียนโปรแกรมสร้างตัวแปรชื่อ string1 และกำหนดค่าให้เท่ากับ 'Python' หลังจากนั้นให้ทำการพิมพ์สายอักขระตั้งแต่ index ที่ 2 จนถึง index ที่ -1 ออกมา"
      ],
      "metadata": {
        "id": "Pd9X2suVV6nq"
      }
    },
    {
      "cell_type": "code",
      "source": [
        "string1 = 'Python'\n",
        "print(string1[2:-1])"
      ],
      "metadata": {
        "colab": {
          "base_uri": "https://localhost:8080/"
        },
        "id": "7SK-OBVsVneB",
        "outputId": "e9301d63-fc15-403e-f45c-d72c2d6c387b"
      },
      "execution_count": null,
      "outputs": [
        {
          "output_type": "stream",
          "name": "stdout",
          "text": [
            "tho\n"
          ]
        }
      ]
    },
    {
      "cell_type": "markdown",
      "source": [
        "28.เขียนโปรแกรมสร้างตัวแปรชื่อ string1 และกำหนดค่าให้เท่ากับ 'Python' หลังจากนั้นให้ทำการพิมพ์สายอักขระตั้งแต่ index ที่ 2 จนถึง index ที่ -1 ออกมา"
      ],
      "metadata": {
        "id": "YPt3HIczWH2i"
      }
    },
    {
      "cell_type": "code",
      "source": [
        "string1 = 'Python'\n",
        "print(string1[2:])"
      ],
      "metadata": {
        "colab": {
          "base_uri": "https://localhost:8080/"
        },
        "id": "Qorz8lEGWRFC",
        "outputId": "9571048d-e02b-466e-9cc0-d9d4b41c95d6"
      },
      "execution_count": null,
      "outputs": [
        {
          "output_type": "stream",
          "name": "stdout",
          "text": [
            "thon\n"
          ]
        }
      ]
    },
    {
      "cell_type": "markdown",
      "source": [
        "29.เขียนโปรแกรมสร้างตัวแปรชื่อ string1 และกำหนดค่าให้เท่ากับ 'Python' หลังจากนั้นให้ทำการพิมพ์สายอักขระตั้งแต่ index ที่ -4 จนถึง index ที่ 5 ออกมา"
      ],
      "metadata": {
        "id": "PqmRSqrNL5MU"
      }
    },
    {
      "cell_type": "code",
      "source": [
        "string1 = 'Python'\n",
        "print(string1[-4:5])"
      ],
      "metadata": {
        "colab": {
          "base_uri": "https://localhost:8080/"
        },
        "id": "21p4mbRoWZdb",
        "outputId": "85528095-1afe-4f23-ae14-d6416d6a3fd4"
      },
      "execution_count": null,
      "outputs": [
        {
          "output_type": "stream",
          "name": "stdout",
          "text": [
            "tho\n"
          ]
        }
      ]
    },
    {
      "cell_type": "markdown",
      "source": [
        "30.เขียนโปรแกรมสร้างตัวแปรชื่อ string1 และกำหนดค่าให้เท่ากับ 'Python' หลังจากนั้นให้ทำการพิมพ์สายอักขระตั้งแต่ index ที่ -6 จนถึง index ที่ 5 ออกมา"
      ],
      "metadata": {
        "id": "HuMvip2ZW0Ra"
      }
    },
    {
      "cell_type": "code",
      "source": [
        "string1 = 'Python'\n",
        "print(string1[-6:5])"
      ],
      "metadata": {
        "colab": {
          "base_uri": "https://localhost:8080/"
        },
        "id": "R1r1fs3HW7W6",
        "outputId": "5e38c146-05e2-4670-dc35-13b5ea6146ed"
      },
      "execution_count": null,
      "outputs": [
        {
          "output_type": "stream",
          "name": "stdout",
          "text": [
            "Pytho\n"
          ]
        }
      ]
    },
    {
      "cell_type": "code",
      "source": [
        "string1 = 'Python'\n",
        "print(string1[:5])"
      ],
      "metadata": {
        "colab": {
          "base_uri": "https://localhost:8080/"
        },
        "id": "Z3wmn52lgnRW",
        "outputId": "5cdc4c3a-3258-4a5e-88b6-e9feb8dee293"
      },
      "execution_count": null,
      "outputs": [
        {
          "output_type": "stream",
          "name": "stdout",
          "text": [
            "Pytho\n"
          ]
        }
      ]
    },
    {
      "cell_type": "markdown",
      "source": [
        "31.เขียนโปรแกรมสร้างตัวแปรชื่อ String1 และกำหนดค่าให้เท่ากับ 'Python' หลังจากนั้นให้ทำการพิมพ์สายอักขระตั้งแต่ index ที่ -4 จนถึง Index ที่ -2"
      ],
      "metadata": {
        "id": "xOjMgKCtjs0o"
      }
    },
    {
      "cell_type": "code",
      "source": [
        "string1 = 'Python'\n",
        "print(string1[-4:-1])"
      ],
      "metadata": {
        "colab": {
          "base_uri": "https://localhost:8080/"
        },
        "id": "LquhUSoRkr3g",
        "outputId": "505c6f4c-5f63-4f50-e6fd-7358103625d2"
      },
      "execution_count": null,
      "outputs": [
        {
          "output_type": "stream",
          "name": "stdout",
          "text": [
            "tho\n"
          ]
        }
      ]
    },
    {
      "cell_type": "markdown",
      "source": [
        "32.เขียนโปรแกรมรับอินพุต 1 ตัวที่เป็นสายอักขระ จากนั้นให้ทำการพิมพ์ความยาวของสายอักขระ"
      ],
      "metadata": {
        "id": "o-4oO0D3js9l"
      }
    },
    {
      "cell_type": "code",
      "source": [
        "string = input('Please insert string:')\n",
        "print(len(string1))"
      ],
      "metadata": {
        "colab": {
          "base_uri": "https://localhost:8080/"
        },
        "id": "iySDw8JHks0g",
        "outputId": "ff40f0e9-ee6e-4f12-cd08-04292866f9cf"
      },
      "execution_count": null,
      "outputs": [
        {
          "output_type": "stream",
          "name": "stdout",
          "text": [
            "Please insert string:Okayyyy\n",
            "6\n"
          ]
        }
      ]
    },
    {
      "cell_type": "markdown",
      "source": [
        "33.เขียนโปรแกรมรับอินพุต 1 ตัวที่เป็นสายอักขระ ให้ทำการตรวจสอบสายอักขระที่รับว่า 'ก' หรือไม่ จากนั้นให้พิมพ์ค่าความจริงออกมา"
      ],
      "metadata": {
        "id": "nWpOp9fbjtBI"
      }
    },
    {
      "cell_type": "code",
      "source": [
        "string = input('Please insert string:')\n",
        "print('ก' in string)"
      ],
      "metadata": {
        "colab": {
          "base_uri": "https://localhost:8080/"
        },
        "id": "yCNoEwBCkuEw",
        "outputId": "36689f9e-384b-4f3c-ba78-a8aff1243c29"
      },
      "execution_count": null,
      "outputs": [
        {
          "output_type": "stream",
          "name": "stdout",
          "text": [
            "Please insert string:กกหดก\n",
            "True\n"
          ]
        }
      ]
    },
    {
      "cell_type": "markdown",
      "source": [
        "34.เขียนโปรแกรมรับอินพุต 2 ตัวที่เป็นสายอักขระ (string1,string2)ให้ทำการตรวจ  String1 ที่รับมาว่ามี String2 ในนั้นหรือไม่ จากนั้นให้พิมพ์ค่าความจริงออกมา\n",
        "\n",
        "\n",
        "> ตัวอย่างที่1:สมมติให้ string1 = 'happy',string2 = 'app' ผลลัพธ์ที่จะพิมพ์ออกมาคือ True\n",
        "\n"
      ],
      "metadata": {
        "id": "8DpBAHiajtEV"
      }
    },
    {
      "cell_type": "code",
      "source": [
        "string1 = input('Text1:')\n",
        "string2 = input('Text2:')\n",
        "print(string2 in string1\n",
        "      )"
      ],
      "metadata": {
        "colab": {
          "base_uri": "https://localhost:8080/"
        },
        "id": "lafaagEIkvBw",
        "outputId": "9fead4e6-f741-4d66-dea7-68ac7a808043"
      },
      "execution_count": null,
      "outputs": [
        {
          "output_type": "stream",
          "name": "stdout",
          "text": [
            "Text1:12345\n",
            "Text2:5\n",
            "True\n"
          ]
        }
      ]
    },
    {
      "cell_type": "markdown",
      "source": [
        "35.เขียนโปรแกรมรับอินพุต 1 ตัวที่เป็นสายอักขระ ให้ทำการแทนที่อักขระ 'a' ด้วย 'A' จากนั้นให้พิมพ์สายอักขระที่ผ่านดำเนินการแล้วออกมา"
      ],
      "metadata": {
        "id": "AsqtAgqejtHe"
      }
    },
    {
      "cell_type": "code",
      "source": [
        "string1 = input('Please insert string1:')\n",
        "print(string1.replace('a','A'))"
      ],
      "metadata": {
        "colab": {
          "base_uri": "https://localhost:8080/"
        },
        "id": "NmEX08-nkwSc",
        "outputId": "d9965502-e06a-4846-c596-ced572d11e56"
      },
      "execution_count": null,
      "outputs": [
        {
          "output_type": "stream",
          "name": "stdout",
          "text": [
            "Please insert string1:a\n",
            "A\n"
          ]
        }
      ]
    },
    {
      "cell_type": "markdown",
      "source": [
        "36.เขียนโปรแกรมรับอินพุต 1 ตัวที่เป็นสายอักขระ ให้ทำการแทนที่อักขระ 'a' ด้วย 'A'และกำหนดที่ผ่านการดำเนินการใส่ตัวแปรชื่อ string2 จากนั้นให้พิมพ์ string2 ออกมา"
      ],
      "metadata": {
        "id": "8hDJIpQIjtKQ"
      }
    },
    {
      "cell_type": "code",
      "source": [
        "string1 = input('Please insert string1:')\n",
        "string2 = string1.replace('a','A')\n",
        "print(string2)"
      ],
      "metadata": {
        "colab": {
          "base_uri": "https://localhost:8080/"
        },
        "id": "3qDa7Lm_kxvQ",
        "outputId": "780889d1-fc7c-4090-9e54-7ff4c4b224f7"
      },
      "execution_count": null,
      "outputs": [
        {
          "output_type": "stream",
          "name": "stdout",
          "text": [
            "Please insert string1:aaa\n",
            "AAA\n"
          ]
        }
      ]
    },
    {
      "cell_type": "markdown",
      "source": [
        "37.เขียนโปรแกรมรับอินพุต 1 ตัวที่เป็นสายอักขระ (sentence) ให้ทำการตัดคำในสายอักขระโดยใช้ '' เป็นตัวตัดคำ หลังจากนั้นให้พิมพ์ผลลัพธ์จากการตัดคำออกมา\n",
        "\n",
        "\n",
        ">ตัวอย่างที่ 1: สมมติให้ sentence = 'We love Python' ผลลัพธ์ที่จะพิมพ์ออกมาคือ['We','love','Python']\n",
        "\n"
      ],
      "metadata": {
        "id": "WvTThrTRjtNI"
      }
    },
    {
      "cell_type": "code",
      "source": [
        "sentence = input('Please insert sentence:')\n",
        "print(sentence.split(' '))"
      ],
      "metadata": {
        "colab": {
          "base_uri": "https://localhost:8080/"
        },
        "id": "adw_FRfDkyyo",
        "outputId": "22696a07-44ac-49a2-825a-730c79122068"
      },
      "execution_count": null,
      "outputs": [
        {
          "output_type": "stream",
          "name": "stdout",
          "text": [
            "Please insert sentence:We love Python\n",
            "['We', 'love', 'Python']\n"
          ]
        }
      ]
    },
    {
      "cell_type": "markdown",
      "source": [
        "38.เขียนโปรแกรมรับอินพุต 2 ตัวที่เป็นสายอักขระ (sentence, c) ให้ทำการตัดคำใน sentence โดยใช้ c เป็นตัวตัดคำ หลังจากนั้นให้พิมพ์ผลลัพธ์จากการการตัดคำออกมา\n",
        "\n",
        "\n",
        "> ตัวอย่างที่1: สมมติให้ sentence = 'Py-thon',c = '-' ผลลัพธ์ที่จะพิมพ์ออกมาคือ ['Py','thon']\n",
        "\n"
      ],
      "metadata": {
        "id": "S8ozEV8BjtQy"
      }
    },
    {
      "cell_type": "code",
      "source": [
        "string1 = input('Please insert string1:')\n",
        "string2 = input('Please insert string2:')\n",
        "print(string1.split(string2))"
      ],
      "metadata": {
        "colab": {
          "base_uri": "https://localhost:8080/"
        },
        "id": "zB8AMN9Ck0LQ",
        "outputId": "e5b2ab26-a112-4f18-baaa-7026bbab1b43"
      },
      "execution_count": null,
      "outputs": [
        {
          "output_type": "stream",
          "name": "stdout",
          "text": [
            "Please insert string1:sentence\n",
            "Please insert string2:c\n",
            "['senten', 'e']\n"
          ]
        }
      ]
    },
    {
      "cell_type": "markdown",
      "source": [
        "39.เขียนโปรแกรมรับอินพุต 2 ตัวที่เป็นสายอักขระ (str1, str2) ให้ทำการต่อสายอักขระทั้งสอง (โดยนำ str2 ไปต่อหลัง str1) หลังจากนั้นให้พิมพ์ผลลัพธ์ออกมา\n",
        "\n",
        "\n",
        "> ตัวอย่างที่ 1:สมมติให้ str1 = 'Fri',str2 ='day' ผลลัพธ์ที่จะพิมพ์ออกมาคือ 'friday'\n",
        "\n"
      ],
      "metadata": {
        "id": "cWj_mQuVjtUY"
      }
    },
    {
      "cell_type": "code",
      "source": [
        "string1 = input('Please insert string1:')\n",
        "string2 = input('Please insert string2:')\n",
        "print(string1+string2)"
      ],
      "metadata": {
        "colab": {
          "base_uri": "https://localhost:8080/"
        },
        "id": "Nf8R7E4JlF7S",
        "outputId": "8d87aeea-a3dd-415e-b2f3-b8af35020fd2"
      },
      "execution_count": null,
      "outputs": [
        {
          "output_type": "stream",
          "name": "stdout",
          "text": [
            "Please insert string1:123-\n",
            "Please insert string2:4567890\n",
            "123-4567890\n"
          ]
        }
      ]
    },
    {
      "cell_type": "markdown",
      "source": [
        "# List"
      ],
      "metadata": {
        "id": "m3hJDAdtQRQC"
      }
    },
    {
      "cell_type": "markdown",
      "source": [
        "40.เขียนโปรแกรมสร้าง List ที่มีสมาชิก 0,1,2,'a','b','c' ตามลำดับ จากนั้นให้ทำการพิมพ์ค่าและชนิดข้อมูลของ List ที่สร้างออกมา"
      ],
      "metadata": {
        "id": "zQGgWfEtjtZ5"
      }
    },
    {
      "cell_type": "code",
      "source": [
        "list1 = [0,1,2,'a','b','c']\n",
        "print(list1)\n",
        "print(type(list1))"
      ],
      "metadata": {
        "colab": {
          "base_uri": "https://localhost:8080/"
        },
        "id": "rnYg64QglGh4",
        "outputId": "2f960774-cae7-489b-8556-612ff57a3721"
      },
      "execution_count": null,
      "outputs": [
        {
          "output_type": "stream",
          "name": "stdout",
          "text": [
            "[0, 1, 2, 'a', 'b', 'c']\n",
            "<class 'list'>\n"
          ]
        }
      ]
    },
    {
      "cell_type": "code",
      "source": [],
      "metadata": {
        "id": "9x3iyCIClGsX"
      },
      "execution_count": null,
      "outputs": []
    },
    {
      "cell_type": "markdown",
      "source": [
        "41.กำหนดให้ list1 =[0,1,2,'a','b','c'] เขียนโปรแกรมเพื่อพิมพ์สมาชิกที่ inndex เป็น 2 ออกมา"
      ],
      "metadata": {
        "id": "-tk10gkkjtd1"
      }
    },
    {
      "cell_type": "code",
      "source": [
        "list1 =[0,1,2,'a','b','c']\n",
        "print(list1[2])"
      ],
      "metadata": {
        "colab": {
          "base_uri": "https://localhost:8080/"
        },
        "id": "ew-7Zd4nlHyY",
        "outputId": "e8582b0e-2aad-4cfb-f9d7-5c951403dbb6"
      },
      "execution_count": null,
      "outputs": [
        {
          "output_type": "stream",
          "name": "stdout",
          "text": [
            "2\n"
          ]
        }
      ]
    },
    {
      "cell_type": "code",
      "source": [],
      "metadata": {
        "id": "VDhjxTLYlHNo"
      },
      "execution_count": null,
      "outputs": []
    },
    {
      "cell_type": "markdown",
      "source": [
        "42.กำหนดให้ list1 =[0,1,2,'a','b','c'] เขียนโปรแกรมเพื่อพิมพ์สมาชิกที่ inndex เป็น -3 ออกมา"
      ],
      "metadata": {
        "id": "PlPXNp71jthu"
      }
    },
    {
      "cell_type": "code",
      "source": [
        "list1 =[0,1,2,'a','b','c']\n",
        "print(list1[-3])"
      ],
      "metadata": {
        "colab": {
          "base_uri": "https://localhost:8080/"
        },
        "id": "USQn4esWlJOY",
        "outputId": "9b560dc7-652d-42f8-a991-29f5121f14c6"
      },
      "execution_count": null,
      "outputs": [
        {
          "output_type": "stream",
          "name": "stdout",
          "text": [
            "a\n"
          ]
        }
      ]
    },
    {
      "cell_type": "code",
      "source": [],
      "metadata": {
        "id": "rC46ubgWlIm5"
      },
      "execution_count": null,
      "outputs": []
    },
    {
      "cell_type": "markdown",
      "source": [
        "43.กำหนดให้ list1 =[0,1,2,'a','b','c'] เขียนโปรแกรมเพื่อพิมพ์ 0 ออกมาโดยอ้างอิงตำแหน่งจาก list1"
      ],
      "metadata": {
        "id": "bGLgMJYHkGxw"
      }
    },
    {
      "cell_type": "code",
      "source": [
        "list1 =[0,1,2,'a','b','c'] "
      ],
      "metadata": {
        "id": "JsmLvQrblKOX"
      },
      "execution_count": null,
      "outputs": []
    },
    {
      "cell_type": "code",
      "source": [
        "print(list1[0])"
      ],
      "metadata": {
        "colab": {
          "base_uri": "https://localhost:8080/"
        },
        "id": "G7sVUPK7lJvw",
        "outputId": "d4dafaca-56da-4e19-835d-1ec45e7bd05c"
      },
      "execution_count": null,
      "outputs": [
        {
          "output_type": "stream",
          "name": "stdout",
          "text": [
            "0\n"
          ]
        }
      ]
    },
    {
      "cell_type": "markdown",
      "source": [
        "44.กำหนดให้ list1 =[0,1,2,'a','b','c'] เขียนโปรแกรมเพื่อพิมพ์ 'b'ออกมาโดยอ้างอิงตำแหน่งจาก list1"
      ],
      "metadata": {
        "id": "rPyVfBOMkG1P"
      }
    },
    {
      "cell_type": "code",
      "source": [
        "list1 =[0,1,2,'a','b','c']\n",
        "print(list1[4])"
      ],
      "metadata": {
        "colab": {
          "base_uri": "https://localhost:8080/"
        },
        "id": "wrIEh80DlK3Y",
        "outputId": "a956c384-a534-4228-e820-de3decbf95b9"
      },
      "execution_count": null,
      "outputs": [
        {
          "output_type": "stream",
          "name": "stdout",
          "text": [
            "b\n"
          ]
        }
      ]
    },
    {
      "cell_type": "code",
      "source": [
        "list1 =[0,1,2,'a','b','c']\n",
        "print(list1[-2])"
      ],
      "metadata": {
        "colab": {
          "base_uri": "https://localhost:8080/"
        },
        "id": "DvQounJVlK-Z",
        "outputId": "d408105e-f01a-4948-d988-03f5efde4bf6"
      },
      "execution_count": null,
      "outputs": [
        {
          "output_type": "stream",
          "name": "stdout",
          "text": [
            "b\n"
          ]
        }
      ]
    },
    {
      "cell_type": "markdown",
      "source": [
        "45.กำหนดให้ list1 =[0,1,2,'a','b','c'] เขียนโปรแกรมเพื่อพิมพ์ list ที่มีสมาชิกตั้งแต่ index ที่ 2 จนถึง index ที่ 3 ของ list1 ออกมา"
      ],
      "metadata": {
        "id": "bmRRQjx_kG4o"
      }
    },
    {
      "cell_type": "code",
      "source": [
        "list1 =[0,1,2,'a','b','c']\n",
        "print(list1[2:4])"
      ],
      "metadata": {
        "colab": {
          "base_uri": "https://localhost:8080/"
        },
        "id": "AWT9AA51lMog",
        "outputId": "a878ef4f-b719-486f-e8d0-4bd73751c9de"
      },
      "execution_count": null,
      "outputs": [
        {
          "output_type": "stream",
          "name": "stdout",
          "text": [
            "[2, 'a']\n"
          ]
        }
      ]
    },
    {
      "cell_type": "code",
      "source": [],
      "metadata": {
        "colab": {
          "base_uri": "https://localhost:8080/"
        },
        "id": "bIgoy07zlMIZ",
        "outputId": "60232da6-2dfd-4e1f-dc5d-0134cf8209c1"
      },
      "execution_count": null,
      "outputs": [
        {
          "output_type": "stream",
          "name": "stdout",
          "text": [
            "[1, 2, 'a', 'b']\n"
          ]
        }
      ]
    },
    {
      "cell_type": "markdown",
      "source": [
        "46.กำหนดให้ list1 =[0,1,2,'a','b','c'] เขียนโปรแกรมเพื่อพิมพ์ list ที่มีสมาชิกตั้งแต่ index ที่ 1 จนถึง index ที่ -2 ของ list1 ออกมา"
      ],
      "metadata": {
        "id": "EDR7T3WZkG7l"
      }
    },
    {
      "cell_type": "code",
      "source": [
        "list1 =[0,1,2,'a','b','c']\n",
        "print(list1[1:-1])"
      ],
      "metadata": {
        "colab": {
          "base_uri": "https://localhost:8080/"
        },
        "id": "a3qdjbsNlNpB",
        "outputId": "b82746bf-c989-4ae2-935e-2d3a249a22ca"
      },
      "execution_count": null,
      "outputs": [
        {
          "output_type": "stream",
          "name": "stdout",
          "text": [
            "[1, 2, 'a', 'b']\n"
          ]
        }
      ]
    },
    {
      "cell_type": "markdown",
      "source": [
        "47.กำหนดให้ list1 =[0,1,2,'a','b','c'] เขียนโปรแกรมเพื่อพิมพ์[1,2,'a','b'] โดยอ้างอิงตำแหน่งจาก list1"
      ],
      "metadata": {
        "id": "bSaKBPgqkG-X"
      }
    },
    {
      "cell_type": "code",
      "source": [
        "list1 =[0,1,2,'a','b','c']\n",
        "print(list1[1:5])"
      ],
      "metadata": {
        "colab": {
          "base_uri": "https://localhost:8080/"
        },
        "id": "LYuGkNNolOHg",
        "outputId": "2d3b4fc1-41d6-445d-842f-dca9af377417"
      },
      "execution_count": null,
      "outputs": [
        {
          "output_type": "stream",
          "name": "stdout",
          "text": [
            "[1, 2, 'a', 'b']\n"
          ]
        }
      ]
    },
    {
      "cell_type": "code",
      "source": [
        "list1 =[0,1,2,'a','b','c']\n",
        "print(list1[1:-1])"
      ],
      "metadata": {
        "colab": {
          "base_uri": "https://localhost:8080/"
        },
        "id": "Bjr8oJ1QXRKP",
        "outputId": "c060b8a9-7e76-4265-9018-d33aea273cc8"
      },
      "execution_count": null,
      "outputs": [
        {
          "output_type": "stream",
          "name": "stdout",
          "text": [
            "[1, 2, 'a', 'b']\n"
          ]
        }
      ]
    },
    {
      "cell_type": "code",
      "source": [
        "list1 =[0,1,2,'a','b','c']\n",
        "print(list1[-5:5])"
      ],
      "metadata": {
        "colab": {
          "base_uri": "https://localhost:8080/"
        },
        "id": "MuJ4upKwXoq2",
        "outputId": "75d8106c-bfd7-4bdd-895b-35a772340a97"
      },
      "execution_count": null,
      "outputs": [
        {
          "output_type": "stream",
          "name": "stdout",
          "text": [
            "[1, 2, 'a', 'b']\n"
          ]
        }
      ]
    },
    {
      "cell_type": "code",
      "source": [
        "list1 =[0,1,2,'a','b','c']\n",
        "print(list1[-5:-1])"
      ],
      "metadata": {
        "colab": {
          "base_uri": "https://localhost:8080/"
        },
        "id": "5TaJJPB8XrOG",
        "outputId": "158c0f31-a908-44cc-aa34-e364dbe7ea95"
      },
      "execution_count": null,
      "outputs": [
        {
          "output_type": "stream",
          "name": "stdout",
          "text": [
            "[1, 2, 'a', 'b']\n"
          ]
        }
      ]
    },
    {
      "cell_type": "markdown",
      "source": [
        "48.กำหนดให้ list1 =[0,1,2,'a','b','c'] เขียนโปรแกรมเพื่อพิมพ์['a','b','c'] โดยอ้างอิงตำแหน่งจาก list1"
      ],
      "metadata": {
        "id": "0-5kVpSqkHBV"
      }
    },
    {
      "cell_type": "code",
      "source": [
        "list1 =[0,1,2,'a','b','c']\n",
        "print(list1[3:])"
      ],
      "metadata": {
        "colab": {
          "base_uri": "https://localhost:8080/"
        },
        "id": "-h6TumSelPmB",
        "outputId": "e4ffa74c-a2e7-43f7-af8a-884edc435d27"
      },
      "execution_count": null,
      "outputs": [
        {
          "output_type": "stream",
          "name": "stdout",
          "text": [
            "['a', 'b', 'c']\n"
          ]
        }
      ]
    },
    {
      "cell_type": "code",
      "source": [
        "list1 =[0,1,2,'a','b','c']\n",
        "print(list1[-3:])"
      ],
      "metadata": {
        "colab": {
          "base_uri": "https://localhost:8080/"
        },
        "id": "vOu6DrMFXoBe",
        "outputId": "903cf979-fc9f-49ae-d731-355e4d0d66ae"
      },
      "execution_count": null,
      "outputs": [
        {
          "output_type": "stream",
          "name": "stdout",
          "text": [
            "['a', 'b', 'c']\n"
          ]
        }
      ]
    },
    {
      "cell_type": "code",
      "source": [],
      "metadata": {
        "id": "7bSkREhNlOnQ"
      },
      "execution_count": null,
      "outputs": []
    },
    {
      "cell_type": "markdown",
      "source": [
        "49.กำหนดให้ list1 =[0,1,2,'a','b','c'] เขียนโปรแกรมเพื่อพิมพ์[0,1,2] โดยอ้างอิงตำแหน่งจาก list1"
      ],
      "metadata": {
        "id": "rbH0WDNjkHEQ"
      }
    },
    {
      "cell_type": "code",
      "source": [
        "list1 =[0,1,2,'a','b','c']\n",
        "print(list1[:3])"
      ],
      "metadata": {
        "colab": {
          "base_uri": "https://localhost:8080/"
        },
        "id": "Bo0EYqd8lQ4Q",
        "outputId": "267c8995-4315-4908-fe29-fb148cec0d2c"
      },
      "execution_count": null,
      "outputs": [
        {
          "output_type": "stream",
          "name": "stdout",
          "text": [
            "[0, 1, 2]\n"
          ]
        }
      ]
    },
    {
      "cell_type": "code",
      "source": [
        "list1 =[0,1,2,'a','b','c']\n",
        "print(list1[:-3])"
      ],
      "metadata": {
        "cellView": "code",
        "id": "cwtAqQB3lQTx"
      },
      "execution_count": null,
      "outputs": []
    },
    {
      "cell_type": "markdown",
      "source": [
        "50.กำหนดให้ list2 =['ant','bird','cat','dog','eagle'] เขียนโปรแกรมเพื่อเปลี่ยนค่าสมาชิกใน index ที่ 3 เป็น 'duck' หลังจากนั้นให้พิมพ์ list2 ออกมา"
      ],
      "metadata": {
        "id": "wycobK1TkHKP"
      }
    },
    {
      "cell_type": "code",
      "source": [
        " list2 =['ant','bird','cat','dog','eagle']\n",
        " list2[3]= 'duck'\n",
        " print(list2)"
      ],
      "metadata": {
        "colab": {
          "base_uri": "https://localhost:8080/"
        },
        "id": "iwjex3ZulSzP",
        "outputId": "90cebe37-3b2c-4820-f246-dcb1b002bf63"
      },
      "execution_count": null,
      "outputs": [
        {
          "output_type": "stream",
          "name": "stdout",
          "text": [
            "['ant', 'bird', 'cat', 'duck', 'eagle']\n"
          ]
        }
      ]
    },
    {
      "cell_type": "markdown",
      "source": [
        "51.กำหนดให้ list2 =['ant','bird','cat','dog','eagle'] เขียนโปรแกรมเพื่อเปลี่ยน  'ant'เป็น 'ape' หลังจากนั้นให้พิมพ์ list2 ออกมา"
      ],
      "metadata": {
        "id": "vZ_t2BMfkHNe"
      }
    },
    {
      "cell_type": "code",
      "source": [
        " list2 =['ant','bird','cat','dog','eagle']\n",
        " list2[0]= 'ape'\n",
        " print(list2)"
      ],
      "metadata": {
        "colab": {
          "base_uri": "https://localhost:8080/"
        },
        "id": "pQnbveB4lUZo",
        "outputId": "4b7a8bf2-5376-4408-c861-eb77613689b0"
      },
      "execution_count": null,
      "outputs": [
        {
          "output_type": "stream",
          "name": "stdout",
          "text": [
            "['ape', 'bird', 'cat', 'dog', 'eagle']\n"
          ]
        }
      ]
    },
    {
      "cell_type": "code",
      "source": [
        " list2 =['ant','bird','cat','dog','eagle']\n",
        " list2[-5]= 'ape'\n",
        " print(list2)"
      ],
      "metadata": {
        "colab": {
          "base_uri": "https://localhost:8080/"
        },
        "id": "5NnVptgQlT1x",
        "outputId": "1ca77a73-a255-4155-82f8-9aad3bff9154"
      },
      "execution_count": null,
      "outputs": [
        {
          "output_type": "stream",
          "name": "stdout",
          "text": [
            "['ape', 'bird', 'cat', 'dog', 'eagle']\n"
          ]
        }
      ]
    },
    {
      "cell_type": "markdown",
      "source": [
        "52.กำหนดให้ list2 =['ant','bird','cat','dog','eagle']เขียนโปรแกรมเพื่อเพิ่ม 'fish' ไปเป้นสมาชิกตัวสุดท้ายของ list2 หลังจากนั้นให้่พิมพ์ list2 ออกมา"
      ],
      "metadata": {
        "id": "BftFs44TkHQQ"
      }
    },
    {
      "cell_type": "code",
      "source": [
        " list2 =['ant','bird','cat','dog','eagle']\n",
        " list2[4]= 'fish'\n",
        " print(list2)"
      ],
      "metadata": {
        "colab": {
          "base_uri": "https://localhost:8080/"
        },
        "id": "4o01TMEPlWQY",
        "outputId": "b028202c-99f2-469a-bde4-06fcbe148def"
      },
      "execution_count": null,
      "outputs": [
        {
          "output_type": "stream",
          "name": "stdout",
          "text": [
            "['ant', 'bird', 'cat', 'dog', 'fish']\n"
          ]
        }
      ]
    },
    {
      "cell_type": "code",
      "source": [
        " list2 =['ant','bird','cat','dog','eagle']\n",
        " list2[-1]= 'fish'\n",
        " print(list2)"
      ],
      "metadata": {
        "colab": {
          "base_uri": "https://localhost:8080/"
        },
        "id": "OI5Q8AbTlVJJ",
        "outputId": "4439ab01-9315-4d4f-a0e9-7f5e2a71b545"
      },
      "execution_count": null,
      "outputs": [
        {
          "output_type": "stream",
          "name": "stdout",
          "text": [
            "['ant', 'bird', 'cat', 'dog', 'fish']\n"
          ]
        }
      ]
    },
    {
      "cell_type": "markdown",
      "source": [
        "53.เขียนโปรแกรมสร้าง empty list และรับอินพุฒ 3 ตัวที่เป็นสายอักขระ(str1,str2,str3) จากนั้นให้ทำการเพิ่มสายอักขระทั้ง 3 ไปเป็นสมาชิกใน list โดยใช้เมธอด append สุดท้ายให้พิมพ์ list ออกมา"
      ],
      "metadata": {
        "id": "lDb3RuDhkQhS"
      }
    },
    {
      "cell_type": "code",
      "source": [
        "list2 = []\n",
        "str1 = input('Please insert first element:')\n",
        "str2 = input('Please insert second element:')\n",
        "str3 = input('Please insert third element:')\n",
        "list2.append(str1)\n",
        "list2.append(str2)\n",
        "list2.append(str3)\n",
        "print(list2)"
      ],
      "metadata": {
        "colab": {
          "base_uri": "https://localhost:8080/"
        },
        "id": "Z0xTLFFmlXaD",
        "outputId": "b71dd9a0-9a2b-4e43-ab9f-afffc08f5770"
      },
      "execution_count": null,
      "outputs": [
        {
          "output_type": "stream",
          "name": "stdout",
          "text": [
            "Please insert first element:1\n",
            "Please insert second element:2\n",
            "Please insert third element:3\n",
            "['1', '2', '3']\n"
          ]
        }
      ]
    },
    {
      "cell_type": "markdown",
      "source": [
        "54.กำหนดให้ list3 =['apple','cherry','eggfruit'] เขียนโปรแกรมเพื่อแทรก 'ba-nana' ไปเป็นสมชิกใน index ที่1 ของ list3 หลังจากนั้นให้พิมพ์ list3 ออกมา"
      ],
      "metadata": {
        "id": "_Zd9VUuTkQko"
      }
    },
    {
      "cell_type": "code",
      "source": [
        "list3 =['apple','cherry','eggfruit']\n",
        "list3.insert(1,'banana')\n",
        "print(list3)"
      ],
      "metadata": {
        "colab": {
          "base_uri": "https://localhost:8080/"
        },
        "id": "crDhwYtvlYDb",
        "outputId": "c6cdb181-666e-40f5-8de7-bc96edd36c4e"
      },
      "execution_count": null,
      "outputs": [
        {
          "output_type": "stream",
          "name": "stdout",
          "text": [
            "['apple', 'banana', 'cherry', 'eggfruit']\n"
          ]
        }
      ]
    },
    {
      "cell_type": "code",
      "source": [],
      "metadata": {
        "id": "BQ-pFdBXlYTp"
      },
      "execution_count": null,
      "outputs": []
    },
    {
      "cell_type": "markdown",
      "source": [
        "55.กำหนดให้ list3 =['apple','banana',''cherry','eggfruit'] เขียนโปรแกรมเพื่อแทรก 'kiwi' ไปเป็นสมชิกใน index ที่-2 ของ list3 หลังจากนั้นให้พิมพ์ list3 ออกมา\n"
      ],
      "metadata": {
        "id": "rwsGwLE9kQnz"
      }
    },
    {
      "cell_type": "code",
      "source": [
        "list3 =['apple','cherry','eggfruit']\n",
        "list3.insert(-1,'kiwi')\n",
        "print(list3)"
      ],
      "metadata": {
        "colab": {
          "base_uri": "https://localhost:8080/"
        },
        "id": "KDFHJacplZMi",
        "outputId": "c7547f3b-0fad-4e5b-d66e-2e924d32e202"
      },
      "execution_count": null,
      "outputs": [
        {
          "output_type": "stream",
          "name": "stdout",
          "text": [
            "['apple', 'cherry', 'kiwi', 'eggfruit']\n"
          ]
        }
      ]
    },
    {
      "cell_type": "markdown",
      "source": [
        "56.กำหนดให้ list4=[0,4,2,3,1] เขียนโปรแกรมเพื่อเรียงลำดับข้อมูลใน list4 จากน้อยไปมาก หลังจากนั้นให้พิมพ์ list4 ออกมา"
      ],
      "metadata": {
        "id": "nuZf1jLYkQrL"
      }
    },
    {
      "cell_type": "code",
      "source": [
        "list4=[0,4,2,3,1] \n",
        "list4.sort()\n",
        "print(list4)"
      ],
      "metadata": {
        "colab": {
          "base_uri": "https://localhost:8080/"
        },
        "id": "hDpvn68ZlZ1Z",
        "outputId": "82d86f8d-6f04-452d-b176-abeb39baf329"
      },
      "execution_count": null,
      "outputs": [
        {
          "output_type": "stream",
          "name": "stdout",
          "text": [
            "[0, 1, 2, 3, 4]\n"
          ]
        }
      ]
    },
    {
      "cell_type": "markdown",
      "source": [
        "57.กำหนดให้ list4=[0,4,2,3,1] เขียนโปรแกรมเพื่อเรียงลำดับข้อมูลใน list4 จากมากไปน้อย หลังจากนั้นให้พิมพ์ list4 ออกมา"
      ],
      "metadata": {
        "id": "smI5sB_IkQuB"
      }
    },
    {
      "cell_type": "code",
      "source": [
        "list4=[0,4,2,3,1] \n",
        "list4.sort(reverse=True)\n",
        "print(list4)"
      ],
      "metadata": {
        "colab": {
          "base_uri": "https://localhost:8080/"
        },
        "id": "lRMJ37pNlakx",
        "outputId": "0769aff9-2219-4a96-fd04-3c4397131ef4"
      },
      "execution_count": null,
      "outputs": [
        {
          "output_type": "stream",
          "name": "stdout",
          "text": [
            "[4, 3, 2, 1, 0]\n"
          ]
        }
      ]
    },
    {
      "cell_type": "markdown",
      "source": [
        "58.กำหนดให้ list4=[0,4,2,3,1] เขียนโปรแกรมเพื่อเรียงลำดับข้อมูลใน list4 จากน้อยไปมาก และเก็บค่าไว้ในตัวแปรชื่อ sorted_list4 หลังจากนั้นให้พิมพ์ sorted_list4 ออกมา"
      ],
      "metadata": {
        "id": "u7Wm6eJCkHS0"
      }
    },
    {
      "cell_type": "code",
      "source": [
        "list4=[0,4,2,3,1]\n",
        "sort_list4 = sorted(list4)\n",
        "print(sort_list4)"
      ],
      "metadata": {
        "colab": {
          "base_uri": "https://localhost:8080/"
        },
        "id": "AgN6s0QPlbMq",
        "outputId": "49dd4bbb-459a-44a5-e06b-4bbc823b3df3"
      },
      "execution_count": null,
      "outputs": [
        {
          "output_type": "stream",
          "name": "stdout",
          "text": [
            "[0, 1, 2, 3, 4]\n"
          ]
        }
      ]
    },
    {
      "cell_type": "code",
      "source": [],
      "metadata": {
        "id": "4dacz7GrlbWY"
      },
      "execution_count": null,
      "outputs": []
    },
    {
      "cell_type": "markdown",
      "source": [
        "59.กำหนดให้ list4=[0,4,2,3,1] เขียนโปรแกรมเพื่อเรียงลำดับข้อมูลใน list4 จากมากไปน้อย และเก็บค่าไว้ในตัวแปรชื่อ sorted_list4 หลังจากนั้นให้พิมพ์ sorted_list4 ออกมา"
      ],
      "metadata": {
        "id": "DN_8TTjskZyg"
      }
    },
    {
      "cell_type": "code",
      "source": [
        "list4=[0,4,2,3,1]\n",
        "sort_list4 = sorted(list4,reverse=True)\n",
        "print(sort_list4)"
      ],
      "metadata": {
        "colab": {
          "base_uri": "https://localhost:8080/"
        },
        "id": "UDFWvbNrlciB",
        "outputId": "22de292d-0ee8-4104-dc7a-4d3f97168ecc"
      },
      "execution_count": null,
      "outputs": [
        {
          "output_type": "stream",
          "name": "stdout",
          "text": [
            "[4, 3, 2, 1, 0]\n"
          ]
        }
      ]
    },
    {
      "cell_type": "markdown",
      "source": [
        "60.กำหนดให้ list5=['d','a','c','b','e'] เขียนโปรแกรมเพื่อเรียงลำดับข้อมูลใน list5 ตามตัวอักษร หล้ังจากนั้นให้พิมพ์ list5 ออกมา"
      ],
      "metadata": {
        "id": "gS7J_YEakZ2L"
      }
    },
    {
      "cell_type": "code",
      "source": [
        " list5=['d','a','c','b','e'] \n",
        " list5.sort()\n",
        " print(list5)"
      ],
      "metadata": {
        "colab": {
          "base_uri": "https://localhost:8080/"
        },
        "id": "5xiI6DX-ldRZ",
        "outputId": "b916aea2-d6e3-4af5-e1dd-43199fe59369"
      },
      "execution_count": null,
      "outputs": [
        {
          "output_type": "stream",
          "name": "stdout",
          "text": [
            "['a', 'b', 'c', 'd', 'e']\n"
          ]
        }
      ]
    },
    {
      "cell_type": "markdown",
      "source": [
        "61.กำหนดให้ list5=['d','a','c','b','e'] เขียนโปรแกรมเพื่อเรียงลำดับข้อมูลใน List5 ตามตัวอักษรแบบถอยหลัง และเก็บค่าไว้ในตัวแปรชื่อ sorted_list5 หลังจากนั้นให้พิมพ์ sorted_list5 ออกมา"
      ],
      "metadata": {
        "id": "oxMhq_xFkZ5G"
      }
    },
    {
      "cell_type": "code",
      "source": [
        "list5 = ['d','a','c','b','e']\n",
        "sorted_list5 = sorted(list5, reverse = True)\n",
        "print(sorted_list5\n",
        "      )"
      ],
      "metadata": {
        "id": "V880lTalldx8",
        "colab": {
          "base_uri": "https://localhost:8080/"
        },
        "outputId": "20f583bd-35e9-4b24-b3f2-563736a3eb8b"
      },
      "execution_count": null,
      "outputs": [
        {
          "output_type": "stream",
          "name": "stdout",
          "text": [
            "['e', 'd', 'c', 'b', 'a']\n"
          ]
        }
      ]
    },
    {
      "cell_type": "code",
      "source": [],
      "metadata": {
        "id": "QZGwG2exld76"
      },
      "execution_count": null,
      "outputs": []
    },
    {
      "cell_type": "markdown",
      "source": [
        "62.กำหนดให้ list1 =['a','b','c'] และ list2 = [0,1,2] เขียนโปรแกรมเพื่อนำสมาชิกทั้งหมดของ list2 ไปต่อท้าย list1 จากนั้นให้พิมพ์ list1 และ list2 ออกมา"
      ],
      "metadata": {
        "id": "s0AqvIVAkZ8Y"
      }
    },
    {
      "cell_type": "code",
      "source": [
        "list1 =['a','b','c']\n",
        "list2 = [0,1,2]\n",
        "list1.extend(list2)\n",
        "print(list1,list2)"
      ],
      "metadata": {
        "colab": {
          "base_uri": "https://localhost:8080/"
        },
        "id": "lmfGc1hglfqx",
        "outputId": "ffd1a605-c67f-4c00-d767-07a523880f08"
      },
      "execution_count": null,
      "outputs": [
        {
          "output_type": "stream",
          "name": "stdout",
          "text": [
            "['a', 'b', 'c', 0, 1, 2] [0, 1, 2]\n"
          ]
        }
      ]
    },
    {
      "cell_type": "code",
      "source": [],
      "metadata": {
        "id": "Ssai1lJ9leaB"
      },
      "execution_count": null,
      "outputs": []
    },
    {
      "cell_type": "markdown",
      "source": [
        "63.กำหนดให้ list1 =['a','b','c'] และ list2 = [0,1,2] เขียนโปรแกรมเพื่อนำสมาชิกทั้งหมดของ list2 ไปต่อท้าย list1 และเก็บ list ที่ได้จากการดำเนินการไว้ในตัวแปรชื่อ list3 จากนั้นให้พิมพ์ list1,list2 และ list3 ออกมา"
      ],
      "metadata": {
        "id": "k9xu45dAkaAG"
      }
    },
    {
      "cell_type": "code",
      "source": [
        "list1 =['a','b','c']\n",
        "list2 = [0,1,2] \n",
        "list3 =list1+list2\n",
        "print(list1)\n",
        "print(list2)\n",
        "print(list3)\n"
      ],
      "metadata": {
        "id": "Nih2Exselhoa",
        "colab": {
          "base_uri": "https://localhost:8080/"
        },
        "outputId": "93fa1b03-f48a-4b8f-eb40-073543736520"
      },
      "execution_count": null,
      "outputs": [
        {
          "output_type": "stream",
          "name": "stdout",
          "text": [
            "['a', 'b', 'c']\n",
            "[0, 1, 2]\n",
            "['a', 'b', 'c', 0, 1, 2]\n"
          ]
        }
      ]
    },
    {
      "cell_type": "code",
      "source": [],
      "metadata": {
        "id": "B-jDnD9HlhOZ"
      },
      "execution_count": null,
      "outputs": []
    },
    {
      "cell_type": "markdown",
      "source": [
        "64.กำหนดให้ list1 =[1,2,3,1,2,3] เขียนโปรแกรมลบสมาชิกใน index ที่ 1 ออกจาก list1 โดยใช้คำสั่ง del หลังจากนั้นให้พิมพ์ list1 ออกมา"
      ],
      "metadata": {
        "id": "_k2y0sRqkgWB"
      }
    },
    {
      "cell_type": "code",
      "source": [
        "list1 =[1,2,3,1,2,3]\n",
        "del list1[1]\n",
        "print(list1)"
      ],
      "metadata": {
        "id": "zgl1C3NCliba",
        "colab": {
          "base_uri": "https://localhost:8080/"
        },
        "outputId": "1c974d8e-ddf8-44ce-9e1c-47c261685f44"
      },
      "execution_count": null,
      "outputs": [
        {
          "output_type": "stream",
          "name": "stdout",
          "text": [
            "[1, 3, 1, 2, 3]\n"
          ]
        }
      ]
    },
    {
      "cell_type": "markdown",
      "source": [
        "65.กำหนดให้ list1 = [1,2,3,1,2,3]  เขียนโปรแกรมลบ 3 ทั้งหมดออกจาก list1 โดยใช้คำสั่ง Del หลังจากนั้นให้พิมพ์ list1 ออกมา"
      ],
      "metadata": {
        "id": "WJ0Ncnq5kgZQ"
      }
    },
    {
      "cell_type": "code",
      "source": [
        "list1 =[1,2,3,1,2,3]\n",
        "del list1[-1]\n",
        "del list1[2]\n",
        "print(list1)"
      ],
      "metadata": {
        "id": "hC_o5P6-ljsa",
        "colab": {
          "base_uri": "https://localhost:8080/"
        },
        "outputId": "726b2d51-be3e-4be4-8f03-a1ae7f642a56"
      },
      "execution_count": null,
      "outputs": [
        {
          "output_type": "stream",
          "name": "stdout",
          "text": [
            "[1, 2, 1, 2]\n"
          ]
        }
      ]
    },
    {
      "cell_type": "markdown",
      "source": [
        "66.กำหนดให้ list1 = [1,2,3,1,2,3]  เขียนโปรแกรมลบ 1 ออกจาก list1 โดยใช้เมธอด Remove หลังจากนั้นให้พิมพ์ list1 ออกมา"
      ],
      "metadata": {
        "id": "2OPqp3EokgcX"
      }
    },
    {
      "cell_type": "code",
      "source": [
        "list1 = [1,2,3,1,2,3] \n",
        "list1.remove(1)\n",
        "print(list1)"
      ],
      "metadata": {
        "id": "zS7iA086llL6",
        "colab": {
          "base_uri": "https://localhost:8080/"
        },
        "outputId": "962094a6-0c4b-4f79-b88a-2e1f56e6cf96"
      },
      "execution_count": null,
      "outputs": [
        {
          "output_type": "stream",
          "name": "stdout",
          "text": [
            "[2, 3, 1, 2, 3]\n"
          ]
        }
      ]
    },
    {
      "cell_type": "markdown",
      "source": [
        "67.กำหนดให้ list1 = [1,2,3,1,2,3]  เขียนโปรแกรมลบ 1 ทั้งหมดออกจาก list1 โดยใช้เมธอด Remove หลังจากนั้นให้พิมพ์ list1 ออกมา\n"
      ],
      "metadata": {
        "id": "w8WU33cXkgfv"
      }
    },
    {
      "cell_type": "code",
      "source": [
        "list1 = [1,2,3,1,2,3] \n",
        "list1.remove(1)\n",
        "list1.remove(1)\n",
        "print(list1)"
      ],
      "metadata": {
        "id": "hVI3CEWSlmha",
        "colab": {
          "base_uri": "https://localhost:8080/"
        },
        "outputId": "bc6ae69a-a3fb-4ff6-cbd3-d47adc33caf5"
      },
      "execution_count": null,
      "outputs": [
        {
          "output_type": "stream",
          "name": "stdout",
          "text": [
            "[2, 3, 2, 3]\n"
          ]
        }
      ]
    },
    {
      "cell_type": "markdown",
      "source": [
        "68.กำหนดให้ list1 = [1,2,3,1,2,3]  เขียนโปรแกรมลบสมาชิกทุกตัวออกจาก list1 หลังจากนั้นให้พิมพ์ list1 ออกมา"
      ],
      "metadata": {
        "id": "qqkNSXjhko13"
      }
    },
    {
      "cell_type": "code",
      "source": [
        "list1 = [1,2,3,1,2,3] \n",
        "list1.clear()\n",
        "print(list1)"
      ],
      "metadata": {
        "id": "OGoWWoTUlnMx",
        "colab": {
          "base_uri": "https://localhost:8080/"
        },
        "outputId": "7887df90-e6a2-4e80-d8e1-a33657cb74be"
      },
      "execution_count": null,
      "outputs": [
        {
          "output_type": "stream",
          "name": "stdout",
          "text": [
            "[]\n"
          ]
        }
      ]
    },
    {
      "cell_type": "markdown",
      "source": [
        "## `07-07-2022` 50 ข้อ"
      ],
      "metadata": {
        "id": "8Ul9OHYjngir"
      }
    },
    {
      "cell_type": "markdown",
      "source": [
        "69.กำหนดให้ list1 =[1,2,3,'a','b','c'] เขียนโปรแกรมหาความยาวของ list1 และพิมพ์ออกมา"
      ],
      "metadata": {
        "id": "xHJ65KNhnkgC"
      }
    },
    {
      "cell_type": "code",
      "source": [
        "list1 =[1,2,3,'a','b','c']\n",
        "print(len(list1))"
      ],
      "metadata": {
        "id": "ZPRiVH4IpO3M",
        "colab": {
          "base_uri": "https://localhost:8080/"
        },
        "outputId": "a0020d8a-1ac3-4396-87c0-160e8062e4c5"
      },
      "execution_count": null,
      "outputs": [
        {
          "output_type": "stream",
          "name": "stdout",
          "text": [
            "6\n"
          ]
        }
      ]
    },
    {
      "cell_type": "markdown",
      "source": [
        "70.กำหนดให้ list1 = [1,2,3,4,5] เขียนโปรแกรมรับอินพุต 1 ตัวที่เป็นจำนวนเต็ม(numeric1) ให้ทำการตรวจว่า numeric1 เป็นสมาชิกใน list1 หรือไม่ จากนั้นให้พิมพ์ค่าความจริงออกมา"
      ],
      "metadata": {
        "id": "ochWb8-CnkmA"
      }
    },
    {
      "cell_type": "code",
      "source": [
        "list1 = [1,2,3,4,5] \n",
        "numeric1 = int(input('Please insert numeric1:'))\n",
        "print(numeric1 in list1)"
      ],
      "metadata": {
        "colab": {
          "base_uri": "https://localhost:8080/"
        },
        "id": "-6hG1dKxU954",
        "outputId": "676501ed-afc2-47ff-aa65-34fec4e231df"
      },
      "execution_count": null,
      "outputs": [
        {
          "output_type": "stream",
          "name": "stdout",
          "text": [
            "Please insert numeric1:5\n",
            "True\n"
          ]
        }
      ]
    },
    {
      "cell_type": "markdown",
      "source": [
        "# **Tuple**"
      ],
      "metadata": {
        "id": "Y8KHu8TfUz3S"
      }
    },
    {
      "cell_type": "markdown",
      "source": [
        "71. เขียนโปรแกรมสร้าง tuple ที่มีสมาชิกเป็น 'America','Brazil','China',Do-minican','Egypt' ตามลำกดับจากนั้นให้ทำการพิมพ์ค่า และชนิดข้อมูลของ tuple ที่สร้างออกมา"
      ],
      "metadata": {
        "id": "z-VjAYaTnkrE"
      }
    },
    {
      "cell_type": "code",
      "source": [
        "tuple1=( 'America','Brazil','China','Do-minican','Egypt')\n",
        "print(tuple1)\n",
        "print(type(tuple1))\n"
      ],
      "metadata": {
        "id": "qH-Z_afvpQQr",
        "colab": {
          "base_uri": "https://localhost:8080/"
        },
        "outputId": "76b67e0c-b5b0-4eb0-f6df-26b4a76e0f43"
      },
      "execution_count": null,
      "outputs": [
        {
          "output_type": "stream",
          "name": "stdout",
          "text": [
            "('America', 'Brazil', 'China', 'Do-minican', 'Egypt')\n",
            "<class 'tuple'>\n"
          ]
        }
      ]
    },
    {
      "cell_type": "markdown",
      "source": [
        "72.กำหนดให้ tuple1 =('America','Brazil','China','Do-minican','Egypt') เขียนโปรแกรมเพื่อพิมพ์สมาชิกที่ Index เป็น 1 ออกมา"
      ],
      "metadata": {
        "id": "NTGwgG06nktC"
      }
    },
    {
      "cell_type": "code",
      "source": [
        "tuple1 =('America','Brazil','China','Do-minican','Egypt') \n",
        "print(tuple1[1])"
      ],
      "metadata": {
        "id": "5g5iYKmlpQ5d",
        "colab": {
          "base_uri": "https://localhost:8080/"
        },
        "outputId": "035dbd48-31ac-4c1a-ce53-77ad5f407e7a"
      },
      "execution_count": null,
      "outputs": [
        {
          "output_type": "stream",
          "name": "stdout",
          "text": [
            "Brazil\n"
          ]
        }
      ]
    },
    {
      "cell_type": "markdown",
      "source": [
        "73.กำหนดให้ tuple1 =('America','Brazil','China','Do-minican','Egypt') เขียนโปรแกรมเพื่อพิมพ์สมาชิกที่ Index เป็น -2 ออกมา"
      ],
      "metadata": {
        "id": "ifG8cHnpnkv9"
      }
    },
    {
      "cell_type": "code",
      "source": [
        "tuple1 =('America','Brazil','China','Do-minican','Egypt')\n",
        "print(tuple1[-2])"
      ],
      "metadata": {
        "id": "bLCfg-eQpRYt",
        "colab": {
          "base_uri": "https://localhost:8080/"
        },
        "outputId": "b3af1de6-b8d1-460d-d92f-8992d72cee63"
      },
      "execution_count": null,
      "outputs": [
        {
          "output_type": "stream",
          "name": "stdout",
          "text": [
            "Do-minican\n"
          ]
        }
      ]
    },
    {
      "cell_type": "markdown",
      "source": [
        "74.กำหนดให้ tuple1 =('America','Brazil','China','Do-minican','Egypt')เขียนโปรแกรมเพื่อพิมพ์ 'China'ออกมาโดยอิ้างอิงตำแหน่งจาก tuple1"
      ],
      "metadata": {
        "id": "eApActJpnkzJ"
      }
    },
    {
      "cell_type": "code",
      "source": [
        "tuple1 =('America','Brazil','China','Do-minican','Egypt')\n",
        "print(tuple1[2])"
      ],
      "metadata": {
        "id": "WQr_xddepSBW",
        "colab": {
          "base_uri": "https://localhost:8080/"
        },
        "outputId": "0ed1c4f2-39f6-4c95-ee91-bbfd16d4114b"
      },
      "execution_count": null,
      "outputs": [
        {
          "output_type": "stream",
          "name": "stdout",
          "text": [
            "China\n"
          ]
        }
      ]
    },
    {
      "cell_type": "code",
      "source": [
        "tuple1 =('America','Brazil','China','Do-minican','Egypt')\n",
        "print(tuple1[-3])"
      ],
      "metadata": {
        "id": "1SIMelwfpSJD",
        "colab": {
          "base_uri": "https://localhost:8080/"
        },
        "outputId": "b693c45e-3b54-4486-e377-6adad18f9148"
      },
      "execution_count": null,
      "outputs": [
        {
          "output_type": "stream",
          "name": "stdout",
          "text": [
            "China\n"
          ]
        }
      ]
    },
    {
      "cell_type": "markdown",
      "source": [
        "75.กำหนดให้ tuple1 =('America','Brazil','China','Do-minican','Egypt')เขียนโปรแกรมเพื่อพิมพ์ 'Egypt'ออกมาโดยอิ้างอิงตำแหน่งจาก tuple1"
      ],
      "metadata": {
        "id": "7w8eSWTOnk2B"
      }
    },
    {
      "cell_type": "code",
      "source": [
        "tuple1 =('America','Brazil','China','Do-minican','Egypt')\n",
        "print(tuple1[-1])"
      ],
      "metadata": {
        "id": "FYpB0-JIpSsl",
        "colab": {
          "base_uri": "https://localhost:8080/"
        },
        "outputId": "98501e70-4647-493f-f271-b73fce49448e"
      },
      "execution_count": null,
      "outputs": [
        {
          "output_type": "stream",
          "name": "stdout",
          "text": [
            "Egypt\n"
          ]
        }
      ]
    },
    {
      "cell_type": "code",
      "source": [
        "tuple1 =('America','Brazil','China','Do-minican','Egypt')\n",
        "print(tuple1[4])"
      ],
      "metadata": {
        "id": "UASJu4EkpSx1",
        "colab": {
          "base_uri": "https://localhost:8080/"
        },
        "outputId": "c023cd26-5741-47e8-bfaa-1756ea9f09eb"
      },
      "execution_count": null,
      "outputs": [
        {
          "output_type": "stream",
          "name": "stdout",
          "text": [
            "Egypt\n"
          ]
        }
      ]
    },
    {
      "cell_type": "markdown",
      "source": [
        "76.กำหนดให้ tuple2 =('one','two','three','1','2','3') เขียนโปรแกรมเพื่อพิมพ์ tuple ที่มีสมาชิกตั้งแต่ Index ที่ 1 จนถึง Index ที่3 ของ tuple2 ออกมา"
      ],
      "metadata": {
        "id": "5QCDO9senk4_"
      }
    },
    {
      "cell_type": "code",
      "source": [
        "tuple2 =('one','two','three','1','2','3')\n",
        "print(tuple2[1:4])"
      ],
      "metadata": {
        "id": "WgnpRJWhpTVd",
        "colab": {
          "base_uri": "https://localhost:8080/"
        },
        "outputId": "b7cdc307-8c12-4cae-cb7b-d837f5255472"
      },
      "execution_count": null,
      "outputs": [
        {
          "output_type": "stream",
          "name": "stdout",
          "text": [
            "('two', 'three', '1')\n"
          ]
        }
      ]
    },
    {
      "cell_type": "markdown",
      "source": [
        "77.กำหนดให้ tuple2 =('one','two','three','1','2','3')เขียนโปรแกรมเพื่อพิมพ์ tuple ที่มีสมาชิกตั้งแต่ Index ที่ 2 จนถึง Index ที่-2 ของ tuple2 ออกมา"
      ],
      "metadata": {
        "id": "Do6IY8ocnk8v"
      }
    },
    {
      "cell_type": "code",
      "source": [
        "tuple2 =('one','two','three','1','2','3')\n",
        "print(tuple2[2:-1])"
      ],
      "metadata": {
        "id": "H0P9HeoJpUEx",
        "colab": {
          "base_uri": "https://localhost:8080/"
        },
        "outputId": "5f9cc3cb-f60c-4975-cd9d-303a5112f1f8"
      },
      "execution_count": null,
      "outputs": [
        {
          "output_type": "stream",
          "name": "stdout",
          "text": [
            "('three', '1', '2')\n"
          ]
        }
      ]
    },
    {
      "cell_type": "markdown",
      "source": [
        "78.กำหนดให้ tuple2 =('one','two','three','1','2','3')เขียนโปรแกรมเพื่อพิมพ์ ('three',1) โดยอ้างอิงตำแหน่งจาก tuple2"
      ],
      "metadata": {
        "id": "uKdsTLoHnk_D"
      }
    },
    {
      "cell_type": "code",
      "source": [
        "tuple2 =('one','two','three','1','2','3')\n",
        "print(tuple2[2:4])"
      ],
      "metadata": {
        "id": "sDzZe-K9pUmV",
        "colab": {
          "base_uri": "https://localhost:8080/"
        },
        "outputId": "f1a01313-3fca-4ab2-c93e-4c5e7297623f"
      },
      "execution_count": null,
      "outputs": [
        {
          "output_type": "stream",
          "name": "stdout",
          "text": [
            "('three', '1')\n"
          ]
        }
      ]
    },
    {
      "cell_type": "code",
      "source": [
        "tuple2 =('one','two','three','1','2','3')\n",
        "print(tuple2[-4:-2])"
      ],
      "metadata": {
        "id": "qT9CWFvdpUqj",
        "colab": {
          "base_uri": "https://localhost:8080/"
        },
        "outputId": "3d0cd685-b34b-440d-bf0f-ec5eda914c14"
      },
      "execution_count": null,
      "outputs": [
        {
          "output_type": "stream",
          "name": "stdout",
          "text": [
            "('three', '1')\n"
          ]
        }
      ]
    },
    {
      "cell_type": "code",
      "source": [
        "tuple2 =('one','two','three','1','2','3')\n",
        "print(tuple2[2:-2])"
      ],
      "metadata": {
        "colab": {
          "base_uri": "https://localhost:8080/"
        },
        "id": "y-qT0cX1uFwh",
        "outputId": "5a2918de-2c4d-4a9c-d971-37bf71116af3"
      },
      "execution_count": null,
      "outputs": [
        {
          "output_type": "stream",
          "name": "stdout",
          "text": [
            "('three', '1')\n"
          ]
        }
      ]
    },
    {
      "cell_type": "code",
      "source": [
        "tuple2 =('one','two','three','1','2','3')\n",
        "print(tuple2[-4:-2])"
      ],
      "metadata": {
        "colab": {
          "base_uri": "https://localhost:8080/"
        },
        "id": "lkD42BjAuKGI",
        "outputId": "3e8f9e25-081d-4499-bc48-5dc8f13a14ff"
      },
      "execution_count": null,
      "outputs": [
        {
          "output_type": "stream",
          "name": "stdout",
          "text": [
            "('three', '1')\n"
          ]
        }
      ]
    },
    {
      "cell_type": "markdown",
      "source": [
        "79.กำหนดให้ tuple2 =('one','two','three','1','2','3')เขียนโปรแกรมเพื่อพิมพ์ ('one','two','three') โดยอ้างอิงตำแหน่งจาก tuple2"
      ],
      "metadata": {
        "id": "eh5rJqB7nlCu"
      }
    },
    {
      "cell_type": "code",
      "source": [
        "tuple2 =('one','two','three','1','2','3')\n",
        "print(tuple2[:3])"
      ],
      "metadata": {
        "id": "TogNsFKdpVGN",
        "colab": {
          "base_uri": "https://localhost:8080/"
        },
        "outputId": "135f7dbd-c499-470a-b1eb-d3c467f3534f"
      },
      "execution_count": null,
      "outputs": [
        {
          "output_type": "stream",
          "name": "stdout",
          "text": [
            "('one', 'two', 'three')\n"
          ]
        }
      ]
    },
    {
      "cell_type": "code",
      "source": [
        "tuple2 =('one','two','three','1','2','3')\n",
        "print(tuple2[:-3])"
      ],
      "metadata": {
        "id": "icJBET-0pVRU",
        "colab": {
          "base_uri": "https://localhost:8080/"
        },
        "outputId": "3fcb83fd-dfc3-4938-8123-a083f440e977"
      },
      "execution_count": null,
      "outputs": [
        {
          "output_type": "stream",
          "name": "stdout",
          "text": [
            "('one', 'two', 'three')\n"
          ]
        }
      ]
    },
    {
      "cell_type": "code",
      "source": [
        "tuple2 =('one','two','three','1','2','3')\n",
        "print(tuple2[0:3])"
      ],
      "metadata": {
        "colab": {
          "base_uri": "https://localhost:8080/"
        },
        "id": "k22mNOM2zm7d",
        "outputId": "6289af57-3727-48f7-f7da-5e16f5bf7de8"
      },
      "execution_count": null,
      "outputs": [
        {
          "output_type": "stream",
          "name": "stdout",
          "text": [
            "('one', 'two', 'three')\n"
          ]
        }
      ]
    },
    {
      "cell_type": "code",
      "source": [
        "tuple2 =('one','two','three','1','2','3')\n",
        "print(tuple2[-6:-3])"
      ],
      "metadata": {
        "colab": {
          "base_uri": "https://localhost:8080/"
        },
        "id": "zOGNIG8kzycX",
        "outputId": "c2fbb8e0-3a4e-4373-b9e5-61bff4aee289"
      },
      "execution_count": null,
      "outputs": [
        {
          "output_type": "stream",
          "name": "stdout",
          "text": [
            "('one', 'two', 'three')\n"
          ]
        }
      ]
    },
    {
      "cell_type": "markdown",
      "source": [
        "80.กำหนดให้ tuple2 =('one','two','three','1','2','3')เขียนโปรแกรมเพื่อพิมพ์ (1,2,3) โดยอ้างอิงตำแหน่งจาก tuple2"
      ],
      "metadata": {
        "id": "SRLvzUEMnlFL"
      }
    },
    {
      "cell_type": "code",
      "source": [
        "tuple2 =('one','two','three','1','2','3')\n",
        "print(tuple2[3:])"
      ],
      "metadata": {
        "id": "Kj2MWCCspV6G",
        "colab": {
          "base_uri": "https://localhost:8080/"
        },
        "outputId": "902cc056-55b4-4b23-f02f-b293534a0a91"
      },
      "execution_count": null,
      "outputs": [
        {
          "output_type": "stream",
          "name": "stdout",
          "text": [
            "('1', '2', '3')\n"
          ]
        }
      ]
    },
    {
      "cell_type": "code",
      "source": [
        "tuple2 =('one','two','three','1','2','3')\n",
        "print(tuple2[-3:])"
      ],
      "metadata": {
        "id": "1iMwum2GpWCj",
        "colab": {
          "base_uri": "https://localhost:8080/"
        },
        "outputId": "5f72650c-9465-4ca0-e93b-de786d89636c"
      },
      "execution_count": null,
      "outputs": [
        {
          "output_type": "stream",
          "name": "stdout",
          "text": [
            "('1', '2', '3')\n"
          ]
        }
      ]
    },
    {
      "cell_type": "markdown",
      "source": [
        "81.กำหนดให้ tuple3 =('one','two','three','four','five')เขียนโปรแกรมหาความยาวของ tuple3 และพิมพ์ออกมา"
      ],
      "metadata": {
        "id": "q1riNe4mnlJK"
      }
    },
    {
      "cell_type": "code",
      "source": [
        "tuple3 =('one','two','three','four','five')\n",
        "print(len(tuple3))\n"
      ],
      "metadata": {
        "id": "4nvaMy1DpWa_",
        "colab": {
          "base_uri": "https://localhost:8080/"
        },
        "outputId": "db80b64d-cd06-4d16-c464-7cce8391ba33"
      },
      "execution_count": null,
      "outputs": [
        {
          "output_type": "stream",
          "name": "stdout",
          "text": [
            "5\n"
          ]
        }
      ]
    },
    {
      "cell_type": "code",
      "source": [],
      "metadata": {
        "id": "iEgYAOXMpWfw"
      },
      "execution_count": null,
      "outputs": []
    },
    {
      "cell_type": "markdown",
      "source": [
        "82.กำหนดให้ tuple3 =('one','two','three','four','five')เขียนโปรแกรมรับอินพุต 1 ตัวที่เป็นสายอักขระ(str1) ให้ทำการตรวจว่า str1 เป็นสมาชิกใย tuple3 หรือไม่ จากนั้นให้พิมพ์ค่าความจริงออกมา"
      ],
      "metadata": {
        "id": "XgLLEgPQnlLU"
      }
    },
    {
      "cell_type": "code",
      "source": [
        "tuple3 =('one','two','three','four','five')\n",
        "str1 = str(input('Please insert str:'))\n",
        "print(str1 in tuple3)"
      ],
      "metadata": {
        "id": "kdjWQW6BpXAl",
        "colab": {
          "base_uri": "https://localhost:8080/"
        },
        "outputId": "a98f7f09-6ed4-4c23-c93d-3ec8bf87c0a2"
      },
      "execution_count": null,
      "outputs": [
        {
          "output_type": "stream",
          "name": "stdout",
          "text": [
            "Please insert str:four\n",
            "True\n"
          ]
        }
      ]
    },
    {
      "cell_type": "code",
      "source": [],
      "metadata": {
        "id": "iKYjwLsgpXGU"
      },
      "execution_count": null,
      "outputs": []
    },
    {
      "cell_type": "markdown",
      "source": [
        "# **Dictionany**"
      ],
      "metadata": {
        "id": "dMjN0lPAnlOj"
      }
    },
    {
      "cell_type": "markdown",
      "source": [
        "83.เขียนโปรแกรมสร้าง dictionary ที่มี key เป็น 'first_name' และ 'last_name' โดยมี value เป็น 'John' และ 'Doe' ตามลำดับ จากนั้นให้ทำการพิมพ์ค่าและชนิดข้อมูลของ Dictionary ที่สร้างออกมา"
      ],
      "metadata": {
        "id": "2ZRljQ3GnlRy"
      }
    },
    {
      "cell_type": "code",
      "source": [
        "dict1 ={'first_name':'John','last_name' :'Doe'}\n",
        "print(dict1)\n",
        "print(type(dict1))"
      ],
      "metadata": {
        "id": "XVNIjItSpYRe",
        "colab": {
          "base_uri": "https://localhost:8080/"
        },
        "outputId": "08fda11e-564b-40c0-88c5-84d2b4c74674"
      },
      "execution_count": null,
      "outputs": [
        {
          "output_type": "stream",
          "name": "stdout",
          "text": [
            "{'first_name': 'John', 'last_name': 'Doe'}\n",
            "<class 'dict'>\n"
          ]
        }
      ]
    },
    {
      "cell_type": "code",
      "source": [],
      "metadata": {
        "id": "BeQ_LczGpYYv"
      },
      "execution_count": null,
      "outputs": []
    },
    {
      "cell_type": "markdown",
      "source": [
        "84.กำหนดให้ dict1 = {'first_name':'John', 'last_name': 'doe'} เขียนโปรแกรมพิมพ์ value ของ key 'first_name' ออกมา"
      ],
      "metadata": {
        "id": "ii1YXAplnlVI"
      }
    },
    {
      "cell_type": "code",
      "source": [
        "dict1 = {'first_name':'John', 'last_name': 'doe'}\n",
        "print(dict1['first_name'])"
      ],
      "metadata": {
        "id": "xmwWfLl8pYyV",
        "colab": {
          "base_uri": "https://localhost:8080/"
        },
        "outputId": "a981f722-6881-4774-8200-3364032c2a7f"
      },
      "execution_count": null,
      "outputs": [
        {
          "output_type": "stream",
          "name": "stdout",
          "text": [
            "John\n"
          ]
        }
      ]
    },
    {
      "cell_type": "code",
      "source": [],
      "metadata": {
        "id": "NsNQgfKlpY12"
      },
      "execution_count": null,
      "outputs": []
    },
    {
      "cell_type": "markdown",
      "source": [
        "85.กำหนดให้ dict1 = {'first_name': 'John', 'last_name':'Doe'} เขียนโปรแกรมพิมพ์ value ของ key 'last_name' ออกมา"
      ],
      "metadata": {
        "id": "m5w_Z9DfnlYC"
      }
    },
    {
      "cell_type": "code",
      "source": [
        "dict1 = {'first_name':'John', 'last_name': 'doe'}\n",
        "print(dict1['last_name'])"
      ],
      "metadata": {
        "id": "WA_TTTV7pZXd",
        "colab": {
          "base_uri": "https://localhost:8080/"
        },
        "outputId": "5bb8e7e3-433a-4398-8488-02262e31e6e2"
      },
      "execution_count": null,
      "outputs": [
        {
          "output_type": "stream",
          "name": "stdout",
          "text": [
            "doe\n"
          ]
        }
      ]
    },
    {
      "cell_type": "code",
      "source": [],
      "metadata": {
        "id": "JeevUV6apZk8"
      },
      "execution_count": null,
      "outputs": []
    },
    {
      "cell_type": "markdown",
      "source": [
        "86.กำหนดให้ dict1 = {'first_name':'John','last_name':'Doe'} เขียนโปรแกรมพิมพ์ list ของ key ทั้งหมดใน Dict1 ออกมา"
      ],
      "metadata": {
        "id": "GKQN4CNRnlbp"
      }
    },
    {
      "cell_type": "code",
      "source": [
        "dict1 = {'first_name':'John', 'last_name': 'doe'}\n",
        "print(dict1.keys())"
      ],
      "metadata": {
        "id": "JbSQtrNOpaYd",
        "colab": {
          "base_uri": "https://localhost:8080/"
        },
        "outputId": "0c5914ed-8554-40eb-a270-745505f27bb9"
      },
      "execution_count": null,
      "outputs": [
        {
          "output_type": "stream",
          "name": "stdout",
          "text": [
            "dict_keys(['first_name', 'last_name'])\n"
          ]
        }
      ]
    },
    {
      "cell_type": "code",
      "source": [],
      "metadata": {
        "id": "XmK3YHATpacD"
      },
      "execution_count": null,
      "outputs": []
    },
    {
      "cell_type": "markdown",
      "source": [
        "87.กำหนดให้ dict1 = {'first_name':'John','last_name':'Doe'} เขียนโปรแกรมพิมพ์ list ของ value ทั้งหมดใน Dict1 ออกมา"
      ],
      "metadata": {
        "id": "psZumYPLnleL"
      }
    },
    {
      "cell_type": "code",
      "source": [
        "dict1 = {'first_name':'John', 'last_name': 'doe'}\n",
        "print(dict1.values())"
      ],
      "metadata": {
        "id": "XFSBNA8rpa4m",
        "colab": {
          "base_uri": "https://localhost:8080/"
        },
        "outputId": "0de5a6f6-b461-4086-cdf9-a8cc49fe9238"
      },
      "execution_count": null,
      "outputs": [
        {
          "output_type": "stream",
          "name": "stdout",
          "text": [
            "dict_values(['John', 'doe'])\n"
          ]
        }
      ]
    },
    {
      "cell_type": "code",
      "source": [],
      "metadata": {
        "id": "oPQd7Lsxpa8U"
      },
      "execution_count": null,
      "outputs": []
    },
    {
      "cell_type": "markdown",
      "source": [
        "88.กำหนดให้ dict1 = {'first_name':'John','last_name':'Doe'} เขียนโปรแกรมเปลี่ยน value ของ key 'first_name' เป็น 'Jane' หลังจากนั้นให้พิมพ์ dict1 ออกมา"
      ],
      "metadata": {
        "id": "zBGhhhOVnliO"
      }
    },
    {
      "cell_type": "code",
      "source": [
        "dict1 = {'first_name':'John', 'last_name': 'doe'}\n",
        "dict1['first_name']='Jane' \n",
        "print(dict1)"
      ],
      "metadata": {
        "id": "cAu37hNCpbdt",
        "colab": {
          "base_uri": "https://localhost:8080/"
        },
        "outputId": "aa644fdf-b575-4dbe-fecc-0fa6307872c1"
      },
      "execution_count": null,
      "outputs": [
        {
          "output_type": "stream",
          "name": "stdout",
          "text": [
            "{'first_name': 'Jane', 'last_name': 'doe'}\n"
          ]
        }
      ]
    },
    {
      "cell_type": "code",
      "source": [],
      "metadata": {
        "id": "ncVKoIWvpbhO"
      },
      "execution_count": null,
      "outputs": []
    },
    {
      "cell_type": "markdown",
      "source": [
        "89.กำหนดให้ dict1 = {'first_name':'John','last_name':'Doe'} เขียนโปรแกรมสร้าง key ใหม่ชื่อ 'age' และกำหนด value เป็น 32 หลังจากนั้นให้พิมพ์ dict1 ออกมา"
      ],
      "metadata": {
        "id": "aLzPxR01nlkD"
      }
    },
    {
      "cell_type": "code",
      "source": [
        "dict1 = {'first_name':'John', 'last_name': 'doe'}\n",
        "dict1['age']=31\n",
        "print(dict1)"
      ],
      "metadata": {
        "id": "QSkTGdlZpcC9",
        "colab": {
          "base_uri": "https://localhost:8080/"
        },
        "outputId": "a63dabef-8b22-4402-a5ad-6a63a300278a"
      },
      "execution_count": null,
      "outputs": [
        {
          "output_type": "stream",
          "name": "stdout",
          "text": [
            "{'first_name': 'John', 'last_name': 'doe', 'age': 31}\n"
          ]
        }
      ]
    },
    {
      "cell_type": "code",
      "source": [],
      "metadata": {
        "id": "IJ5zkH0cpcIV"
      },
      "execution_count": null,
      "outputs": []
    },
    {
      "cell_type": "markdown",
      "source": [
        "90.กำหนดให้ dict1 = {'first_name': 'John','last_name': 'Doe'} เขียนโปรแกรมสร้าง key ใหม่ชื่อ 'age' และ 'hobby' โดยมี value เป็น 32 และ ['coding','stucding'] ตามลำดับ หลังจากนั้นให้พิมพ์ dict1 ออกมา"
      ],
      "metadata": {
        "id": "2MQKOom-nlm5"
      }
    },
    {
      "cell_type": "code",
      "source": [
        "dict1 = {'first_name': 'John','last_name': 'Doe'} \n",
        "dict1.update({'age':32,'hobby':['coding','stucding']})\n",
        "print(dict1)"
      ],
      "metadata": {
        "id": "3X1Tqrv_pcku",
        "colab": {
          "base_uri": "https://localhost:8080/"
        },
        "outputId": "fe0c8fed-7fe1-4572-a09b-234c82d2c85a"
      },
      "execution_count": null,
      "outputs": [
        {
          "output_type": "stream",
          "name": "stdout",
          "text": [
            "{'first_name': 'John', 'last_name': 'Doe', 'age': 32, 'hobby': ['coding', 'stucding']}\n"
          ]
        }
      ]
    },
    {
      "cell_type": "code",
      "source": [],
      "metadata": {
        "id": "3cx-PdjPpcos"
      },
      "execution_count": null,
      "outputs": []
    },
    {
      "cell_type": "markdown",
      "source": [
        "91.เขียนโปรแกรมสร้าง empty dictionary และรับอินพุต 2 ตัวที่เป็นสายอักขระ (str1,str2) โดยให้ str1 เป็น key และ str2 เป็น value หลังจากนั้นให้พิมพ์ dictionary ออกมา"
      ],
      "metadata": {
        "id": "YRg8MTdzon1u"
      }
    },
    {
      "cell_type": "code",
      "source": [
        "dict1 = {}\n",
        "str1 = input('Please insert str1:')\n",
        "str2 = input('Please insert str2:')\n",
        "dict1[str1]=str2\n",
        "print(dict1)"
      ],
      "metadata": {
        "id": "CwIpbgs_pdLl",
        "colab": {
          "base_uri": "https://localhost:8080/"
        },
        "outputId": "f290836b-9df4-4f81-e3fe-174bfb68ae2f"
      },
      "execution_count": null,
      "outputs": [
        {
          "output_type": "stream",
          "name": "stdout",
          "text": [
            "Please insert str1:Name\n",
            "Please insert str2:San\n",
            "{'Name': 'San'}\n"
          ]
        }
      ]
    },
    {
      "cell_type": "code",
      "source": [],
      "metadata": {
        "id": "dx7PeSrfpdQY"
      },
      "execution_count": null,
      "outputs": []
    },
    {
      "cell_type": "markdown",
      "source": [
        "92.กำหนดให้ dict1 ={'firstname':'John','last_name':'Doe','age':32} เขียนโปรแกรมลบ key 'age' ออกจาก dict1 หลังจากนั้นให้พมพ์ dict1 ออกมา"
      ],
      "metadata": {
        "id": "kbb7bETlon5F"
      }
    },
    {
      "cell_type": "code",
      "source": [
        "dict1 ={'firstname':'John','last_name':'Doe','age':32}\n",
        "del dict1['age']\n",
        "print(dict1)"
      ],
      "metadata": {
        "id": "zIFFa097pd0t",
        "colab": {
          "base_uri": "https://localhost:8080/"
        },
        "outputId": "eec92774-07c0-4bac-f439-4b624416fd8b"
      },
      "execution_count": null,
      "outputs": [
        {
          "output_type": "stream",
          "name": "stdout",
          "text": [
            "{'firstname': 'John', 'last_name': 'Doe'}\n"
          ]
        }
      ]
    },
    {
      "cell_type": "code",
      "source": [],
      "metadata": {
        "id": "UUfeW_k2pd4O"
      },
      "execution_count": null,
      "outputs": []
    },
    {
      "cell_type": "markdown",
      "source": [
        "93.กำหนดให้ dict1 = {'first_name':'John','last_name':'Doe','age':32} เขียนโปรแกรมลบข้อมูลทั้งหมดออกจาก dict1 หลังจากนั้นให้พิมพ์ dict1 ออกมา"
      ],
      "metadata": {
        "id": "690gQPgcon8o"
      }
    },
    {
      "cell_type": "code",
      "source": [
        "dict1 ={'firstname':'John','last_name':'Doe','age':32}\n",
        "dict1.clear()\n",
        "print(dict1)"
      ],
      "metadata": {
        "id": "Jc1o94XfpeZd",
        "colab": {
          "base_uri": "https://localhost:8080/"
        },
        "outputId": "5c686027-d5cc-4726-9a99-a19ed61e9a65"
      },
      "execution_count": null,
      "outputs": [
        {
          "output_type": "stream",
          "name": "stdout",
          "text": [
            "{}\n"
          ]
        }
      ]
    },
    {
      "cell_type": "markdown",
      "source": [
        "94.กำหนดให้ dict1 = {'first_name':'John','last_name':'Doe','age':32} เขียนโปรแกรมพิมพ์จำนวน key ของ dict1 ออกมา"
      ],
      "metadata": {
        "id": "dpRer-tAon_G"
      }
    },
    {
      "cell_type": "code",
      "source": [
        "dict1 = {'first_name':'John','last_name':'Doe','age':32}\n",
        "print(len(dict1))"
      ],
      "metadata": {
        "id": "yiinyTorpfEX",
        "colab": {
          "base_uri": "https://localhost:8080/"
        },
        "outputId": "ba834aa9-7c74-409d-c16a-b2aee102b644"
      },
      "execution_count": null,
      "outputs": [
        {
          "output_type": "stream",
          "name": "stdout",
          "text": [
            "3\n"
          ]
        }
      ]
    },
    {
      "cell_type": "code",
      "source": [
        "dict1 = {'first_name':'John','last_name':'Doe','age':32}\n",
        "print(len(dict1.keys()))"
      ],
      "metadata": {
        "id": "pSDUBfuDpfI-",
        "colab": {
          "base_uri": "https://localhost:8080/"
        },
        "outputId": "82c1d457-6c1c-4578-d972-88b024eebd02"
      },
      "execution_count": null,
      "outputs": [
        {
          "output_type": "stream",
          "name": "stdout",
          "text": [
            "3\n"
          ]
        }
      ]
    },
    {
      "cell_type": "markdown",
      "source": [
        "95.กำหนดให้ dict1 = {'first_name':'John','last_name':'Doe','age':32} เขียนโปรแกรมรับอินพุต 1 ตัวที่เป็นสายอักขระ (str1) ให้ทำการตรวจว่า str1 เป็นหนึ่งใน key ของ dict1 หรือไม่ จากนั้นให้พิมพ์ค่าความจริงออกมา"
      ],
      "metadata": {
        "id": "pGF_j5iAooBu"
      }
    },
    {
      "cell_type": "code",
      "source": [
        "dict1 = {'first_name':'John','last_name':'Doe','age':32} \n",
        "str1 = input('Please insert st1:')\n",
        "print(str1 in dict1.keys())"
      ],
      "metadata": {
        "id": "Ymfb6F6Spfn1",
        "colab": {
          "base_uri": "https://localhost:8080/"
        },
        "outputId": "791dadcb-5bbe-4f87-901b-64e99fe66a47"
      },
      "execution_count": null,
      "outputs": [
        {
          "output_type": "stream",
          "name": "stdout",
          "text": [
            "Please insert st1:first_name\n",
            "True\n"
          ]
        }
      ]
    },
    {
      "cell_type": "code",
      "source": [
        "dict1 = {'first_name':'John','last_name':'Doe','age':32} \n",
        "str1 = input('Please insert st1:')\n",
        "print(str1 in dict1)"
      ],
      "metadata": {
        "id": "ZrujQp75pfrt",
        "colab": {
          "base_uri": "https://localhost:8080/"
        },
        "outputId": "ca9283ab-3332-45c4-b648-a694da29b3f9"
      },
      "execution_count": null,
      "outputs": [
        {
          "output_type": "stream",
          "name": "stdout",
          "text": [
            "Please insert st1:first_name\n",
            "True\n"
          ]
        }
      ]
    },
    {
      "cell_type": "markdown",
      "source": [
        "96.กำหนดให้ dict1 = {'first_name':'John','last_name':'Doe','age':32} เขียนโปรแกรมรับอินพุต 1 ตัวที่เป็นสายอักขระ (str1) ให้ทำการตรวจว่า str1 เป็นหนึ่งใน value ของ dict1 หรือไม่ จากนั้นให้พิมพ์ค่าความจริงออกมา"
      ],
      "metadata": {
        "id": "cBu1om5qooGD"
      }
    },
    {
      "cell_type": "code",
      "source": [
        "dict1 = {'first_name':'John','last_name':'Doe','age':32} \n",
        "str1 = input('Please insert st1:')\n",
        "print(str1 in dict1.values())"
      ],
      "metadata": {
        "id": "e9wfo6KtpgR2",
        "colab": {
          "base_uri": "https://localhost:8080/"
        },
        "outputId": "1ee1f9ef-4fc7-4368-cffa-5dbe345759fe"
      },
      "execution_count": null,
      "outputs": [
        {
          "output_type": "stream",
          "name": "stdout",
          "text": [
            "Please insert st1:Doe\n",
            "True\n"
          ]
        }
      ]
    },
    {
      "cell_type": "code",
      "source": [],
      "metadata": {
        "id": "LyoXdC1apgWM"
      },
      "execution_count": null,
      "outputs": []
    },
    {
      "cell_type": "markdown",
      "source": [
        "### **Set**"
      ],
      "metadata": {
        "id": "8bOWAia0jOrC"
      }
    },
    {
      "cell_type": "markdown",
      "source": [
        "97.เขียนโปรแกรมสร้าง set ที่มีสมาชิก 1,2,3,'i','ii','iii' จากนั้านให้ทำการพิมพ์ค่าและชนิดข้อมูลของ Set ที่สร้างออกมา"
      ],
      "metadata": {
        "id": "69i0BMu9ooH4"
      }
    },
    {
      "cell_type": "code",
      "source": [
        "set1 = {1,2,3,'i','ii','iii'}\n",
        "print(set1)\n",
        "print(type(set1))"
      ],
      "metadata": {
        "id": "YHdQksQGpgyR",
        "colab": {
          "base_uri": "https://localhost:8080/"
        },
        "outputId": "05188ddc-ef34-4f5c-8a80-910c8f4a12ba"
      },
      "execution_count": null,
      "outputs": [
        {
          "output_type": "stream",
          "name": "stdout",
          "text": [
            "{1, 2, 3, 'iii', 'ii', 'i'}\n",
            "<class 'set'>\n"
          ]
        }
      ]
    },
    {
      "cell_type": "code",
      "source": [],
      "metadata": {
        "id": "kBd5Z43ypg12"
      },
      "execution_count": null,
      "outputs": []
    },
    {
      "cell_type": "markdown",
      "source": [
        "98.กำหนดให้ set1 ={1,2,3,'i','ii','iii'} เขียนโปรแกรมพิมพ์สมาชิกทุกตัวใน set1 ออกมา"
      ],
      "metadata": {
        "id": "cYoL58FIooLn"
      }
    },
    {
      "cell_type": "code",
      "source": [
        "set1 = {1,2,3,'i','ii','iii'}\n",
        "for s in set1 :\n",
        "  print(s)"
      ],
      "metadata": {
        "id": "rCOmhIJMphxW",
        "colab": {
          "base_uri": "https://localhost:8080/"
        },
        "outputId": "f8b814da-ed60-40fc-95c2-1317302c49f7"
      },
      "execution_count": null,
      "outputs": [
        {
          "output_type": "stream",
          "name": "stdout",
          "text": [
            "1\n",
            "2\n",
            "3\n",
            "iii\n",
            "ii\n",
            "i\n"
          ]
        }
      ]
    },
    {
      "cell_type": "markdown",
      "source": [
        "99.กำหนดให้ set1 ={1,2,3,'i','ii','iii'} เขียนโปรแกรมเพิ่ม 'iv' ไปเป็นสมาชิกใน set1 จากนั้นให้พิมพ์ set1 ออกมา"
      ],
      "metadata": {
        "id": "6j_z5hfSnlqG"
      }
    },
    {
      "cell_type": "code",
      "source": [
        "set1 = {1,2,3,'i','ii','iii'}\n",
        "set1.add('iv')\n",
        "print(set1)"
      ],
      "metadata": {
        "id": "4_fZEiBUpi8t",
        "colab": {
          "base_uri": "https://localhost:8080/"
        },
        "outputId": "8153976a-9e6b-404a-c0de-c2b4cedf3f41"
      },
      "execution_count": null,
      "outputs": [
        {
          "output_type": "stream",
          "name": "stdout",
          "text": [
            "{1, 2, 3, 'iii', 'iv', 'ii', 'i'}\n"
          ]
        }
      ]
    },
    {
      "cell_type": "markdown",
      "source": [
        "100.กำหนดให้ set1 ={1,2,3,'i','ii','iii'} เขียนโปรแกรมเพิ่ม 1 ไปเป็นสมาชิกใน set1 จากนั้นให้พิมพ์ set1 ออกมา"
      ],
      "metadata": {
        "id": "BfN2xfVuVpBW"
      }
    },
    {
      "cell_type": "code",
      "source": [
        "set1 = {1,2,3,'i','ii','iii'}\n",
        "set1.add(1)\n",
        "print(set1)"
      ],
      "metadata": {
        "id": "8hEPwOMTpjA4",
        "colab": {
          "base_uri": "https://localhost:8080/"
        },
        "outputId": "c5e74885-00af-44ac-c43e-f9fe1684763e"
      },
      "execution_count": null,
      "outputs": [
        {
          "output_type": "stream",
          "name": "stdout",
          "text": [
            "{1, 2, 3, 'iii', 'ii', 'i'}\n"
          ]
        }
      ]
    },
    {
      "cell_type": "markdown",
      "source": [
        "101.เขียนโปรแกรมสร้าง empty set และรับอินพุต 3 ตัวที่เป็นสายอักขระ(str1,str2,str3) จากนั้นให้ทำการเพิ่มสายอักขระทั้ง 3 ไปเป็นสมาชิกใน set สุดท้ายให้พิมพ์ set ออกมา"
      ],
      "metadata": {
        "id": "Q8f0FfconlvB"
      }
    },
    {
      "cell_type": "code",
      "source": [
        "set1 = set()\n",
        "str1 = input('Please insert str1:')\n",
        "str2 = input('Please insert str2:')\n",
        "str3 = input('Please insert str3:')\n",
        "set1.add(str1)\n",
        "set1.add(str2)\n",
        "set1.add(str3)\n",
        "print(set1)"
      ],
      "metadata": {
        "id": "ZA5e1-a_pjdO",
        "colab": {
          "base_uri": "https://localhost:8080/"
        },
        "outputId": "10312167-7175-400d-8946-f185f2fe5f91"
      },
      "execution_count": null,
      "outputs": [
        {
          "output_type": "stream",
          "name": "stdout",
          "text": [
            "Please insert str1:1\n",
            "Please insert str2:2\n",
            "Please insert str3:3\n",
            "{'2', '3', '1'}\n"
          ]
        }
      ]
    },
    {
      "cell_type": "code",
      "source": [],
      "metadata": {
        "id": "VPOugvjrpjgw"
      },
      "execution_count": null,
      "outputs": []
    },
    {
      "cell_type": "markdown",
      "source": [
        "102.เขียนโปรแกรมสร้าง empty set และรับอินพุต 3 ตัวที่เป็นสายอักขระ(str1,str2,str3) จากนั้นให้ทำการเพิ่มสายอักขระทั้ง 3 ไปเป็นสมาชิกใน set โดยการใช้เมธอด update สุดท้ายให้พิมพ์ set ออกมา"
      ],
      "metadata": {
        "id": "yzl3WTFJozLe"
      }
    },
    {
      "cell_type": "code",
      "source": [
        "set1 = set()\n",
        "str1 = input('Please insert str1:')\n",
        "str2 = input('Please insert str2:')\n",
        "str3 = input('Please insert str3:')\n",
        "set1.update({str1,str2,str3})\n",
        "print(set1)"
      ],
      "metadata": {
        "id": "_jSotYdopkE9",
        "colab": {
          "base_uri": "https://localhost:8080/"
        },
        "outputId": "cc17beb0-2af0-4116-96f5-385e8a08abe5"
      },
      "execution_count": null,
      "outputs": [
        {
          "output_type": "stream",
          "name": "stdout",
          "text": [
            "Please insert str1:1\n",
            "Please insert str2:2\n",
            "Please insert str3:3\n",
            "{'2', '3', '1'}\n"
          ]
        }
      ]
    },
    {
      "cell_type": "code",
      "source": [],
      "metadata": {
        "id": "oJGTUB7SpkIV"
      },
      "execution_count": null,
      "outputs": []
    },
    {
      "cell_type": "markdown",
      "source": [
        "103.กำหนดให้ set1 ={1,2,3,'i','ii','iii'} เขียนโปรแกรมลบ 'i' จาก set1 จากนั้นให้พิมพ์ set1 ออกมา"
      ],
      "metadata": {
        "id": "Jhdl0dPZozO3"
      }
    },
    {
      "cell_type": "code",
      "source": [
        "set1 ={1,2,3,'i','ii','iii'}\n",
        "set1.remove('i')\n",
        "print(set1)"
      ],
      "metadata": {
        "id": "WzhYES7CpkoX",
        "colab": {
          "base_uri": "https://localhost:8080/"
        },
        "outputId": "53762273-bc65-4c0d-cf9e-3d36e646fa95"
      },
      "execution_count": null,
      "outputs": [
        {
          "output_type": "stream",
          "name": "stdout",
          "text": [
            "{1, 2, 3, 'iii', 'ii'}\n"
          ]
        }
      ]
    },
    {
      "cell_type": "code",
      "source": [],
      "metadata": {
        "id": "gWk_hpZ0pksE"
      },
      "execution_count": null,
      "outputs": []
    },
    {
      "cell_type": "markdown",
      "source": [
        "104.กำหนดให้ set1 ={1,2,3,'i','ii','iii'} เขียนโปรแกรมพิมพ์จำนวนสมาชิกใน set1 ออกมา"
      ],
      "metadata": {
        "id": "4ohtjwzcozT_"
      }
    },
    {
      "cell_type": "code",
      "source": [
        "set1 ={1,2,3,'i','ii','iii'}\n",
        "print(len(set1))"
      ],
      "metadata": {
        "id": "KobJXJrrplMw",
        "colab": {
          "base_uri": "https://localhost:8080/"
        },
        "outputId": "ba4d95e4-300c-42b4-d969-c397761ef5b6"
      },
      "execution_count": null,
      "outputs": [
        {
          "output_type": "stream",
          "name": "stdout",
          "text": [
            "6\n"
          ]
        }
      ]
    },
    {
      "cell_type": "code",
      "source": [],
      "metadata": {
        "id": "sAsNqUf5plRE"
      },
      "execution_count": null,
      "outputs": []
    },
    {
      "cell_type": "markdown",
      "source": [
        "105.กำหนดให้ set1 ={1,2,3,'i','ii','iii'} เขียนโปรแกรมรับอินพุต 1 ตัวที่เป็นจำนวนเต็ม(int1) ให้ทำการตรวจว่า int1 เป็นสมาชิกของ set1 หรือไม่ จากน้ั้นให้พิมพ์ค่าความจริงออกมา"
      ],
      "metadata": {
        "id": "6ybZTKkaozV0"
      }
    },
    {
      "cell_type": "code",
      "source": [
        "set1 ={1,2,3,'i','ii','iii'} \n",
        "int1 = int(input('Please insert int1:'))\n",
        "print(int1 in set1)"
      ],
      "metadata": {
        "id": "Tj0XZv1xplxV",
        "colab": {
          "base_uri": "https://localhost:8080/"
        },
        "outputId": "ac0a77e1-8998-4a32-e702-4edfc884da53"
      },
      "execution_count": null,
      "outputs": [
        {
          "output_type": "stream",
          "name": "stdout",
          "text": [
            "Please insert int1:5\n",
            "False\n"
          ]
        }
      ]
    },
    {
      "cell_type": "code",
      "source": [],
      "metadata": {
        "id": "TPXzO3hcpl1u"
      },
      "execution_count": null,
      "outputs": []
    },
    {
      "cell_type": "markdown",
      "source": [
        "106.กำหนดให้ set1 ={1,2,3,4,5} และ set2 ={3,4,5,6} เขียนโปรแกรมพิมพ์ผลลัพธ์ที่เกิดจากการ union ระหว่าง set1 และ set2 ออกมา "
      ],
      "metadata": {
        "id": "NasEMvufozYG"
      }
    },
    {
      "cell_type": "code",
      "source": [
        " set1 ={1,2,3,4,5}\n",
        " set2 ={3,4,5,6}\n",
        " print(set1 | set2)\n"
      ],
      "metadata": {
        "id": "qf1xHx1PpmeR",
        "colab": {
          "base_uri": "https://localhost:8080/"
        },
        "outputId": "ffc93f04-6dfb-45a8-814e-891e1999f321"
      },
      "execution_count": null,
      "outputs": [
        {
          "output_type": "stream",
          "name": "stdout",
          "text": [
            "{1, 2, 3, 4, 5, 6}\n"
          ]
        }
      ]
    },
    {
      "cell_type": "code",
      "source": [],
      "metadata": {
        "id": "vJrEJ1aGpmhn"
      },
      "execution_count": null,
      "outputs": []
    },
    {
      "cell_type": "markdown",
      "source": [
        "107.กำหนดให้ set1 ={1,2,3,4,5} และ set2 ={3,4,5,6} เขียนโปรแกรมพิมพ์ผลลัพธ์ที่เกิดจากการ intersection ระหว่าง set1 และ set2 ออกมา"
      ],
      "metadata": {
        "id": "FCUPhshzozbc"
      }
    },
    {
      "cell_type": "code",
      "source": [
        " set1 ={1,2,3,4,5}\n",
        " set2 ={3,4,5,6}\n",
        " print(set1 & set2)"
      ],
      "metadata": {
        "id": "7u0vtyXlpnIA",
        "colab": {
          "base_uri": "https://localhost:8080/"
        },
        "outputId": "d1f0cba0-f1fe-40ff-e03b-97b032c24479"
      },
      "execution_count": null,
      "outputs": [
        {
          "output_type": "stream",
          "name": "stdout",
          "text": [
            "{3, 4, 5}\n"
          ]
        }
      ]
    },
    {
      "cell_type": "code",
      "source": [],
      "metadata": {
        "id": "p6HGbkhvpnLZ"
      },
      "execution_count": null,
      "outputs": []
    },
    {
      "cell_type": "markdown",
      "source": [
        "108.กำหนดให้ set1 ={1,2,3,4,5} และ set2 ={3,4,5,6} เขียนโปรแกรมพิมพ์ผลลัพธ์ที่เกิดจาก set1 - set2 ออกมา"
      ],
      "metadata": {
        "id": "X8gPBeMwozeT"
      }
    },
    {
      "cell_type": "code",
      "source": [
        "set1 ={1,2,3,4,5}\n",
        "set2 ={3,4,5,6}\n",
        "print(set1-set2)"
      ],
      "metadata": {
        "id": "Ljslp8E-pny-",
        "colab": {
          "base_uri": "https://localhost:8080/"
        },
        "outputId": "e820ebf0-81c0-4379-9dac-3426f2d6bd4d"
      },
      "execution_count": null,
      "outputs": [
        {
          "output_type": "stream",
          "name": "stdout",
          "text": [
            "{1, 2}\n"
          ]
        }
      ]
    },
    {
      "cell_type": "code",
      "source": [],
      "metadata": {
        "id": "8Mug50e6pn29"
      },
      "execution_count": null,
      "outputs": []
    },
    {
      "cell_type": "markdown",
      "source": [
        "109.กำหนดให้ set1 ={1,2,3,4,5} และ set2 ={3,4,5,6} เขียนโปรแกรมพิมพ์ผลลัพธ์ที่เกิดจาก set2 - set1 ออกมา"
      ],
      "metadata": {
        "id": "O5K_dXwdozib"
      }
    },
    {
      "cell_type": "code",
      "source": [
        "set1 ={1,2,3,4,5}\n",
        "set2 ={3,4,5,6}\n",
        "print(set2-set1)"
      ],
      "metadata": {
        "id": "_PWFuWqapoae",
        "colab": {
          "base_uri": "https://localhost:8080/"
        },
        "outputId": "b0e18118-a2fa-471e-f82e-d82b00948e81"
      },
      "execution_count": null,
      "outputs": [
        {
          "output_type": "stream",
          "name": "stdout",
          "text": [
            "{6}\n"
          ]
        }
      ]
    },
    {
      "cell_type": "markdown",
      "source": [
        "110.กำหนดให้ set1 ={1,2,3,4,5} และ set2 ={3,4,5,6} เขียนโปรแกรมพิมพ์ผลลัพธ์ที่เกิดจากการ symmetric difference ระหว่าง set1 และ set2 ออกมา\n",
        "\n"
      ],
      "metadata": {
        "id": "QC1HTCajo-7N"
      }
    },
    {
      "cell_type": "code",
      "source": [
        "set1 ={1,2,3,4,5}\n",
        "set2 ={3,4,5,6} \n",
        "print(set1 ^ set2)"
      ],
      "metadata": {
        "id": "RwHByb2XppAP",
        "colab": {
          "base_uri": "https://localhost:8080/"
        },
        "outputId": "5fb583ce-4756-4a50-83d0-db62c203b95f"
      },
      "execution_count": null,
      "outputs": [
        {
          "output_type": "stream",
          "name": "stdout",
          "text": [
            "{1, 2, 6}\n"
          ]
        }
      ]
    },
    {
      "cell_type": "code",
      "source": [],
      "metadata": {
        "id": "1sPVFBHnppEi",
        "colab": {
          "base_uri": "https://localhost:8080/"
        },
        "outputId": "8f999dfb-5f5e-42c1-8a41-f2f4e06b9acf"
      },
      "execution_count": null,
      "outputs": [
        {
          "output_type": "execute_result",
          "data": {
            "text/plain": [
              "1"
            ]
          },
          "metadata": {},
          "execution_count": 101
        }
      ]
    },
    {
      "cell_type": "code",
      "source": [],
      "metadata": {
        "colab": {
          "base_uri": "https://localhost:8080/"
        },
        "id": "NY7bJoO9uJqR",
        "outputId": "7ae9fd53-9b2f-40a0-adc6-211cc88704ad"
      },
      "execution_count": null,
      "outputs": [
        {
          "output_type": "execute_result",
          "data": {
            "text/plain": [
              "6"
            ]
          },
          "metadata": {},
          "execution_count": 102
        }
      ]
    },
    {
      "cell_type": "markdown",
      "source": [
        "111."
      ],
      "metadata": {
        "id": "4NOsynbUo_Hs"
      }
    },
    {
      "cell_type": "code",
      "source": [],
      "metadata": {
        "id": "LU9nJx-Xppou"
      },
      "execution_count": null,
      "outputs": []
    },
    {
      "cell_type": "code",
      "source": [],
      "metadata": {
        "id": "Acj2N9xfpps9"
      },
      "execution_count": null,
      "outputs": []
    },
    {
      "cell_type": "markdown",
      "source": [
        "112."
      ],
      "metadata": {
        "id": "cv-JXXNxo_id"
      }
    },
    {
      "cell_type": "code",
      "source": [],
      "metadata": {
        "id": "1ZF8uuAepqRW"
      },
      "execution_count": null,
      "outputs": []
    },
    {
      "cell_type": "code",
      "source": [],
      "metadata": {
        "id": "JaFddLNypqVe"
      },
      "execution_count": null,
      "outputs": []
    },
    {
      "cell_type": "markdown",
      "source": [
        "113."
      ],
      "metadata": {
        "id": "1unzvLUKo_xe"
      }
    },
    {
      "cell_type": "code",
      "source": [],
      "metadata": {
        "id": "fQ5Tmc2Kpq1w"
      },
      "execution_count": null,
      "outputs": []
    },
    {
      "cell_type": "code",
      "source": [],
      "metadata": {
        "id": "gyFKC0UXpq5a"
      },
      "execution_count": null,
      "outputs": []
    },
    {
      "cell_type": "code",
      "source": [],
      "metadata": {
        "id": "JrHkNlk6pq87"
      },
      "execution_count": null,
      "outputs": []
    },
    {
      "cell_type": "markdown",
      "source": [
        "114."
      ],
      "metadata": {
        "id": "MhJ50gAIo_4e"
      }
    },
    {
      "cell_type": "code",
      "source": [],
      "metadata": {
        "id": "gvL6lJE2prgH"
      },
      "execution_count": null,
      "outputs": []
    },
    {
      "cell_type": "code",
      "source": [],
      "metadata": {
        "id": "315_bsr_prjt"
      },
      "execution_count": null,
      "outputs": []
    },
    {
      "cell_type": "markdown",
      "source": [
        "115."
      ],
      "metadata": {
        "id": "dMqHUTxMo_8W"
      }
    },
    {
      "cell_type": "code",
      "source": [],
      "metadata": {
        "id": "LyB4jUxspsA3"
      },
      "execution_count": null,
      "outputs": []
    },
    {
      "cell_type": "code",
      "source": [],
      "metadata": {
        "id": "uYQkF7MQpsFM"
      },
      "execution_count": null,
      "outputs": []
    },
    {
      "cell_type": "markdown",
      "source": [
        "116."
      ],
      "metadata": {
        "id": "yVosrn-PpAAb"
      }
    },
    {
      "cell_type": "code",
      "source": [],
      "metadata": {
        "id": "zz-Waj5_psov"
      },
      "execution_count": null,
      "outputs": []
    },
    {
      "cell_type": "code",
      "source": [],
      "metadata": {
        "id": "ct0tf8eqpssQ"
      },
      "execution_count": null,
      "outputs": []
    },
    {
      "cell_type": "markdown",
      "source": [
        "117."
      ],
      "metadata": {
        "id": "sC_Li8TnpKqM"
      }
    },
    {
      "cell_type": "code",
      "source": [],
      "metadata": {
        "id": "-lokIsccptI-"
      },
      "execution_count": null,
      "outputs": []
    },
    {
      "cell_type": "code",
      "source": [],
      "metadata": {
        "id": "gEhZHkhpptM0"
      },
      "execution_count": null,
      "outputs": []
    },
    {
      "cell_type": "markdown",
      "source": [
        "118."
      ],
      "metadata": {
        "id": "fGlkh2f-pKtv"
      }
    },
    {
      "cell_type": "code",
      "source": [],
      "metadata": {
        "id": "0HztGtiLptxu"
      },
      "execution_count": null,
      "outputs": []
    },
    {
      "cell_type": "code",
      "source": [],
      "metadata": {
        "id": "Pso9spYTpt1W"
      },
      "execution_count": null,
      "outputs": []
    },
    {
      "cell_type": "markdown",
      "source": [
        "# 08-07-2022 50 ข้อ"
      ],
      "metadata": {
        "id": "yhBhNCE0pKxa"
      }
    },
    {
      "cell_type": "markdown",
      "source": [
        "22-07-2022"
      ],
      "metadata": {
        "id": "fI1K_vqOn7y9"
      }
    },
    {
      "cell_type": "code",
      "source": [
        "count_prime = 0\n",
        "number = 1\n",
        "while count_prime != 100:\n",
        "    count = 0\n",
        "    for i in range(1,number+1):\n",
        "        if number%i == 0:\n",
        "            count = count+1\n",
        "        if count ==2:\n",
        "            print(number)\n",
        "            count_prime = count_prime +1\n",
        "        number = number+1\n",
        "    print(i)"
      ],
      "metadata": {
        "colab": {
          "base_uri": "https://localhost:8080/",
          "height": 130
        },
        "id": "0RAU-5OHoaE7",
        "outputId": "4bbd87fa-8bc1-4bbf-83b7-cbfb17508dde"
      },
      "execution_count": null,
      "outputs": [
        {
          "output_type": "error",
          "ename": "SyntaxError",
          "evalue": "ignored",
          "traceback": [
            "\u001b[0;36m  File \u001b[0;32m\"<ipython-input-3-2b49d28ba1b9>\"\u001b[0;36m, line \u001b[0;32m3\u001b[0m\n\u001b[0;31m    while count_prime = 100:\u001b[0m\n\u001b[0m                      ^\u001b[0m\n\u001b[0;31mSyntaxError\u001b[0m\u001b[0;31m:\u001b[0m invalid syntax\n"
          ]
        }
      ]
    },
    {
      "cell_type": "code",
      "source": [
        "for i in range(1,100):\n",
        "    if i%3 == 0:\n",
        "      print(i)"
      ],
      "metadata": {
        "colab": {
          "base_uri": "https://localhost:8080/"
        },
        "id": "t068tiOpq_I7",
        "outputId": "690f7d09-e9a3-4a66-c95b-672066439e15"
      },
      "execution_count": null,
      "outputs": [
        {
          "output_type": "stream",
          "name": "stdout",
          "text": [
            "3\n",
            "6\n",
            "9\n",
            "12\n",
            "15\n",
            "18\n",
            "21\n",
            "24\n",
            "27\n",
            "30\n",
            "33\n",
            "36\n",
            "39\n",
            "42\n",
            "45\n",
            "48\n",
            "51\n",
            "54\n",
            "57\n",
            "60\n",
            "63\n",
            "66\n",
            "69\n",
            "72\n",
            "75\n",
            "78\n",
            "81\n",
            "84\n",
            "87\n",
            "90\n",
            "93\n",
            "96\n",
            "99\n"
          ]
        }
      ]
    },
    {
      "cell_type": "code",
      "source": [
        "for i in range(1,100):\n",
        "  if (i%3 == 0) and (i%5 == 0):\n",
        "    print(i)"
      ],
      "metadata": {
        "colab": {
          "base_uri": "https://localhost:8080/"
        },
        "id": "ruXln9McrSvy",
        "outputId": "7e2c37c7-8e30-4316-c5f1-c58bb04e37da"
      },
      "execution_count": null,
      "outputs": [
        {
          "output_type": "stream",
          "name": "stdout",
          "text": [
            "15\n",
            "30\n",
            "45\n",
            "60\n",
            "75\n",
            "90\n"
          ]
        }
      ]
    },
    {
      "cell_type": "code",
      "source": [],
      "metadata": {
        "id": "aHJBfZDxsJeL"
      },
      "execution_count": null,
      "outputs": []
    },
    {
      "cell_type": "code",
      "source": [
        "i = 1\n",
        "while i <= 99:\n",
        "  if (i%3 == 0) and (i%5 == 0):\n",
        "    print(i)\n",
        "  i = i+1"
      ],
      "metadata": {
        "colab": {
          "base_uri": "https://localhost:8080/"
        },
        "id": "RbATYaqQroRB",
        "outputId": "8225a226-f8dc-4311-8f5d-4d932ed5efbb"
      },
      "execution_count": null,
      "outputs": [
        {
          "output_type": "stream",
          "name": "stdout",
          "text": [
            "15\n",
            "30\n",
            "45\n",
            "60\n",
            "75\n",
            "90\n"
          ]
        }
      ]
    },
    {
      "cell_type": "code",
      "source": [
        "for i in range(1,100):\n",
        "  if (i%3 == 0) or (i%5 == 0):\n",
        "    print(i)"
      ],
      "metadata": {
        "colab": {
          "base_uri": "https://localhost:8080/"
        },
        "id": "krp6mHxIsK5h",
        "outputId": "a62b8869-400f-4150-ea22-fd694ca1a09e"
      },
      "execution_count": null,
      "outputs": [
        {
          "output_type": "stream",
          "name": "stdout",
          "text": [
            "3\n",
            "5\n",
            "6\n",
            "9\n",
            "10\n",
            "12\n",
            "15\n",
            "18\n",
            "20\n",
            "21\n",
            "24\n",
            "25\n",
            "27\n",
            "30\n",
            "33\n",
            "35\n",
            "36\n",
            "39\n",
            "40\n",
            "42\n",
            "45\n",
            "48\n",
            "50\n",
            "51\n",
            "54\n",
            "55\n",
            "57\n",
            "60\n",
            "63\n",
            "65\n",
            "66\n",
            "69\n",
            "70\n",
            "72\n",
            "75\n",
            "78\n",
            "80\n",
            "81\n",
            "84\n",
            "85\n",
            "87\n",
            "90\n",
            "93\n",
            "95\n",
            "96\n",
            "99\n"
          ]
        }
      ]
    },
    {
      "cell_type": "code",
      "source": [
        "for i in range(1,1000):\n",
        "  if (i%3 == 0) and (i%5 == 0) and (i%7 == 0):\n",
        "    print(i)"
      ],
      "metadata": {
        "colab": {
          "base_uri": "https://localhost:8080/"
        },
        "id": "5rmCTo1wsRiJ",
        "outputId": "696979e3-0ab7-4e45-9b59-ad919e8350c4"
      },
      "execution_count": null,
      "outputs": [
        {
          "output_type": "stream",
          "name": "stdout",
          "text": [
            "105\n",
            "210\n",
            "315\n",
            "420\n",
            "525\n",
            "630\n",
            "735\n",
            "840\n",
            "945\n"
          ]
        }
      ]
    },
    {
      "cell_type": "code",
      "source": [
        "i = 1\n",
        "while i <= 1000:\n",
        "  if (i%3 == 0) and (i%5 == 0) and (i%7 == 0):\n",
        "    print(i)\n",
        "  i= i+1\n"
      ],
      "metadata": {
        "colab": {
          "base_uri": "https://localhost:8080/"
        },
        "id": "TBTDgQZHsdvx",
        "outputId": "febaf95b-40c5-4f21-bfbf-efd48c82abe6"
      },
      "execution_count": null,
      "outputs": [
        {
          "output_type": "stream",
          "name": "stdout",
          "text": [
            "105\n",
            "210\n",
            "315\n",
            "420\n",
            "525\n",
            "630\n",
            "735\n",
            "840\n",
            "945\n"
          ]
        }
      ]
    },
    {
      "cell_type": "code",
      "source": [
        "for i in range(1,99):\n",
        "  if (i%3 ==0) or (i%5 == 0) or (i%7 == 0):\n",
        "    print(i)"
      ],
      "metadata": {
        "colab": {
          "base_uri": "https://localhost:8080/"
        },
        "id": "kQGCFyY_tBq6",
        "outputId": "b8358c73-bbee-45d9-9aee-999436af69a4"
      },
      "execution_count": null,
      "outputs": [
        {
          "output_type": "stream",
          "name": "stdout",
          "text": [
            "3\n",
            "5\n",
            "6\n",
            "7\n",
            "9\n",
            "10\n",
            "12\n",
            "14\n",
            "15\n",
            "18\n",
            "20\n",
            "21\n",
            "24\n",
            "25\n",
            "27\n",
            "28\n",
            "30\n",
            "33\n",
            "35\n",
            "36\n",
            "39\n",
            "40\n",
            "42\n",
            "45\n",
            "48\n",
            "49\n",
            "50\n",
            "51\n",
            "54\n",
            "55\n",
            "56\n",
            "57\n",
            "60\n",
            "63\n",
            "65\n",
            "66\n",
            "69\n",
            "70\n",
            "72\n",
            "75\n",
            "77\n",
            "78\n",
            "80\n",
            "81\n",
            "84\n",
            "85\n",
            "87\n",
            "90\n",
            "91\n",
            "93\n",
            "95\n",
            "96\n",
            "98\n"
          ]
        }
      ]
    },
    {
      "cell_type": "code",
      "source": [
        "for i in range(1,100):\n",
        "  if i%3 ==0:\n",
        "    if i%5 == 0:\n",
        "      print(i)\n",
        "  else:\n",
        "    if i%5 == 0:\n",
        "      print(i)"
      ],
      "metadata": {
        "colab": {
          "base_uri": "https://localhost:8080/"
        },
        "id": "5-fgFEUyuA7f",
        "outputId": "5b5fe43e-98b2-4fb7-b5be-1a8b0e9bffb2"
      },
      "execution_count": null,
      "outputs": [
        {
          "output_type": "stream",
          "name": "stdout",
          "text": [
            "5\n",
            "10\n",
            "15\n",
            "20\n",
            "25\n",
            "30\n",
            "35\n",
            "40\n",
            "45\n",
            "50\n",
            "55\n",
            "60\n",
            "65\n",
            "70\n",
            "75\n",
            "80\n",
            "85\n",
            "90\n",
            "95\n"
          ]
        }
      ]
    },
    {
      "cell_type": "code",
      "source": [
        "for i in range(1,100):\n",
        "  if (i%3 == 0) and (i%5 ==0):\n",
        "    if i%2 != 0:\n",
        "      print(i)\n"
      ],
      "metadata": {
        "colab": {
          "base_uri": "https://localhost:8080/"
        },
        "id": "8QUrwkPeuxye",
        "outputId": "552a380f-398d-42d0-e8f6-60f69282b94d"
      },
      "execution_count": null,
      "outputs": [
        {
          "output_type": "stream",
          "name": "stdout",
          "text": [
            "15\n",
            "45\n",
            "75\n"
          ]
        }
      ]
    },
    {
      "cell_type": "code",
      "source": [
        "for i in range(1,100):\n",
        "  if (i%3 ==0) or (i%5 ==0):\n",
        "    if i%2 !=0:\n",
        "      print(i)"
      ],
      "metadata": {
        "colab": {
          "base_uri": "https://localhost:8080/"
        },
        "id": "qYhQeKuvvUMk",
        "outputId": "27fe3601-f173-498a-c836-a1c0ad3a952c"
      },
      "execution_count": null,
      "outputs": [
        {
          "output_type": "stream",
          "name": "stdout",
          "text": [
            "3\n",
            "5\n",
            "9\n",
            "15\n",
            "21\n",
            "25\n",
            "27\n",
            "33\n",
            "35\n",
            "39\n",
            "45\n",
            "51\n",
            "55\n",
            "57\n",
            "63\n",
            "65\n",
            "69\n",
            "75\n",
            "81\n",
            "85\n",
            "87\n",
            "93\n",
            "95\n",
            "99\n"
          ]
        }
      ]
    },
    {
      "cell_type": "code",
      "source": [
        "count = 0\n",
        "for i in range(1,1000):\n",
        "  if i%3 ==0:\n",
        "    count = count+1\n",
        "    print(i)"
      ],
      "metadata": {
        "colab": {
          "base_uri": "https://localhost:8080/"
        },
        "id": "QMR_47avvoIu",
        "outputId": "f25a1ec2-f22d-4e2a-962b-40613e0ae5c7"
      },
      "execution_count": null,
      "outputs": [
        {
          "output_type": "stream",
          "name": "stdout",
          "text": [
            "3\n",
            "6\n",
            "9\n",
            "12\n",
            "15\n",
            "18\n",
            "21\n",
            "24\n",
            "27\n",
            "30\n",
            "33\n",
            "36\n",
            "39\n",
            "42\n",
            "45\n",
            "48\n",
            "51\n",
            "54\n",
            "57\n",
            "60\n",
            "63\n",
            "66\n",
            "69\n",
            "72\n",
            "75\n",
            "78\n",
            "81\n",
            "84\n",
            "87\n",
            "90\n",
            "93\n",
            "96\n",
            "99\n",
            "102\n",
            "105\n",
            "108\n",
            "111\n",
            "114\n",
            "117\n",
            "120\n",
            "123\n",
            "126\n",
            "129\n",
            "132\n",
            "135\n",
            "138\n",
            "141\n",
            "144\n",
            "147\n",
            "150\n",
            "153\n",
            "156\n",
            "159\n",
            "162\n",
            "165\n",
            "168\n",
            "171\n",
            "174\n",
            "177\n",
            "180\n",
            "183\n",
            "186\n",
            "189\n",
            "192\n",
            "195\n",
            "198\n",
            "201\n",
            "204\n",
            "207\n",
            "210\n",
            "213\n",
            "216\n",
            "219\n",
            "222\n",
            "225\n",
            "228\n",
            "231\n",
            "234\n",
            "237\n",
            "240\n",
            "243\n",
            "246\n",
            "249\n",
            "252\n",
            "255\n",
            "258\n",
            "261\n",
            "264\n",
            "267\n",
            "270\n",
            "273\n",
            "276\n",
            "279\n",
            "282\n",
            "285\n",
            "288\n",
            "291\n",
            "294\n",
            "297\n",
            "300\n",
            "303\n",
            "306\n",
            "309\n",
            "312\n",
            "315\n",
            "318\n",
            "321\n",
            "324\n",
            "327\n",
            "330\n",
            "333\n",
            "336\n",
            "339\n",
            "342\n",
            "345\n",
            "348\n",
            "351\n",
            "354\n",
            "357\n",
            "360\n",
            "363\n",
            "366\n",
            "369\n",
            "372\n",
            "375\n",
            "378\n",
            "381\n",
            "384\n",
            "387\n",
            "390\n",
            "393\n",
            "396\n",
            "399\n",
            "402\n",
            "405\n",
            "408\n",
            "411\n",
            "414\n",
            "417\n",
            "420\n",
            "423\n",
            "426\n",
            "429\n",
            "432\n",
            "435\n",
            "438\n",
            "441\n",
            "444\n",
            "447\n",
            "450\n",
            "453\n",
            "456\n",
            "459\n",
            "462\n",
            "465\n",
            "468\n",
            "471\n",
            "474\n",
            "477\n",
            "480\n",
            "483\n",
            "486\n",
            "489\n",
            "492\n",
            "495\n",
            "498\n",
            "501\n",
            "504\n",
            "507\n",
            "510\n",
            "513\n",
            "516\n",
            "519\n",
            "522\n",
            "525\n",
            "528\n",
            "531\n",
            "534\n",
            "537\n",
            "540\n",
            "543\n",
            "546\n",
            "549\n",
            "552\n",
            "555\n",
            "558\n",
            "561\n",
            "564\n",
            "567\n",
            "570\n",
            "573\n",
            "576\n",
            "579\n",
            "582\n",
            "585\n",
            "588\n",
            "591\n",
            "594\n",
            "597\n",
            "600\n",
            "603\n",
            "606\n",
            "609\n",
            "612\n",
            "615\n",
            "618\n",
            "621\n",
            "624\n",
            "627\n",
            "630\n",
            "633\n",
            "636\n",
            "639\n",
            "642\n",
            "645\n",
            "648\n",
            "651\n",
            "654\n",
            "657\n",
            "660\n",
            "663\n",
            "666\n",
            "669\n",
            "672\n",
            "675\n",
            "678\n",
            "681\n",
            "684\n",
            "687\n",
            "690\n",
            "693\n",
            "696\n",
            "699\n",
            "702\n",
            "705\n",
            "708\n",
            "711\n",
            "714\n",
            "717\n",
            "720\n",
            "723\n",
            "726\n",
            "729\n",
            "732\n",
            "735\n",
            "738\n",
            "741\n",
            "744\n",
            "747\n",
            "750\n",
            "753\n",
            "756\n",
            "759\n",
            "762\n",
            "765\n",
            "768\n",
            "771\n",
            "774\n",
            "777\n",
            "780\n",
            "783\n",
            "786\n",
            "789\n",
            "792\n",
            "795\n",
            "798\n",
            "801\n",
            "804\n",
            "807\n",
            "810\n",
            "813\n",
            "816\n",
            "819\n",
            "822\n",
            "825\n",
            "828\n",
            "831\n",
            "834\n",
            "837\n",
            "840\n",
            "843\n",
            "846\n",
            "849\n",
            "852\n",
            "855\n",
            "858\n",
            "861\n",
            "864\n",
            "867\n",
            "870\n",
            "873\n",
            "876\n",
            "879\n",
            "882\n",
            "885\n",
            "888\n",
            "891\n",
            "894\n",
            "897\n",
            "900\n",
            "903\n",
            "906\n",
            "909\n",
            "912\n",
            "915\n",
            "918\n",
            "921\n",
            "924\n",
            "927\n",
            "930\n",
            "933\n",
            "936\n",
            "939\n",
            "942\n",
            "945\n",
            "948\n",
            "951\n",
            "954\n",
            "957\n",
            "960\n",
            "963\n",
            "966\n",
            "969\n",
            "972\n",
            "975\n",
            "978\n",
            "981\n",
            "984\n",
            "987\n",
            "990\n",
            "993\n",
            "996\n",
            "999\n"
          ]
        }
      ]
    },
    {
      "cell_type": "code",
      "source": [],
      "metadata": {
        "id": "E_SXNO5PyBVg"
      },
      "execution_count": null,
      "outputs": []
    },
    {
      "cell_type": "code",
      "source": [
        "sumx = 0\n",
        "for i in range(5):\n",
        "  num =int(input('get input:'+str(i+1)))\n",
        "  sumx = sumx+num\n",
        "print(sumx)"
      ],
      "metadata": {
        "colab": {
          "base_uri": "https://localhost:8080/"
        },
        "id": "YDIKVFB4wL4N",
        "outputId": "f2badc1d-30fe-4369-f9ed-eeb3344d4623"
      },
      "execution_count": null,
      "outputs": [
        {
          "output_type": "stream",
          "name": "stdout",
          "text": [
            "get input:11\n",
            "get input:22\n",
            "get input:33\n",
            "get input:44\n",
            "get input:55\n",
            "15\n"
          ]
        }
      ]
    },
    {
      "cell_type": "code",
      "source": [],
      "metadata": {
        "id": "lTaHpBOeyDAW"
      },
      "execution_count": null,
      "outputs": []
    },
    {
      "cell_type": "code",
      "source": [
        "sumx = 0\n",
        "for i in range(1,1000):\n",
        "  if i%3 ==0:\n",
        "    sumx = sumx+1\n",
        "  print(i)"
      ],
      "metadata": {
        "colab": {
          "base_uri": "https://localhost:8080/"
        },
        "id": "qAb1FDgpxJJm",
        "outputId": "be29df9a-133e-4424-881f-d53b8e1200a2"
      },
      "execution_count": null,
      "outputs": [
        {
          "output_type": "stream",
          "name": "stdout",
          "text": [
            "1\n",
            "2\n",
            "3\n",
            "4\n",
            "5\n",
            "6\n",
            "7\n",
            "8\n",
            "9\n",
            "10\n",
            "11\n",
            "12\n",
            "13\n",
            "14\n",
            "15\n",
            "16\n",
            "17\n",
            "18\n",
            "19\n",
            "20\n",
            "21\n",
            "22\n",
            "23\n",
            "24\n",
            "25\n",
            "26\n",
            "27\n",
            "28\n",
            "29\n",
            "30\n",
            "31\n",
            "32\n",
            "33\n",
            "34\n",
            "35\n",
            "36\n",
            "37\n",
            "38\n",
            "39\n",
            "40\n",
            "41\n",
            "42\n",
            "43\n",
            "44\n",
            "45\n",
            "46\n",
            "47\n",
            "48\n",
            "49\n",
            "50\n",
            "51\n",
            "52\n",
            "53\n",
            "54\n",
            "55\n",
            "56\n",
            "57\n",
            "58\n",
            "59\n",
            "60\n",
            "61\n",
            "62\n",
            "63\n",
            "64\n",
            "65\n",
            "66\n",
            "67\n",
            "68\n",
            "69\n",
            "70\n",
            "71\n",
            "72\n",
            "73\n",
            "74\n",
            "75\n",
            "76\n",
            "77\n",
            "78\n",
            "79\n",
            "80\n",
            "81\n",
            "82\n",
            "83\n",
            "84\n",
            "85\n",
            "86\n",
            "87\n",
            "88\n",
            "89\n",
            "90\n",
            "91\n",
            "92\n",
            "93\n",
            "94\n",
            "95\n",
            "96\n",
            "97\n",
            "98\n",
            "99\n",
            "100\n",
            "101\n",
            "102\n",
            "103\n",
            "104\n",
            "105\n",
            "106\n",
            "107\n",
            "108\n",
            "109\n",
            "110\n",
            "111\n",
            "112\n",
            "113\n",
            "114\n",
            "115\n",
            "116\n",
            "117\n",
            "118\n",
            "119\n",
            "120\n",
            "121\n",
            "122\n",
            "123\n",
            "124\n",
            "125\n",
            "126\n",
            "127\n",
            "128\n",
            "129\n",
            "130\n",
            "131\n",
            "132\n",
            "133\n",
            "134\n",
            "135\n",
            "136\n",
            "137\n",
            "138\n",
            "139\n",
            "140\n",
            "141\n",
            "142\n",
            "143\n",
            "144\n",
            "145\n",
            "146\n",
            "147\n",
            "148\n",
            "149\n",
            "150\n",
            "151\n",
            "152\n",
            "153\n",
            "154\n",
            "155\n",
            "156\n",
            "157\n",
            "158\n",
            "159\n",
            "160\n",
            "161\n",
            "162\n",
            "163\n",
            "164\n",
            "165\n",
            "166\n",
            "167\n",
            "168\n",
            "169\n",
            "170\n",
            "171\n",
            "172\n",
            "173\n",
            "174\n",
            "175\n",
            "176\n",
            "177\n",
            "178\n",
            "179\n",
            "180\n",
            "181\n",
            "182\n",
            "183\n",
            "184\n",
            "185\n",
            "186\n",
            "187\n",
            "188\n",
            "189\n",
            "190\n",
            "191\n",
            "192\n",
            "193\n",
            "194\n",
            "195\n",
            "196\n",
            "197\n",
            "198\n",
            "199\n",
            "200\n",
            "201\n",
            "202\n",
            "203\n",
            "204\n",
            "205\n",
            "206\n",
            "207\n",
            "208\n",
            "209\n",
            "210\n",
            "211\n",
            "212\n",
            "213\n",
            "214\n",
            "215\n",
            "216\n",
            "217\n",
            "218\n",
            "219\n",
            "220\n",
            "221\n",
            "222\n",
            "223\n",
            "224\n",
            "225\n",
            "226\n",
            "227\n",
            "228\n",
            "229\n",
            "230\n",
            "231\n",
            "232\n",
            "233\n",
            "234\n",
            "235\n",
            "236\n",
            "237\n",
            "238\n",
            "239\n",
            "240\n",
            "241\n",
            "242\n",
            "243\n",
            "244\n",
            "245\n",
            "246\n",
            "247\n",
            "248\n",
            "249\n",
            "250\n",
            "251\n",
            "252\n",
            "253\n",
            "254\n",
            "255\n",
            "256\n",
            "257\n",
            "258\n",
            "259\n",
            "260\n",
            "261\n",
            "262\n",
            "263\n",
            "264\n",
            "265\n",
            "266\n",
            "267\n",
            "268\n",
            "269\n",
            "270\n",
            "271\n",
            "272\n",
            "273\n",
            "274\n",
            "275\n",
            "276\n",
            "277\n",
            "278\n",
            "279\n",
            "280\n",
            "281\n",
            "282\n",
            "283\n",
            "284\n",
            "285\n",
            "286\n",
            "287\n",
            "288\n",
            "289\n",
            "290\n",
            "291\n",
            "292\n",
            "293\n",
            "294\n",
            "295\n",
            "296\n",
            "297\n",
            "298\n",
            "299\n",
            "300\n",
            "301\n",
            "302\n",
            "303\n",
            "304\n",
            "305\n",
            "306\n",
            "307\n",
            "308\n",
            "309\n",
            "310\n",
            "311\n",
            "312\n",
            "313\n",
            "314\n",
            "315\n",
            "316\n",
            "317\n",
            "318\n",
            "319\n",
            "320\n",
            "321\n",
            "322\n",
            "323\n",
            "324\n",
            "325\n",
            "326\n",
            "327\n",
            "328\n",
            "329\n",
            "330\n",
            "331\n",
            "332\n",
            "333\n",
            "334\n",
            "335\n",
            "336\n",
            "337\n",
            "338\n",
            "339\n",
            "340\n",
            "341\n",
            "342\n",
            "343\n",
            "344\n",
            "345\n",
            "346\n",
            "347\n",
            "348\n",
            "349\n",
            "350\n",
            "351\n",
            "352\n",
            "353\n",
            "354\n",
            "355\n",
            "356\n",
            "357\n",
            "358\n",
            "359\n",
            "360\n",
            "361\n",
            "362\n",
            "363\n",
            "364\n",
            "365\n",
            "366\n",
            "367\n",
            "368\n",
            "369\n",
            "370\n",
            "371\n",
            "372\n",
            "373\n",
            "374\n",
            "375\n",
            "376\n",
            "377\n",
            "378\n",
            "379\n",
            "380\n",
            "381\n",
            "382\n",
            "383\n",
            "384\n",
            "385\n",
            "386\n",
            "387\n",
            "388\n",
            "389\n",
            "390\n",
            "391\n",
            "392\n",
            "393\n",
            "394\n",
            "395\n",
            "396\n",
            "397\n",
            "398\n",
            "399\n",
            "400\n",
            "401\n",
            "402\n",
            "403\n",
            "404\n",
            "405\n",
            "406\n",
            "407\n",
            "408\n",
            "409\n",
            "410\n",
            "411\n",
            "412\n",
            "413\n",
            "414\n",
            "415\n",
            "416\n",
            "417\n",
            "418\n",
            "419\n",
            "420\n",
            "421\n",
            "422\n",
            "423\n",
            "424\n",
            "425\n",
            "426\n",
            "427\n",
            "428\n",
            "429\n",
            "430\n",
            "431\n",
            "432\n",
            "433\n",
            "434\n",
            "435\n",
            "436\n",
            "437\n",
            "438\n",
            "439\n",
            "440\n",
            "441\n",
            "442\n",
            "443\n",
            "444\n",
            "445\n",
            "446\n",
            "447\n",
            "448\n",
            "449\n",
            "450\n",
            "451\n",
            "452\n",
            "453\n",
            "454\n",
            "455\n",
            "456\n",
            "457\n",
            "458\n",
            "459\n",
            "460\n",
            "461\n",
            "462\n",
            "463\n",
            "464\n",
            "465\n",
            "466\n",
            "467\n",
            "468\n",
            "469\n",
            "470\n",
            "471\n",
            "472\n",
            "473\n",
            "474\n",
            "475\n",
            "476\n",
            "477\n",
            "478\n",
            "479\n",
            "480\n",
            "481\n",
            "482\n",
            "483\n",
            "484\n",
            "485\n",
            "486\n",
            "487\n",
            "488\n",
            "489\n",
            "490\n",
            "491\n",
            "492\n",
            "493\n",
            "494\n",
            "495\n",
            "496\n",
            "497\n",
            "498\n",
            "499\n",
            "500\n",
            "501\n",
            "502\n",
            "503\n",
            "504\n",
            "505\n",
            "506\n",
            "507\n",
            "508\n",
            "509\n",
            "510\n",
            "511\n",
            "512\n",
            "513\n",
            "514\n",
            "515\n",
            "516\n",
            "517\n",
            "518\n",
            "519\n",
            "520\n",
            "521\n",
            "522\n",
            "523\n",
            "524\n",
            "525\n",
            "526\n",
            "527\n",
            "528\n",
            "529\n",
            "530\n",
            "531\n",
            "532\n",
            "533\n",
            "534\n",
            "535\n",
            "536\n",
            "537\n",
            "538\n",
            "539\n",
            "540\n",
            "541\n",
            "542\n",
            "543\n",
            "544\n",
            "545\n",
            "546\n",
            "547\n",
            "548\n",
            "549\n",
            "550\n",
            "551\n",
            "552\n",
            "553\n",
            "554\n",
            "555\n",
            "556\n",
            "557\n",
            "558\n",
            "559\n",
            "560\n",
            "561\n",
            "562\n",
            "563\n",
            "564\n",
            "565\n",
            "566\n",
            "567\n",
            "568\n",
            "569\n",
            "570\n",
            "571\n",
            "572\n",
            "573\n",
            "574\n",
            "575\n",
            "576\n",
            "577\n",
            "578\n",
            "579\n",
            "580\n",
            "581\n",
            "582\n",
            "583\n",
            "584\n",
            "585\n",
            "586\n",
            "587\n",
            "588\n",
            "589\n",
            "590\n",
            "591\n",
            "592\n",
            "593\n",
            "594\n",
            "595\n",
            "596\n",
            "597\n",
            "598\n",
            "599\n",
            "600\n",
            "601\n",
            "602\n",
            "603\n",
            "604\n",
            "605\n",
            "606\n",
            "607\n",
            "608\n",
            "609\n",
            "610\n",
            "611\n",
            "612\n",
            "613\n",
            "614\n",
            "615\n",
            "616\n",
            "617\n",
            "618\n",
            "619\n",
            "620\n",
            "621\n",
            "622\n",
            "623\n",
            "624\n",
            "625\n",
            "626\n",
            "627\n",
            "628\n",
            "629\n",
            "630\n",
            "631\n",
            "632\n",
            "633\n",
            "634\n",
            "635\n",
            "636\n",
            "637\n",
            "638\n",
            "639\n",
            "640\n",
            "641\n",
            "642\n",
            "643\n",
            "644\n",
            "645\n",
            "646\n",
            "647\n",
            "648\n",
            "649\n",
            "650\n",
            "651\n",
            "652\n",
            "653\n",
            "654\n",
            "655\n",
            "656\n",
            "657\n",
            "658\n",
            "659\n",
            "660\n",
            "661\n",
            "662\n",
            "663\n",
            "664\n",
            "665\n",
            "666\n",
            "667\n",
            "668\n",
            "669\n",
            "670\n",
            "671\n",
            "672\n",
            "673\n",
            "674\n",
            "675\n",
            "676\n",
            "677\n",
            "678\n",
            "679\n",
            "680\n",
            "681\n",
            "682\n",
            "683\n",
            "684\n",
            "685\n",
            "686\n",
            "687\n",
            "688\n",
            "689\n",
            "690\n",
            "691\n",
            "692\n",
            "693\n",
            "694\n",
            "695\n",
            "696\n",
            "697\n",
            "698\n",
            "699\n",
            "700\n",
            "701\n",
            "702\n",
            "703\n",
            "704\n",
            "705\n",
            "706\n",
            "707\n",
            "708\n",
            "709\n",
            "710\n",
            "711\n",
            "712\n",
            "713\n",
            "714\n",
            "715\n",
            "716\n",
            "717\n",
            "718\n",
            "719\n",
            "720\n",
            "721\n",
            "722\n",
            "723\n",
            "724\n",
            "725\n",
            "726\n",
            "727\n",
            "728\n",
            "729\n",
            "730\n",
            "731\n",
            "732\n",
            "733\n",
            "734\n",
            "735\n",
            "736\n",
            "737\n",
            "738\n",
            "739\n",
            "740\n",
            "741\n",
            "742\n",
            "743\n",
            "744\n",
            "745\n",
            "746\n",
            "747\n",
            "748\n",
            "749\n",
            "750\n",
            "751\n",
            "752\n",
            "753\n",
            "754\n",
            "755\n",
            "756\n",
            "757\n",
            "758\n",
            "759\n",
            "760\n",
            "761\n",
            "762\n",
            "763\n",
            "764\n",
            "765\n",
            "766\n",
            "767\n",
            "768\n",
            "769\n",
            "770\n",
            "771\n",
            "772\n",
            "773\n",
            "774\n",
            "775\n",
            "776\n",
            "777\n",
            "778\n",
            "779\n",
            "780\n",
            "781\n",
            "782\n",
            "783\n",
            "784\n",
            "785\n",
            "786\n",
            "787\n",
            "788\n",
            "789\n",
            "790\n",
            "791\n",
            "792\n",
            "793\n",
            "794\n",
            "795\n",
            "796\n",
            "797\n",
            "798\n",
            "799\n",
            "800\n",
            "801\n",
            "802\n",
            "803\n",
            "804\n",
            "805\n",
            "806\n",
            "807\n",
            "808\n",
            "809\n",
            "810\n",
            "811\n",
            "812\n",
            "813\n",
            "814\n",
            "815\n",
            "816\n",
            "817\n",
            "818\n",
            "819\n",
            "820\n",
            "821\n",
            "822\n",
            "823\n",
            "824\n",
            "825\n",
            "826\n",
            "827\n",
            "828\n",
            "829\n",
            "830\n",
            "831\n",
            "832\n",
            "833\n",
            "834\n",
            "835\n",
            "836\n",
            "837\n",
            "838\n",
            "839\n",
            "840\n",
            "841\n",
            "842\n",
            "843\n",
            "844\n",
            "845\n",
            "846\n",
            "847\n",
            "848\n",
            "849\n",
            "850\n",
            "851\n",
            "852\n",
            "853\n",
            "854\n",
            "855\n",
            "856\n",
            "857\n",
            "858\n",
            "859\n",
            "860\n",
            "861\n",
            "862\n",
            "863\n",
            "864\n",
            "865\n",
            "866\n",
            "867\n",
            "868\n",
            "869\n",
            "870\n",
            "871\n",
            "872\n",
            "873\n",
            "874\n",
            "875\n",
            "876\n",
            "877\n",
            "878\n",
            "879\n",
            "880\n",
            "881\n",
            "882\n",
            "883\n",
            "884\n",
            "885\n",
            "886\n",
            "887\n",
            "888\n",
            "889\n",
            "890\n",
            "891\n",
            "892\n",
            "893\n",
            "894\n",
            "895\n",
            "896\n",
            "897\n",
            "898\n",
            "899\n",
            "900\n",
            "901\n",
            "902\n",
            "903\n",
            "904\n",
            "905\n",
            "906\n",
            "907\n",
            "908\n",
            "909\n",
            "910\n",
            "911\n",
            "912\n",
            "913\n",
            "914\n",
            "915\n",
            "916\n",
            "917\n",
            "918\n",
            "919\n",
            "920\n",
            "921\n",
            "922\n",
            "923\n",
            "924\n",
            "925\n",
            "926\n",
            "927\n",
            "928\n",
            "929\n",
            "930\n",
            "931\n",
            "932\n",
            "933\n",
            "934\n",
            "935\n",
            "936\n",
            "937\n",
            "938\n",
            "939\n",
            "940\n",
            "941\n",
            "942\n",
            "943\n",
            "944\n",
            "945\n",
            "946\n",
            "947\n",
            "948\n",
            "949\n",
            "950\n",
            "951\n",
            "952\n",
            "953\n",
            "954\n",
            "955\n",
            "956\n",
            "957\n",
            "958\n",
            "959\n",
            "960\n",
            "961\n",
            "962\n",
            "963\n",
            "964\n",
            "965\n",
            "966\n",
            "967\n",
            "968\n",
            "969\n",
            "970\n",
            "971\n",
            "972\n",
            "973\n",
            "974\n",
            "975\n",
            "976\n",
            "977\n",
            "978\n",
            "979\n",
            "980\n",
            "981\n",
            "982\n",
            "983\n",
            "984\n",
            "985\n",
            "986\n",
            "987\n",
            "988\n",
            "989\n",
            "990\n",
            "991\n",
            "992\n",
            "993\n",
            "994\n",
            "995\n",
            "996\n",
            "997\n",
            "998\n",
            "999\n"
          ]
        }
      ]
    },
    {
      "cell_type": "code",
      "source": [
        "sumx =0\n",
        "for i in range(5):\n",
        "  if i <=5:\n",
        "    num =float(input('get input No:'+str(i+1)+' คือ '))\n",
        "    sumx = num+1\n",
        "    print(sumx)"
      ],
      "metadata": {
        "colab": {
          "base_uri": "https://localhost:8080/"
        },
        "id": "GowNc8l0yD0G",
        "outputId": "c96b7364-e4bc-4ae5-f32a-39bedd842e4f"
      },
      "execution_count": null,
      "outputs": [
        {
          "output_type": "stream",
          "name": "stdout",
          "text": [
            "get input No:1 คือ 1\n",
            "2.0\n",
            "get input No:2 คือ 2\n",
            "3.0\n",
            "get input No:3 คือ 3\n",
            "4.0\n",
            "get input No:4 คือ 4\n",
            "5.0\n",
            "get input No:5 คือ 5\n",
            "6.0\n"
          ]
        }
      ]
    },
    {
      "cell_type": "code",
      "source": [
        "number = int(input('get input:'))\n",
        "for i in  range(1,number+1):\n",
        "  if number%i ==0:\n",
        "    print(i)\n",
        "\n"
      ],
      "metadata": {
        "colab": {
          "base_uri": "https://localhost:8080/"
        },
        "id": "BcF2rVyqzTPv",
        "outputId": "974ece6c-d96f-468a-dcac-b874d49b58fe"
      },
      "execution_count": null,
      "outputs": [
        {
          "output_type": "stream",
          "name": "stdout",
          "text": [
            "get input:4\n",
            "1\n",
            "2\n",
            "4\n"
          ]
        }
      ]
    },
    {
      "cell_type": "code",
      "source": [
        "for number in range(1,100):\n",
        "  count = 0\n",
        "  for i in range(1,number+1):\n",
        "    if number%1 == 0:\n",
        "      count = count+1\n",
        "      if count ==2:\n",
        "        print(number)\n"
      ],
      "metadata": {
        "colab": {
          "base_uri": "https://localhost:8080/"
        },
        "id": "VbqlebuZpXl_",
        "outputId": "c788a42f-062a-4afd-822e-65d635203605"
      },
      "execution_count": null,
      "outputs": [
        {
          "output_type": "stream",
          "name": "stdout",
          "text": [
            "2\n",
            "3\n",
            "4\n",
            "5\n",
            "6\n",
            "7\n",
            "8\n",
            "9\n",
            "10\n",
            "11\n",
            "12\n",
            "13\n",
            "14\n",
            "15\n",
            "16\n",
            "17\n",
            "18\n",
            "19\n",
            "20\n",
            "21\n",
            "22\n",
            "23\n",
            "24\n",
            "25\n",
            "26\n",
            "27\n",
            "28\n",
            "29\n",
            "30\n",
            "31\n",
            "32\n",
            "33\n",
            "34\n",
            "35\n",
            "36\n",
            "37\n",
            "38\n",
            "39\n",
            "40\n",
            "41\n",
            "42\n",
            "43\n",
            "44\n",
            "45\n",
            "46\n",
            "47\n",
            "48\n",
            "49\n",
            "50\n",
            "51\n",
            "52\n",
            "53\n",
            "54\n",
            "55\n",
            "56\n",
            "57\n",
            "58\n",
            "59\n",
            "60\n",
            "61\n",
            "62\n",
            "63\n",
            "64\n",
            "65\n",
            "66\n",
            "67\n",
            "68\n",
            "69\n",
            "70\n",
            "71\n",
            "72\n",
            "73\n",
            "74\n",
            "75\n",
            "76\n",
            "77\n",
            "78\n",
            "79\n",
            "80\n",
            "81\n",
            "82\n",
            "83\n",
            "84\n",
            "85\n",
            "86\n",
            "87\n",
            "88\n",
            "89\n",
            "90\n",
            "91\n",
            "92\n",
            "93\n",
            "94\n",
            "95\n",
            "96\n",
            "97\n",
            "98\n",
            "99\n"
          ]
        }
      ]
    },
    {
      "cell_type": "code",
      "source": [
        "count_prime = 0\n",
        "number = 1\n",
        "while count_prime != 100:\n",
        "  count = 0\n",
        "  for i in range(1,number+1):\n",
        "    if number%i ==0:\n",
        "      count = count+1\n",
        "  if count == 2:\n",
        "      count_prime = count_prime+1\n",
        "      print(number,'= จำนวนเฉพาะตัวที่',count_prime)\n",
        "  number = number+1"
      ],
      "metadata": {
        "colab": {
          "base_uri": "https://localhost:8080/"
        },
        "id": "XYLxFoLx1xhR",
        "outputId": "113419e2-8b25-4417-dff8-e594acf42a49"
      },
      "execution_count": null,
      "outputs": [
        {
          "output_type": "stream",
          "name": "stdout",
          "text": [
            "2 = จำนวนเฉพาะตัวที่ 1\n",
            "3 = จำนวนเฉพาะตัวที่ 2\n",
            "5 = จำนวนเฉพาะตัวที่ 3\n",
            "7 = จำนวนเฉพาะตัวที่ 4\n",
            "11 = จำนวนเฉพาะตัวที่ 5\n",
            "13 = จำนวนเฉพาะตัวที่ 6\n",
            "17 = จำนวนเฉพาะตัวที่ 7\n",
            "19 = จำนวนเฉพาะตัวที่ 8\n",
            "23 = จำนวนเฉพาะตัวที่ 9\n",
            "29 = จำนวนเฉพาะตัวที่ 10\n",
            "31 = จำนวนเฉพาะตัวที่ 11\n",
            "37 = จำนวนเฉพาะตัวที่ 12\n",
            "41 = จำนวนเฉพาะตัวที่ 13\n",
            "43 = จำนวนเฉพาะตัวที่ 14\n",
            "47 = จำนวนเฉพาะตัวที่ 15\n",
            "53 = จำนวนเฉพาะตัวที่ 16\n",
            "59 = จำนวนเฉพาะตัวที่ 17\n",
            "61 = จำนวนเฉพาะตัวที่ 18\n",
            "67 = จำนวนเฉพาะตัวที่ 19\n",
            "71 = จำนวนเฉพาะตัวที่ 20\n",
            "73 = จำนวนเฉพาะตัวที่ 21\n",
            "79 = จำนวนเฉพาะตัวที่ 22\n",
            "83 = จำนวนเฉพาะตัวที่ 23\n",
            "89 = จำนวนเฉพาะตัวที่ 24\n",
            "97 = จำนวนเฉพาะตัวที่ 25\n",
            "101 = จำนวนเฉพาะตัวที่ 26\n",
            "103 = จำนวนเฉพาะตัวที่ 27\n",
            "107 = จำนวนเฉพาะตัวที่ 28\n",
            "109 = จำนวนเฉพาะตัวที่ 29\n",
            "113 = จำนวนเฉพาะตัวที่ 30\n",
            "127 = จำนวนเฉพาะตัวที่ 31\n",
            "131 = จำนวนเฉพาะตัวที่ 32\n",
            "137 = จำนวนเฉพาะตัวที่ 33\n",
            "139 = จำนวนเฉพาะตัวที่ 34\n",
            "149 = จำนวนเฉพาะตัวที่ 35\n",
            "151 = จำนวนเฉพาะตัวที่ 36\n",
            "157 = จำนวนเฉพาะตัวที่ 37\n",
            "163 = จำนวนเฉพาะตัวที่ 38\n",
            "167 = จำนวนเฉพาะตัวที่ 39\n",
            "173 = จำนวนเฉพาะตัวที่ 40\n",
            "179 = จำนวนเฉพาะตัวที่ 41\n",
            "181 = จำนวนเฉพาะตัวที่ 42\n",
            "191 = จำนวนเฉพาะตัวที่ 43\n",
            "193 = จำนวนเฉพาะตัวที่ 44\n",
            "197 = จำนวนเฉพาะตัวที่ 45\n",
            "199 = จำนวนเฉพาะตัวที่ 46\n",
            "211 = จำนวนเฉพาะตัวที่ 47\n",
            "223 = จำนวนเฉพาะตัวที่ 48\n",
            "227 = จำนวนเฉพาะตัวที่ 49\n",
            "229 = จำนวนเฉพาะตัวที่ 50\n",
            "233 = จำนวนเฉพาะตัวที่ 51\n",
            "239 = จำนวนเฉพาะตัวที่ 52\n",
            "241 = จำนวนเฉพาะตัวที่ 53\n",
            "251 = จำนวนเฉพาะตัวที่ 54\n",
            "257 = จำนวนเฉพาะตัวที่ 55\n",
            "263 = จำนวนเฉพาะตัวที่ 56\n",
            "269 = จำนวนเฉพาะตัวที่ 57\n",
            "271 = จำนวนเฉพาะตัวที่ 58\n",
            "277 = จำนวนเฉพาะตัวที่ 59\n",
            "281 = จำนวนเฉพาะตัวที่ 60\n",
            "283 = จำนวนเฉพาะตัวที่ 61\n",
            "293 = จำนวนเฉพาะตัวที่ 62\n",
            "307 = จำนวนเฉพาะตัวที่ 63\n",
            "311 = จำนวนเฉพาะตัวที่ 64\n",
            "313 = จำนวนเฉพาะตัวที่ 65\n",
            "317 = จำนวนเฉพาะตัวที่ 66\n",
            "331 = จำนวนเฉพาะตัวที่ 67\n",
            "337 = จำนวนเฉพาะตัวที่ 68\n",
            "347 = จำนวนเฉพาะตัวที่ 69\n",
            "349 = จำนวนเฉพาะตัวที่ 70\n",
            "353 = จำนวนเฉพาะตัวที่ 71\n",
            "359 = จำนวนเฉพาะตัวที่ 72\n",
            "367 = จำนวนเฉพาะตัวที่ 73\n",
            "373 = จำนวนเฉพาะตัวที่ 74\n",
            "379 = จำนวนเฉพาะตัวที่ 75\n",
            "383 = จำนวนเฉพาะตัวที่ 76\n",
            "389 = จำนวนเฉพาะตัวที่ 77\n",
            "397 = จำนวนเฉพาะตัวที่ 78\n",
            "401 = จำนวนเฉพาะตัวที่ 79\n",
            "409 = จำนวนเฉพาะตัวที่ 80\n",
            "419 = จำนวนเฉพาะตัวที่ 81\n",
            "421 = จำนวนเฉพาะตัวที่ 82\n",
            "431 = จำนวนเฉพาะตัวที่ 83\n",
            "433 = จำนวนเฉพาะตัวที่ 84\n",
            "439 = จำนวนเฉพาะตัวที่ 85\n",
            "443 = จำนวนเฉพาะตัวที่ 86\n",
            "449 = จำนวนเฉพาะตัวที่ 87\n",
            "457 = จำนวนเฉพาะตัวที่ 88\n",
            "461 = จำนวนเฉพาะตัวที่ 89\n",
            "463 = จำนวนเฉพาะตัวที่ 90\n",
            "467 = จำนวนเฉพาะตัวที่ 91\n",
            "479 = จำนวนเฉพาะตัวที่ 92\n",
            "487 = จำนวนเฉพาะตัวที่ 93\n",
            "491 = จำนวนเฉพาะตัวที่ 94\n",
            "499 = จำนวนเฉพาะตัวที่ 95\n",
            "503 = จำนวนเฉพาะตัวที่ 96\n",
            "509 = จำนวนเฉพาะตัวที่ 97\n",
            "521 = จำนวนเฉพาะตัวที่ 98\n",
            "523 = จำนวนเฉพาะตัวที่ 99\n",
            "541 = จำนวนเฉพาะตัวที่ 100\n"
          ]
        }
      ]
    },
    {
      "cell_type": "code",
      "source": [],
      "metadata": {
        "id": "bim54TVS2Sdv"
      },
      "execution_count": null,
      "outputs": []
    },
    {
      "cell_type": "markdown",
      "source": [
        "**02082022**"
      ],
      "metadata": {
        "id": "yTt_r5VHjMo3"
      }
    },
    {
      "cell_type": "code",
      "source": [
        "def addition(a,b):\n",
        "  return a+b"
      ],
      "metadata": {
        "id": "ivY0iw3CjRcd"
      },
      "execution_count": null,
      "outputs": []
    },
    {
      "cell_type": "code",
      "source": [
        "addition(18,32)"
      ],
      "metadata": {
        "colab": {
          "base_uri": "https://localhost:8080/"
        },
        "id": "hdbkIs-ZjRi8",
        "outputId": "ffc7b057-c7db-48b9-f70b-9793abfd8c96"
      },
      "execution_count": null,
      "outputs": [
        {
          "output_type": "execute_result",
          "data": {
            "text/plain": [
              "50"
            ]
          },
          "metadata": {},
          "execution_count": 6
        }
      ]
    },
    {
      "cell_type": "code",
      "source": [
        "def addition3(a,b,c):\n",
        "  return a + b + c\n"
      ],
      "metadata": {
        "id": "r78faoskjRmt"
      },
      "execution_count": null,
      "outputs": []
    },
    {
      "cell_type": "code",
      "source": [
        "addition3(10,20,25)"
      ],
      "metadata": {
        "colab": {
          "base_uri": "https://localhost:8080/"
        },
        "id": "3RPYTQi0jRpf",
        "outputId": "24f9281f-f862-4c97-d08c-440e5b8261da"
      },
      "execution_count": null,
      "outputs": [
        {
          "output_type": "execute_result",
          "data": {
            "text/plain": [
              "55"
            ]
          },
          "metadata": {},
          "execution_count": 11
        }
      ]
    },
    {
      "cell_type": "code",
      "source": [
        "def square(a) :\n",
        "  return a**2"
      ],
      "metadata": {
        "id": "jTciY5UCjRtb"
      },
      "execution_count": null,
      "outputs": []
    },
    {
      "cell_type": "code",
      "source": [
        "square(25)"
      ],
      "metadata": {
        "colab": {
          "base_uri": "https://localhost:8080/"
        },
        "id": "D0kKpwIHlXCc",
        "outputId": "0f5466e4-5aa5-4274-ce92-43d2080aff1f"
      },
      "execution_count": null,
      "outputs": [
        {
          "output_type": "execute_result",
          "data": {
            "text/plain": [
              "625"
            ]
          },
          "metadata": {},
          "execution_count": 13
        }
      ]
    },
    {
      "cell_type": "code",
      "source": [
        "def square_list(listA):\n",
        "  square = []\n",
        "  for a in listA:\n",
        "    square.append(a**2)\n",
        "    return square"
      ],
      "metadata": {
        "id": "gsgKz12ZlcWI"
      },
      "execution_count": null,
      "outputs": []
    },
    {
      "cell_type": "code",
      "source": [
        "square_list[1,2,3,4,5]"
      ],
      "metadata": {
        "colab": {
          "base_uri": "https://localhost:8080/",
          "height": 165
        },
        "id": "k0176msclcZU",
        "outputId": "a4abaf07-90f6-47f0-8ba5-8b34d2911c37"
      },
      "execution_count": null,
      "outputs": [
        {
          "output_type": "error",
          "ename": "TypeError",
          "evalue": "ignored",
          "traceback": [
            "\u001b[0;31m---------------------------------------------------------------------------\u001b[0m",
            "\u001b[0;31mTypeError\u001b[0m                                 Traceback (most recent call last)",
            "\u001b[0;32m<ipython-input-21-68eac7cd1e62>\u001b[0m in \u001b[0;36m<module>\u001b[0;34m()\u001b[0m\n\u001b[0;32m----> 1\u001b[0;31m \u001b[0msquare_list\u001b[0m\u001b[0;34m[\u001b[0m\u001b[0;36m1\u001b[0m\u001b[0;34m,\u001b[0m\u001b[0;36m2\u001b[0m\u001b[0;34m,\u001b[0m\u001b[0;36m3\u001b[0m\u001b[0;34m,\u001b[0m\u001b[0;36m4\u001b[0m\u001b[0;34m,\u001b[0m\u001b[0;36m5\u001b[0m\u001b[0;34m]\u001b[0m\u001b[0;34m\u001b[0m\u001b[0;34m\u001b[0m\u001b[0m\n\u001b[0m",
            "\u001b[0;31mTypeError\u001b[0m: 'function' object is not subscriptable"
          ]
        }
      ]
    },
    {
      "cell_type": "code",
      "source": [],
      "metadata": {
        "id": "Wcv1ucF-lcci"
      },
      "execution_count": null,
      "outputs": []
    },
    {
      "cell_type": "code",
      "source": [],
      "metadata": {
        "id": "0Hiztx2tlcfa"
      },
      "execution_count": null,
      "outputs": []
    },
    {
      "cell_type": "code",
      "source": [],
      "metadata": {
        "id": "DGYNHqmPlcjH"
      },
      "execution_count": null,
      "outputs": []
    }
  ]
}